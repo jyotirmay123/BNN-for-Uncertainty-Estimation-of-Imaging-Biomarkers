{
 "cells": [
  {
   "cell_type": "code",
   "execution_count": 4,
   "metadata": {},
   "outputs": [
    {
     "name": "stderr",
     "output_type": "stream",
     "text": [
      "/home/abhijit/anaconda3/lib/python3.7/site-packages/sklearn/utils/__init__.py:4: DeprecationWarning: Using or importing the ABCs from 'collections' instead of from 'collections.abc' is deprecated, and in 3.8 it will stop working\n",
      "  from collections import Sequence\n",
      "/home/abhijit/anaconda3/lib/python3.7/site-packages/sklearn/model_selection/_split.py:18: DeprecationWarning: Using or importing the ABCs from 'collections' instead of from 'collections.abc' is deprecated, and in 3.8 it will stop working\n",
      "  from collections import Iterable\n"
     ]
    }
   ],
   "source": [
    "import pandas as pd\n",
    "import matplotlib.pyplot as plt\n",
    "import numpy as np \n",
    "import glob\n",
    "import nibabel as nb\n",
    "import itertools\n",
    "import json\n",
    "import sys\n",
    "import statsmodels.api as sm\n",
    "from statsmodels.formula.api import ols, wls\n",
    "from statsmodels.formula.api import mixedlm\n",
    "from patsy.contrasts import Treatment\n",
    "\n",
    "from scipy import stats\n",
    "from sklearn.linear_model import LogisticRegression\n",
    "from sklearn.preprocessing import OneHotEncoder\n",
    "from sklearn.linear_model import LinearRegression\n",
    "from statsmodels.sandbox.regression.predstd import wls_prediction_std\n",
    "from statsmodels.iolib.table import (SimpleTable, default_txt_fmt)\n",
    "\n",
    "from sklearn.feature_selection import SelectKBest, SelectPercentile, SelectFdr\n",
    "from sklearn.feature_selection import f_regression, mutual_info_regression\n",
    "\n",
    "import seaborn as sns\n",
    "sns.set(style=\"whitegrid\")\n",
    "\n",
    "import warnings\n",
    "warnings.filterwarnings('ignore')\n",
    "%matplotlib inline\n",
    "np.random.seed(1024)"
   ]
  },
  {
   "cell_type": "code",
   "execution_count": 2,
   "metadata": {},
   "outputs": [],
   "source": [
    "base_dir = '/home/abhijit/Jyotirmay/my_thesis'"
   ]
  },
  {
   "cell_type": "code",
   "execution_count": 3,
   "metadata": {},
   "outputs": [],
   "source": [
    "smoking_feats = ['smoker_former', 'smoker_irregular', 'smoker_non_smoker', 'smoker_regular', 'smoking-packages']\n",
    "bmi_feats = ['bmi-who_normal', 'bmi-who_obesity class I', 'bmi-who_obesity class II', 'bmi-who_obesity class III',\n",
    "            'bmi_numeric', 'bmi-who_pre-obisety']\n",
    "blood_pressure_feats = ['blood-pressure-diastolic', 'blood-pressure-systolic']\n",
    "cholesterol_feats = ['cholesterol-hdl', 'cholesterol-ldl', 'cholesterol-total']\n",
    "mri_feats = ['mri-liver-fat-artifacts', 'mri-liver-fat-lobus-dexter', \n",
    "             'mri-liver-fat-lobus-sinister', 'mri-liver-fat-portal-vein']\n",
    "alcohol_feats = ['alcohol-g/day']\n",
    "hbalc_feats = ['hba1c-mmol/mol', 'hba1c-percentage']\n",
    "medication_feats = ['meds-antidiabetic', 'meds-antihypertensive', 'meds-incretin-mimetics', 'meds-insulin-therapy',\n",
    "                    'meds-lipoprotein-lowering', 'meds-oral-antidiabetic']\n",
    "triglyceride = ['triglyceride']\n",
    "hypertension = ['hypertension']\n",
    "basic_feats = ['age', 'height', 'sex', 'weight']\n",
    "\n",
    "vols_feat = ['seg_liver', 'seg_spleen']\n",
    "spleen_sample_cols = ['0_spleen','1_spleen','2_spleen','3_spleen','4_spleen','5_spleen','6_spleen','7_spleen','8_spleen','9_spleen']\n",
    "liver_sample_cols = ['0_liver','1_liver','2_liver','3_liver','4_liver','5_liver','6_liver','7_liver','8_liver','9_liver']\n",
    "\n",
    "feats_from_paper_for_group_test = [['age', 'sex', 'bmi_numeric'],\n",
    "             ['diabetes_status_0', 'diabetes_status_1', 'diabetes_status_2'], ['hypertension'], ['triglyceride'],\n",
    "             ['cholesterol_hdl', 'cholesterol_ldl'],\n",
    "             ['mri_liver_fat_artifacts', 'mri_liver_fat_lobus_dexter', \n",
    "              'mri_liver_fat_lobus_sinister', 'mri_liver_fat_portal_vein'],\n",
    "             ['meds_lipoprotein_lowering'],\n",
    "             ['smoker_former', 'smoker_non_smoker', 'smoker_regular']]\n",
    "\n",
    "feats_from_paper_for_group_test_no_categorisation = [['age', 'sex', 'bmi_numeric'],\n",
    "             ['diabetes_status'], ['hypertension'], ['triglyceride'],\n",
    "             ['cholesterol_hdl', 'cholesterol_ldl'],\n",
    "             ['mri_liver_fat_artifacts', 'mri_liver_fat_lobus_dexter', \n",
    "              'mri_liver_fat_lobus_sinister', 'mri_liver_fat_portal_vein'],\n",
    "             ['meds_lipoprotein_lowering'],\n",
    "             ['smoker_former', 'smoker_non_smoker', 'smoker_regular']]\n",
    "\n",
    "feats_from_paper_for_individual_test = [['age', 'sex', 'bmi_numeric'],\n",
    "             ['diabetes_status_0', 'diabetes_status_1', 'diabetes_status_2'], ['hypertension'], ['triglyceride'],\n",
    "             ['blood_pressure_diastolic', 'blood_pressure_systolic'],\n",
    "             ['cholesterol_hdl', 'cholesterol_ldl', 'cholesterol_total'],\n",
    "             ['mri_liver_fat_artifacts', 'mri_liver_fat_lobus_dexter', \n",
    "              'mri_liver_fat_lobus_sinister', 'mri_liver_fat_portal_vein'],\n",
    "             ['meds_lipoprotein_lowering', 'meds_antihypertensive'],\n",
    "             ['smoker_former', 'smoker_non_smoker', 'smoker_regular'], ['alcohol_g_day']]\n",
    "\n",
    "feats_from_paper_for_individual_test_ukb = [['age', 'sex', 'bmi_numeric'],\n",
    "              ['med_cholesterol_lowering', 'med_blood_pressure', 'med_insulin'], \n",
    "             ['diabetes_gestational', 'diabetes_typeI', 'diabetes_typeII', 'diabetes_insipidus']]\n",
    "\n",
    "paper_link = 'https://journals.plos.org/plosone/article/file?id=10.1371/journal.pone.0177154&type=printable'"
   ]
  },
  {
   "cell_type": "code",
   "execution_count": 3,
   "metadata": {},
   "outputs": [],
   "source": [
    "model_merged_feats_path = [\n",
    "    {'full_bayesian': './projects/full_bayesian/reports/full_bayesian_KORA_v2/KORA/10_1571866968.4002764_concat_report_final.csv'},\n",
    "    {'full_bayesian_0dot01': './projects/full_bayesian/reports/full_bayesian_KORA_v4/KORA/10_1572514598.527084_concat_report_final.csv'},\n",
    "    {'MC_dropout_quicknat': './projects/MC_dropout_quicknat/reports/MC_dropout_quicknat_KORA_v2/KORA/10_1572006141.7793334_concat_report_final.csv'}, \n",
    "    {'probabilistic_quicknat': './projects/probabilistic_quicknat/reports/probabilistic_quicknat_KORA_v2/KORA/10_1571996796.7963011_concat_report_final.csv'}, \n",
    "    {'hierarchical_quicknat': './projects/hierarchical_quicknat/reports/hierarchical_quicknat_KORA_v2/KORA/10_1571905560.9377904_concat_report_final.csv'}\n",
    "]\n",
    "all_dataset_merged_feats_path = [\n",
    "    {'all_KORA_processed_False': '/home/abhijit/Jyotirmay/my_thesis/dataset_groups/whole_body_datasets/KORA/all_processed_False_concat_report_final.csv'}, \n",
    "    {'all_KORA_processed_True': '/home/abhijit/Jyotirmay/my_thesis/dataset_groups/whole_body_datasets/KORA/all_processed_True_concat_report_final.csv'}\n",
    "]\n",
    "\n",
    "test_dataset_merged_feats_path = [\n",
    "    {'test_KORA_processed_False': '/home/abhijit/Jyotirmay/my_thesis/dataset_groups/whole_body_datasets/KORA/test_processed_False_concat_report_final.csv'}, \n",
    "    {'test_KORA_processed_True': '/home/abhijit/Jyotirmay/my_thesis/dataset_groups/whole_body_datasets/KORA/test_processed_True_concat_report_final.csv'}\n",
    "]\n",
    "\n",
    "all_paths = [\n",
    "    {'full_bayesian': './projects/full_bayesian/reports/full_bayesian_KORA_v2/KORA/10_1571866968.4002764_concat_report_final.csv'},\n",
    "    {'full_bayesian_0dot01': './projects/full_bayesian/reports/full_bayesian_KORA_v4/KORA/10_1572514598.527084_concat_report_final.csv'},\n",
    "    {'MC_dropout_quicknat': './projects/MC_dropout_quicknat/reports/MC_dropout_quicknat_KORA_v2/KORA/10_1572006141.7793334_concat_report_final.csv'}, \n",
    "    {'probabilistic_quicknat': './projects/probabilistic_quicknat/reports/probabilistic_quicknat_KORA_v2/KORA/10_1571996796.7963011_concat_report_final.csv'}, \n",
    "    {'hierarchical_quicknat': './projects/hierarchical_quicknat/reports/hierarchical_quicknat_KORA_v2/KORA/10_1571905560.9377904_concat_report_final.csv'},\n",
    "    {'all_KORA_processed_False': '/home/abhijit/Jyotirmay/my_thesis/dataset_groups/whole_body_datasets/KORA/all_processed_False_concat_report_final.csv'}, \n",
    "    {'all_KORA_processed_True': '/home/abhijit/Jyotirmay/my_thesis/dataset_groups/whole_body_datasets/KORA/all_processed_True_concat_report_final.csv'},\n",
    "    {'test_KORA_processed_False': '/home/abhijit/Jyotirmay/my_thesis/dataset_groups/whole_body_datasets/KORA/test_processed_False_concat_report_final.csv'}, \n",
    "    {'test_KORA_processed_True': '/home/abhijit/Jyotirmay/my_thesis/dataset_groups/whole_body_datasets/KORA/test_processed_True_concat_report_final.csv'}\n",
    "]\n",
    "\n",
    "final_model_report_path = [\n",
    "    {'full_bayesian': './projects/full_bayesian/reports/full_bayesian_KORA_v2/KORA/10_1571866968.4002764_final_report.csv'},\n",
    "    {'full_bayesian_0dot01': './projects/full_bayesian/reports/full_bayesian_KORA_v4/KORA/10_1572514598.527084_final_report.csv'},\n",
    "    {'MC_dropout_quicknat': './projects/MC_dropout_quicknat/reports/MC_dropout_quicknat_KORA_v2/KORA/10_1572006141.7793334_final_report.csv'}, \n",
    "    {'probabilistic_quicknat': './projects/probabilistic_quicknat/reports/probabilistic_quicknat_KORA_v2/KORA/10_1571996796.7963011_final_report.csv'}, \n",
    "    {'hierarchical_quicknat': './projects/hierarchical_quicknat/reports/hierarchical_quicknat_KORA_v2/KORA/10_1571905560.9377904_final_report.csv'}\n",
    "]\n",
    "\n",
    "ukb_paths = [\n",
    "    {'MC_dropout_quicknat': './projects/MC_dropout_quicknat/reports/MC_dropout_quicknat_UKB_v2/UKB/0_0.0_concat_report_final.csv'},\n",
    "    {'probabilistic_quicknat': '/home/abhijit/Jyotirmay/my_thesis/projects/probabilistic_quicknat/reports/probabilistic_quicknat_UKB_v2/UKB/10_1573834823.1121247_concat_report_final.csv'}\n",
    "]\n",
    "\n",
    "fb = 'full_bayesian'\n",
    "fb01 = 'full_bayesian_0dot01'\n",
    "mc = 'MC_dropout_quicknat'\n",
    "pq = 'probabilistic_quicknat'\n",
    "hq = 'hierarchical_quicknat'\n",
    "af = 'all_KORA_processed_False'\n",
    "at = 'all_KORA_processed_True'\n",
    "tf = 'test_KORA_processed_False'\n",
    "tt = 'test_KORA_processed_True'"
   ]
  },
  {
   "cell_type": "code",
   "execution_count": 16,
   "metadata": {},
   "outputs": [],
   "source": [
    "def plot_model_outputs(x, y, model_res, model_label='OLS', df=None):\n",
    "    fig, ax = plt.subplots(figsize=(18,16))\n",
    "    ax = sns.violinplot(x=\"diabetes_status\", y=model_res.fittedvalues,\n",
    "                   data=df, palette=\"Set2\", split=True,\n",
    "                   scale=\"count\", inner=\"quartile\")\n",
    "    plt.show()"
   ]
  },
  {
   "cell_type": "code",
   "execution_count": 17,
   "metadata": {},
   "outputs": [],
   "source": [
    "def pick_good(df):\n",
    "#     df = df[df.iou_mean>0.8]\n",
    "    return df"
   ]
  },
  {
   "cell_type": "code",
   "execution_count": 8,
   "metadata": {},
   "outputs": [],
   "source": [
    "flatten = lambda l: [item for sublist in l for item in sublist]\n",
    "\n",
    "def transform_to_categorical(df, categorical_features_list):\n",
    "    for f in categorical_features_list:\n",
    "        dfDummies = pd.get_dummies(df[f], prefix = f)\n",
    "        df = pd.concat([df, dfDummies], axis=1)\n",
    "    return df\n",
    "\n",
    "def rename(df, cols_map=None):\n",
    "    if cols_map is None:\n",
    "        cols_map =  {'bmi-numeric':'bmi_numeric', 'blood-pressure-diastolic':'blood_pressure_diastolic', 'blood-pressure-systolic':'blood_pressure_systolic',\n",
    "             'cholesterol-hdl':'cholesterol_hdl', 'cholesterol-ldl':'cholesterol_ldl', 'cholesterol-total':'cholesterol_total',\n",
    "             'mri-liver-fat-artifacts':'mri_liver_fat_artifacts', 'mri-liver-fat-lobus-dexter':'mri_liver_fat_lobus_dexter', \n",
    "              'mri-liver-fat-lobus-sinister':'mri_liver_fat_lobus_sinister', 'mri-liver-fat-portal-vein':'mri_liver_fat_portal_vein',\n",
    "             'meds-lipoprotein-lowering':'meds_lipoprotein_lowering', 'meds-antihypertensive':'meds_antihypertensive',\n",
    "              'smoker_non-smoker':'smoker_non_smoker','alcohol-g/day':'alcohol_g_day'}\n",
    "    df.rename(columns=cols_map, inplace=True)\n",
    "    return df\n",
    "\n",
    "def z_score_column_normalise(df, column_list):\n",
    "    normalised_cols_map = {}\n",
    "    for column in column_list:\n",
    "        normalised_cols_map[column] = column+'_normalised'\n",
    "        df[normalised_cols_map[column]] = (df[column] - df[column].mean())/df[column].std(ddof=0)\n",
    "    return df, normalised_cols_map\n",
    "\n",
    "def z_score_group_normalise(df, cols_to_normalise):\n",
    "    normalised_cols_map = {}\n",
    "    group_cols_value = df[cols_to_normalise].values\n",
    "    mean, std = np.mean(group_cols_value), np.std(group_cols_value, ddof=0)\n",
    "    for column in cols_to_normalise:\n",
    "        normalised_cols_map[column] = column+'_normalised'\n",
    "        df[normalised_cols_map[column]] = (df[column] - mean)/std\n",
    "    return df, normalised_cols_map\n",
    "\n",
    "def pre_process_for_mlm(df, to_be_transpose_cols, value_name):\n",
    "    cols = list(df.columns)\n",
    "    cols_without_tobe_transposed_cols = list(set(cols) - set(to_be_transpose_cols))\n",
    "    df = df.melt(id_vars=cols_without_tobe_transposed_cols, \n",
    "            value_vars=to_be_transpose_cols, \n",
    "            value_name=value_name)\n",
    "\n",
    "    return df"
   ]
  },
  {
   "cell_type": "code",
   "execution_count": 9,
   "metadata": {},
   "outputs": [],
   "source": [
    "def split_diabetes_state(df):\n",
    "    df_normal = df[df['diabetes_status']==0]\n",
    "    df_diabetic = df[df['diabetes_status']==1]\n",
    "#     df_diabetic = df[df['diabetes_status']==2]\n",
    "    df_normal_affx = df_normal.rename(columns=lambda x: 'normal_'+x)\n",
    "#     df_pre_diabetic_affx = df_pre_diabetic.rename(columns=lambda x: 'pre_diabetic_'+x)\n",
    "    df_diabetic_affx = df_diabetic.rename(columns=lambda x: 'diabetic_'+x)\n",
    "    dfs = pd.concat([df_normal_affx, df_diabetic_affx])\n",
    "    return dfs\n",
    "\n",
    "def plot_and_ttest(df, cols):\n",
    "    dicts = {}\n",
    "    for col_subset in itertools.combinations(cols, 2):\n",
    "        print(f'{col_subset[0]} vs {col_subset[1]}')\n",
    "        df[list(col_subset)].boxplot(rot=45)\n",
    "        t,p = stats.ttest_ind(df[col_subset[0]].dropna().values, df[col_subset[1]].dropna().values)\n",
    "\n",
    "        print('ttest_score:', t)\n",
    "        print('p_value:', p)\n",
    "        print('\\n')\n",
    "        dicts[f'{col_subset[0]} vs {col_subset[1]}'] = p\n",
    "        plt.show()\n",
    "    return dicts"
   ]
  },
  {
   "cell_type": "code",
   "execution_count": 10,
   "metadata": {},
   "outputs": [],
   "source": [
    "def model_evaluation_matrics(file_paths_dict, cols_to_fetch):\n",
    "    dicts = {}\n",
    "    for model, path in file_paths_dict.items():\n",
    "        df = pd.read_csv(path)\n",
    "        df = pick_good(df)\n",
    "        dicts[model] = df[cols_to_fetch].iloc[1:].mean(axis=0)\n",
    "    return dicts"
   ]
  },
  {
   "cell_type": "code",
   "execution_count": 11,
   "metadata": {},
   "outputs": [],
   "source": [
    "def individual_feature_stats(feats, df, target_col, categorical_feats=['diabetes_status', 'sex']):\n",
    "    p_values = {}\n",
    "    for f in feats:\n",
    "        try:\n",
    "            features_string = f'1+C({f}, Treatment)' if f in categorical_feats else f'1+{f}'\n",
    "            fii = ols(f'{target_col} ~ {features_string}', df).fit()\n",
    "            feat_dict = fii.pvalues.to_dict()\n",
    "            for k, v in feat_dict.items():\n",
    "                p_values[k] = v\n",
    "        except Exception as e:\n",
    "            print(e)\n",
    "\n",
    "    return p_values"
   ]
  },
  {
   "cell_type": "code",
   "execution_count": 12,
   "metadata": {},
   "outputs": [],
   "source": [
    "\n",
    "significance_check = lambda x: False if x>0.05 else True\n",
    "def group_feature_stats(features_string, df, target_col):\n",
    "    p_values, fii = None, None\n",
    "    try:\n",
    "        fii = ols(f'{target_col} ~ {features_string}', df).fit()\n",
    "        p_values = fii.pvalues.to_dict()\n",
    "    except Exception as e:\n",
    "        print(e)\n",
    "\n",
    "    return p_values, fii\n"
   ]
  },
  {
   "cell_type": "code",
   "execution_count": 13,
   "metadata": {},
   "outputs": [],
   "source": [
    "\n",
    "def make_feature_string(feats, categorical_cols=[]):\n",
    "    feat_str = '1+'\n",
    "    for c_col in categorical_cols:\n",
    "        if type(c_col) is tuple:\n",
    "            if c_col[0] not in feats:\n",
    "#                 print(f'{c_col} is not present in given feature list, SKIPPING IT!')\n",
    "                continue\n",
    "            feat_str += f'C({c_col[0]}, Treatment(reference={c_col[1]}))+'\n",
    "            c_col = c_col[0]\n",
    "        else:\n",
    "            if c_col not in feats:\n",
    "#                 print(f'{c_col} is not present in given feature list, SKIPPING IT!')\n",
    "                continue\n",
    "            feat_str += f'C({c_col}, Treatment)+'\n",
    "        feats.remove(c_col)\n",
    "    \n",
    "    other_feats_str = '+'.join(feats)\n",
    "    if other_feats_str is '':\n",
    "        final_feat_str = feat_str[:-1]\n",
    "    else:\n",
    "        final_feat_str = feat_str + other_feats_str\n",
    "\n",
    "    return final_feat_str\n",
    "    \n",
    "\n",
    "def normal_group_fit(df, target_col, features_string):\n",
    "    model = ols(f'{target_col} ~ {features_string}', df).fit()\n",
    "    plot_model_outputs(df['bmi_numeric'].values, df[target_col].values, model, 'OLS')\n",
    "    return model\n",
    "\n",
    "def weighted_group_feats(df, target_col, features_string, alpha_col):\n",
    "    alpha = df[alpha_col].values\n",
    "    model = wls(f'{target_col} ~ {features_string}', df, weights=(1/(1-alpha+0.0001))).fit()\n",
    "    return model\n",
    "\n",
    "def normal_mixed_effect_model(df, target_col, features_string, group_col, L1_wt=None):\n",
    "    if L1_wt is None:\n",
    "        model = mixedlm(f'{target_col} ~ {features_string}', df, groups=df[group_col]).fit()\n",
    "    else:\n",
    "        model = mixedlm(f'{target_col} ~ {features_string}', df, groups=df[group_col]).fit_regularized(L1_wt=L1_wt)\n",
    "    return model\n",
    "\n",
    "def anova_test(ols_model):\n",
    "    anova_stats = sm.stats.anova_lm(ols_model)\n",
    "    return anova_stats"
   ]
  },
  {
   "cell_type": "code",
   "execution_count": 14,
   "metadata": {},
   "outputs": [],
   "source": [
    "def gathering_p_values():\n",
    "    pass"
   ]
  },
  {
   "cell_type": "code",
   "execution_count": 15,
   "metadata": {},
   "outputs": [],
   "source": [
    "def df_from_nested_dicts(dicts):\n",
    "    df = pd.concat({k+'_'+kk: pd.concat({kk:pd.DataFrame(vv, index=[0]).T}, axis=1) for k, v in dicts.items() for kk, vv in v.items()}, axis=1)\n",
    "    return df\n",
    "\n",
    "def df_from_nested_dicts_group(dicts):\n",
    "    df = pd.concat({k+'_'+kk: pd.concat({kk:pd.DataFrame(vv, index=[0]).T}, axis=1) for k, v in dicts.items() for kk, vv in v.items()}, axis=1)\n",
    "    return df\n",
    "\n",
    "def highlight_significance(df, threshold=0.05):\n",
    "    return df.style.applymap(lambda x: 'background-color : yellow' if x==True or x<threshold else '')"
   ]
  },
  {
   "cell_type": "code",
   "execution_count": 6,
   "metadata": {},
   "outputs": [],
   "source": [
    "model_merged_feats_path_combined = {key:val for d in all_paths for key,val in d.items()}\n",
    "only_models_final_report_path = {key:val for d in final_model_report_path for key,val in d.items()}\n",
    "ukb_paths_conbined = {key:val for d in ukb_paths for key,val in d.items()}"
   ]
  },
  {
   "cell_type": "markdown",
   "metadata": {},
   "source": [
    "# Activate only on UKB data analysis"
   ]
  },
  {
   "cell_type": "code",
   "execution_count": 16,
   "metadata": {},
   "outputs": [],
   "source": [
    "only_models_final_report_path = ukb_paths_conbined\n",
    "model_merged_feats_path_combined = ukb_paths_conbined\n",
    "feats_from_paper_for_individual_test = feats_from_paper_for_individual_test_ukb\n",
    "feats_from_paper_for_group_test = feats_from_paper_for_individual_test_ukb\n",
    "feats_from_paper_for_group_test_no_categorisation = feats_from_paper_for_individual_test_ukb"
   ]
  },
  {
   "cell_type": "markdown",
   "metadata": {},
   "source": [
    "# Model Evaluations"
   ]
  },
  {
   "cell_type": "code",
   "execution_count": 17,
   "metadata": {},
   "outputs": [
    {
     "data": {
      "text/html": [
       "<div>\n",
       "<style scoped>\n",
       "    .dataframe tbody tr th:only-of-type {\n",
       "        vertical-align: middle;\n",
       "    }\n",
       "\n",
       "    .dataframe tbody tr th {\n",
       "        vertical-align: top;\n",
       "    }\n",
       "\n",
       "    .dataframe thead th {\n",
       "        text-align: right;\n",
       "    }\n",
       "</style>\n",
       "<table border=\"1\" class=\"dataframe\">\n",
       "  <thead>\n",
       "    <tr style=\"text-align: right;\">\n",
       "      <th></th>\n",
       "      <th>sncc</th>\n",
       "      <th>ged</th>\n",
       "      <th>iou_spleen</th>\n",
       "      <th>iou_liver</th>\n",
       "      <th>dice_spleen</th>\n",
       "      <th>dice_liver</th>\n",
       "      <th>surface_distance_avg_spleen</th>\n",
       "      <th>surface_distance_avg_liver</th>\n",
       "    </tr>\n",
       "  </thead>\n",
       "  <tbody>\n",
       "    <tr>\n",
       "      <th>MC_dropout_quicknat</th>\n",
       "      <td>NaN</td>\n",
       "      <td>NaN</td>\n",
       "      <td>0.730973</td>\n",
       "      <td>0.807269</td>\n",
       "      <td>NaN</td>\n",
       "      <td>NaN</td>\n",
       "      <td>NaN</td>\n",
       "      <td>NaN</td>\n",
       "    </tr>\n",
       "    <tr>\n",
       "      <th>probabilistic_quicknat</th>\n",
       "      <td>NaN</td>\n",
       "      <td>NaN</td>\n",
       "      <td>0.934133</td>\n",
       "      <td>0.967882</td>\n",
       "      <td>NaN</td>\n",
       "      <td>NaN</td>\n",
       "      <td>NaN</td>\n",
       "      <td>NaN</td>\n",
       "    </tr>\n",
       "  </tbody>\n",
       "</table>\n",
       "</div>"
      ],
      "text/plain": [
       "                        sncc  ged  iou_spleen  iou_liver  dice_spleen  \\\n",
       "MC_dropout_quicknat      NaN  NaN    0.730973   0.807269          NaN   \n",
       "probabilistic_quicknat   NaN  NaN    0.934133   0.967882          NaN   \n",
       "\n",
       "                        dice_liver  surface_distance_avg_spleen  \\\n",
       "MC_dropout_quicknat            NaN                          NaN   \n",
       "probabilistic_quicknat         NaN                          NaN   \n",
       "\n",
       "                        surface_distance_avg_liver  \n",
       "MC_dropout_quicknat                            NaN  \n",
       "probabilistic_quicknat                         NaN  "
      ]
     },
     "execution_count": 17,
     "metadata": {},
     "output_type": "execute_result"
    }
   ],
   "source": [
    "cols_to_fetch = ['sncc', 'ged', 'iou_spleen', 'iou_liver', 'dice_spleen',\n",
    "       'dice_liver', 'surface_distance_avg_spleen', 'surface_distance_avg_liver']\n",
    "dicts = model_evaluation_matrics(only_models_final_report_path, cols_to_fetch)\n",
    "df_model_eval = pd.DataFrame.from_dict(dicts)\n",
    "df_model_eval = df_model_eval.T\n",
    "# df_model_eval.columns = cols_to_fetch\n",
    "df_model_eval"
   ]
  },
  {
   "cell_type": "markdown",
   "metadata": {},
   "source": [
    "# Feature Selection"
   ]
  },
  {
   "cell_type": "code",
   "execution_count": 18,
   "metadata": {},
   "outputs": [],
   "source": [
    "def choose_best_features(df, feats, target_col, alpha=0.05):\n",
    "    if df['model_name'].values[0].split('_')[0] == 'probabilistic':\n",
    "        return choose_best_features_percentile(df, feats, target_col)\n",
    "    X, y = df[feats], df[target_col]\n",
    "    columns = X.columns.values\n",
    "#     feat_selection_model = SelectPercentile(f_regression, percentile=percentile).fit(X, y)\n",
    "    feat_selection_model = SelectFdr(f_regression, alpha=alpha).fit(X, y)\n",
    "#     print(feat_selection_model.pvalues_, feat_selection_model.scores_)\n",
    "    col_mask = feat_selection_model.get_support()\n",
    "    return columns[col_mask]\n",
    "\n",
    "def choose_best_features_percentile(df, feats, target_col, percentile=50):\n",
    "    X, y = df[feats], df[target_col]\n",
    "    columns = X.columns.values\n",
    "    feat_selection_model = SelectPercentile(f_regression, percentile=percentile).fit(X, y)\n",
    "#     feat_selection_model = SelectFdr(f_regression, alpha=alpha).fit(X, y)\n",
    "#     print(feat_selection_model.pvalues_, feat_selection_model.scores_)\n",
    "    col_mask = feat_selection_model.get_support()\n",
    "    return columns[col_mask]\n",
    "    "
   ]
  },
  {
   "cell_type": "code",
   "execution_count": 19,
   "metadata": {},
   "outputs": [],
   "source": [
    "df = pd.read_csv('./projects/MC_dropout_quicknat/reports/MC_dropout_quicknat_KORA_v2/KORA/10_1572006141.7793334_concat_report_final.csv', index_col=0)\n",
    "df = rename(df)\n",
    "df = transform_to_categorical(df, ['diabetes_status'])\n",
    "df, normalised_cols = z_score_column_normalise(df, ['seg_spleen', 'seg_liver'])\n",
    "df = df.fillna(0)\n",
    "# X, y = df[flatten(feats_from_paper_for_individual_test)], df.seg_liver_normalised\n",
    "# columns = X.columns.values\n",
    "\n",
    "# x_kbest_fregress = SelectKBest(f_regression, k=12).fit(X, y)\n",
    "# x_kbest_mutual_info_regress = SelectKBest(mutual_info_regression, k=12).fit(X, y)\n",
    "# x_percentile_fregress = SelectPercentile(f_regression, percentile=50).fit(X, y)\n",
    "# x_percentile__mutual_info_regress  = SelectPercentile(mutual_info_regression, percentile=50).fit(X, y)\n",
    "\n",
    "# x_kbest_fregress_mask = x_kbest_fregress.get_support()\n",
    "# x_kbest_mutual_info_regress_mask = x_kbest_mutual_info_regress.get_support()\n",
    "# x_percentile_fregress_mask = x_percentile_fregress.get_support()\n",
    "# x_percentile__mutual_info_regress_mask = x_percentile__mutual_info_regress.get_support()\n",
    "\n",
    "\n",
    "# print(columns[x_kbest_fregress_mask])\n",
    "# print(columns[x_kbest_mutual_info_regress_mask])\n",
    "# print(columns[x_percentile_fregress_mask])\n",
    "# print(columns[x_percentile__mutual_info_regress_mask])\n",
    "\n",
    "# choose_best_features(df, flatten(feats_from_paper_for_group_test_no_categorisation), 'seg_liver_normalised')"
   ]
  },
  {
   "cell_type": "markdown",
   "metadata": {},
   "source": [
    "# Individual feats stats test"
   ]
  },
  {
   "cell_type": "code",
   "execution_count": 20,
   "metadata": {},
   "outputs": [
    {
     "data": {
      "text/html": [
       "<style  type=\"text/css\" >\n",
       "    #T_ce0c3cea_0a03_11ea_9404_086266810e12row0_col0 {\n",
       "            background-color :  yellow;\n",
       "        }    #T_ce0c3cea_0a03_11ea_9404_086266810e12row0_col3 {\n",
       "            background-color :  yellow;\n",
       "        }    #T_ce0c3cea_0a03_11ea_9404_086266810e12row0_col5 {\n",
       "            background-color :  yellow;\n",
       "        }    #T_ce0c3cea_0a03_11ea_9404_086266810e12row0_col6 {\n",
       "            background-color :  yellow;\n",
       "        }    #T_ce0c3cea_0a03_11ea_9404_086266810e12row1_col0 {\n",
       "            background-color :  yellow;\n",
       "        }    #T_ce0c3cea_0a03_11ea_9404_086266810e12row1_col2 {\n",
       "            background-color :  yellow;\n",
       "        }    #T_ce0c3cea_0a03_11ea_9404_086266810e12row1_col3 {\n",
       "            background-color :  yellow;\n",
       "        }    #T_ce0c3cea_0a03_11ea_9404_086266810e12row1_col5 {\n",
       "            background-color :  yellow;\n",
       "        }    #T_ce0c3cea_0a03_11ea_9404_086266810e12row1_col6 {\n",
       "            background-color :  yellow;\n",
       "        }</style><table id=\"T_ce0c3cea_0a03_11ea_9404_086266810e12\" ><thead>    <tr>        <th class=\"blank\" ></th>        <th class=\"blank\" ></th>        <th class=\"blank level0\" ></th>        <th class=\"col_heading level0 col0\" >C(sex, Treatment)[T.1]</th>        <th class=\"col_heading level0 col1\" >Intercept</th>        <th class=\"col_heading level0 col2\" >age</th>        <th class=\"col_heading level0 col3\" >bmi_numeric</th>        <th class=\"col_heading level0 col4\" >diabetes_insipidus</th>        <th class=\"col_heading level0 col5\" >med_blood_pressure</th>        <th class=\"col_heading level0 col6\" >med_cholesterol_lowering</th>        <th class=\"col_heading level0 col7\" >med_insulin</th>    </tr></thead><tbody>\n",
       "                <tr>\n",
       "                        <th id=\"T_ce0c3cea_0a03_11ea_9404_086266810e12level0_row0\" class=\"row_heading level0 row0\" >MC_dropout_quicknat_seg_spleen_normalised</th>\n",
       "                        <th id=\"T_ce0c3cea_0a03_11ea_9404_086266810e12level1_row0\" class=\"row_heading level1 row0\" >seg_spleen_normalised</th>\n",
       "                        <th id=\"T_ce0c3cea_0a03_11ea_9404_086266810e12level2_row0\" class=\"row_heading level2 row0\" >0</th>\n",
       "                        <td id=\"T_ce0c3cea_0a03_11ea_9404_086266810e12row0_col0\" class=\"data row0 col0\" >9.11626e-23</td>\n",
       "                        <td id=\"T_ce0c3cea_0a03_11ea_9404_086266810e12row0_col1\" class=\"data row0 col1\" >0.0533381</td>\n",
       "                        <td id=\"T_ce0c3cea_0a03_11ea_9404_086266810e12row0_col2\" class=\"data row0 col2\" >0.00504703</td>\n",
       "                        <td id=\"T_ce0c3cea_0a03_11ea_9404_086266810e12row0_col3\" class=\"data row0 col3\" >1.61473e-29</td>\n",
       "                        <td id=\"T_ce0c3cea_0a03_11ea_9404_086266810e12row0_col4\" class=\"data row0 col4\" >nan</td>\n",
       "                        <td id=\"T_ce0c3cea_0a03_11ea_9404_086266810e12row0_col5\" class=\"data row0 col5\" >1.71699e-07</td>\n",
       "                        <td id=\"T_ce0c3cea_0a03_11ea_9404_086266810e12row0_col6\" class=\"data row0 col6\" >1.08716e-08</td>\n",
       "                        <td id=\"T_ce0c3cea_0a03_11ea_9404_086266810e12row0_col7\" class=\"data row0 col7\" >nan</td>\n",
       "            </tr>\n",
       "            <tr>\n",
       "                        <th id=\"T_ce0c3cea_0a03_11ea_9404_086266810e12level0_row1\" class=\"row_heading level0 row1\" >MC_dropout_quicknat_seg_liver_normalised</th>\n",
       "                        <th id=\"T_ce0c3cea_0a03_11ea_9404_086266810e12level1_row1\" class=\"row_heading level1 row1\" >seg_liver_normalised</th>\n",
       "                        <th id=\"T_ce0c3cea_0a03_11ea_9404_086266810e12level2_row1\" class=\"row_heading level2 row1\" >0</th>\n",
       "                        <td id=\"T_ce0c3cea_0a03_11ea_9404_086266810e12row1_col0\" class=\"data row1 col0\" >1.25103e-15</td>\n",
       "                        <td id=\"T_ce0c3cea_0a03_11ea_9404_086266810e12row1_col1\" class=\"data row1 col1\" >0.0845391</td>\n",
       "                        <td id=\"T_ce0c3cea_0a03_11ea_9404_086266810e12row1_col2\" class=\"data row1 col2\" >1.10605e-06</td>\n",
       "                        <td id=\"T_ce0c3cea_0a03_11ea_9404_086266810e12row1_col3\" class=\"data row1 col3\" >1.46892e-55</td>\n",
       "                        <td id=\"T_ce0c3cea_0a03_11ea_9404_086266810e12row1_col4\" class=\"data row1 col4\" >nan</td>\n",
       "                        <td id=\"T_ce0c3cea_0a03_11ea_9404_086266810e12row1_col5\" class=\"data row1 col5\" >3.0528e-06</td>\n",
       "                        <td id=\"T_ce0c3cea_0a03_11ea_9404_086266810e12row1_col6\" class=\"data row1 col6\" >4.39144e-08</td>\n",
       "                        <td id=\"T_ce0c3cea_0a03_11ea_9404_086266810e12row1_col7\" class=\"data row1 col7\" >nan</td>\n",
       "            </tr>\n",
       "            <tr>\n",
       "                        <th id=\"T_ce0c3cea_0a03_11ea_9404_086266810e12level0_row2\" class=\"row_heading level0 row2\" >probabilistic_quicknat_seg_spleen_normalised</th>\n",
       "                        <th id=\"T_ce0c3cea_0a03_11ea_9404_086266810e12level1_row2\" class=\"row_heading level1 row2\" >seg_spleen_normalised</th>\n",
       "                        <th id=\"T_ce0c3cea_0a03_11ea_9404_086266810e12level2_row2\" class=\"row_heading level2 row2\" >0</th>\n",
       "                        <td id=\"T_ce0c3cea_0a03_11ea_9404_086266810e12row2_col0\" class=\"data row2 col0\" >nan</td>\n",
       "                        <td id=\"T_ce0c3cea_0a03_11ea_9404_086266810e12row2_col1\" class=\"data row2 col1\" >0.990865</td>\n",
       "                        <td id=\"T_ce0c3cea_0a03_11ea_9404_086266810e12row2_col2\" class=\"data row2 col2\" >0.0181829</td>\n",
       "                        <td id=\"T_ce0c3cea_0a03_11ea_9404_086266810e12row2_col3\" class=\"data row2 col3\" >0.318374</td>\n",
       "                        <td id=\"T_ce0c3cea_0a03_11ea_9404_086266810e12row2_col4\" class=\"data row2 col4\" >0.581421</td>\n",
       "                        <td id=\"T_ce0c3cea_0a03_11ea_9404_086266810e12row2_col5\" class=\"data row2 col5\" >0.42182</td>\n",
       "                        <td id=\"T_ce0c3cea_0a03_11ea_9404_086266810e12row2_col6\" class=\"data row2 col6\" >0.548333</td>\n",
       "                        <td id=\"T_ce0c3cea_0a03_11ea_9404_086266810e12row2_col7\" class=\"data row2 col7\" >nan</td>\n",
       "            </tr>\n",
       "            <tr>\n",
       "                        <th id=\"T_ce0c3cea_0a03_11ea_9404_086266810e12level0_row3\" class=\"row_heading level0 row3\" >probabilistic_quicknat_seg_liver_normalised</th>\n",
       "                        <th id=\"T_ce0c3cea_0a03_11ea_9404_086266810e12level1_row3\" class=\"row_heading level1 row3\" >seg_liver_normalised</th>\n",
       "                        <th id=\"T_ce0c3cea_0a03_11ea_9404_086266810e12level2_row3\" class=\"row_heading level2 row3\" >0</th>\n",
       "                        <td id=\"T_ce0c3cea_0a03_11ea_9404_086266810e12row3_col0\" class=\"data row3 col0\" >0.400955</td>\n",
       "                        <td id=\"T_ce0c3cea_0a03_11ea_9404_086266810e12row3_col1\" class=\"data row3 col1\" >0.976191</td>\n",
       "                        <td id=\"T_ce0c3cea_0a03_11ea_9404_086266810e12row3_col2\" class=\"data row3 col2\" >0.151509</td>\n",
       "                        <td id=\"T_ce0c3cea_0a03_11ea_9404_086266810e12row3_col3\" class=\"data row3 col3\" >0.260808</td>\n",
       "                        <td id=\"T_ce0c3cea_0a03_11ea_9404_086266810e12row3_col4\" class=\"data row3 col4\" >0.150747</td>\n",
       "                        <td id=\"T_ce0c3cea_0a03_11ea_9404_086266810e12row3_col5\" class=\"data row3 col5\" >nan</td>\n",
       "                        <td id=\"T_ce0c3cea_0a03_11ea_9404_086266810e12row3_col6\" class=\"data row3 col6\" >nan</td>\n",
       "                        <td id=\"T_ce0c3cea_0a03_11ea_9404_086266810e12row3_col7\" class=\"data row3 col7\" >0.0445137</td>\n",
       "            </tr>\n",
       "    </tbody></table>"
      ],
      "text/plain": [
       "<pandas.io.formats.style.Styler at 0x7f4fc35e1fd0>"
      ]
     },
     "execution_count": 20,
     "metadata": {},
     "output_type": "execute_result"
    }
   ],
   "source": [
    "feats = flatten(feats_from_paper_for_group_test_no_categorisation)\n",
    "dicts = {}\n",
    "best_feats_spleen, best_feats_liver = None, None\n",
    "for key, value in model_merged_feats_path_combined.items():\n",
    "    df = pd.read_csv(value)\n",
    "    df = rename(df)\n",
    "    \n",
    "#     df = transform_to_categorical(df, ['diabetes_status'])\n",
    "    df, normalised_cols = z_score_column_normalise(df, ['seg_spleen', 'seg_liver'])\n",
    "    df = df.fillna(0)\n",
    "    \n",
    "    dicts[key] = {}\n",
    "    target_col = 'seg_spleen_normalised'\n",
    "    best_feats_spleen = choose_best_features(df, feats, target_col)\n",
    "    p_value_dict = individual_feature_stats(best_feats_spleen, df, target_col)\n",
    "    dicts[key][target_col] = p_value_dict\n",
    "    \n",
    "    target_col = 'seg_liver_normalised'\n",
    "    best_feats_liver = choose_best_features(df, feats, target_col)\n",
    "    p_value_dict = individual_feature_stats(best_feats_liver, df, target_col)\n",
    "    dicts[key][target_col] = p_value_dict\n",
    "\n",
    "p_value_df = df_from_nested_dicts(dicts).T\n",
    "p_value_df_styler = highlight_significance(p_value_df, threshold=0.0001)\n",
    "p_value_df_styler\n"
   ]
  },
  {
   "cell_type": "markdown",
   "metadata": {},
   "source": [
    "# Group feats stats test"
   ]
  },
  {
   "cell_type": "code",
   "execution_count": 21,
   "metadata": {},
   "outputs": [
    {
     "data": {
      "text/html": [
       "<style  type=\"text/css\" >\n",
       "    #T_ce0c3ceb_0a03_11ea_9404_086266810e12row0_col0 {\n",
       "            background-color :  yellow;\n",
       "        }    #T_ce0c3ceb_0a03_11ea_9404_086266810e12row0_col3 {\n",
       "            background-color :  yellow;\n",
       "        }    #T_ce0c3ceb_0a03_11ea_9404_086266810e12row1_col0 {\n",
       "            background-color :  yellow;\n",
       "        }    #T_ce0c3ceb_0a03_11ea_9404_086266810e12row1_col1 {\n",
       "            background-color :  yellow;\n",
       "        }    #T_ce0c3ceb_0a03_11ea_9404_086266810e12row1_col2 {\n",
       "            background-color :  yellow;\n",
       "        }    #T_ce0c3ceb_0a03_11ea_9404_086266810e12row1_col3 {\n",
       "            background-color :  yellow;\n",
       "        }</style><table id=\"T_ce0c3ceb_0a03_11ea_9404_086266810e12\" ><thead>    <tr>        <th class=\"blank\" ></th>        <th class=\"blank\" ></th>        <th class=\"blank level0\" ></th>        <th class=\"col_heading level0 col0\" >C(sex, Treatment)[T.1]</th>        <th class=\"col_heading level0 col1\" >Intercept</th>        <th class=\"col_heading level0 col2\" >age</th>        <th class=\"col_heading level0 col3\" >bmi_numeric</th>        <th class=\"col_heading level0 col4\" >diabetes_insipidus</th>        <th class=\"col_heading level0 col5\" >med_blood_pressure</th>        <th class=\"col_heading level0 col6\" >med_cholesterol_lowering</th>        <th class=\"col_heading level0 col7\" >med_insulin</th>    </tr></thead><tbody>\n",
       "                <tr>\n",
       "                        <th id=\"T_ce0c3ceb_0a03_11ea_9404_086266810e12level0_row0\" class=\"row_heading level0 row0\" >MC_dropout_quicknat_seg_spleen_normalised</th>\n",
       "                        <th id=\"T_ce0c3ceb_0a03_11ea_9404_086266810e12level1_row0\" class=\"row_heading level1 row0\" >seg_spleen_normalised</th>\n",
       "                        <th id=\"T_ce0c3ceb_0a03_11ea_9404_086266810e12level2_row0\" class=\"row_heading level2 row0\" >0</th>\n",
       "                        <td id=\"T_ce0c3ceb_0a03_11ea_9404_086266810e12row0_col0\" class=\"data row0 col0\" >1.14649e-13</td>\n",
       "                        <td id=\"T_ce0c3ceb_0a03_11ea_9404_086266810e12row0_col1\" class=\"data row0 col1\" >0.000464138</td>\n",
       "                        <td id=\"T_ce0c3ceb_0a03_11ea_9404_086266810e12row0_col2\" class=\"data row0 col2\" >0.000164175</td>\n",
       "                        <td id=\"T_ce0c3ceb_0a03_11ea_9404_086266810e12row0_col3\" class=\"data row0 col3\" >2.84151e-23</td>\n",
       "                        <td id=\"T_ce0c3ceb_0a03_11ea_9404_086266810e12row0_col4\" class=\"data row0 col4\" >nan</td>\n",
       "                        <td id=\"T_ce0c3ceb_0a03_11ea_9404_086266810e12row0_col5\" class=\"data row0 col5\" >0.949998</td>\n",
       "                        <td id=\"T_ce0c3ceb_0a03_11ea_9404_086266810e12row0_col6\" class=\"data row0 col6\" >0.16771</td>\n",
       "                        <td id=\"T_ce0c3ceb_0a03_11ea_9404_086266810e12row0_col7\" class=\"data row0 col7\" >nan</td>\n",
       "            </tr>\n",
       "            <tr>\n",
       "                        <th id=\"T_ce0c3ceb_0a03_11ea_9404_086266810e12level0_row1\" class=\"row_heading level0 row1\" >MC_dropout_quicknat_seg_liver_normalised</th>\n",
       "                        <th id=\"T_ce0c3ceb_0a03_11ea_9404_086266810e12level1_row1\" class=\"row_heading level1 row1\" >seg_liver_normalised</th>\n",
       "                        <th id=\"T_ce0c3ceb_0a03_11ea_9404_086266810e12level2_row1\" class=\"row_heading level2 row1\" >0</th>\n",
       "                        <td id=\"T_ce0c3ceb_0a03_11ea_9404_086266810e12row1_col0\" class=\"data row1 col0\" >5.69863e-08</td>\n",
       "                        <td id=\"T_ce0c3ceb_0a03_11ea_9404_086266810e12row1_col1\" class=\"data row1 col1\" >8.35933e-06</td>\n",
       "                        <td id=\"T_ce0c3ceb_0a03_11ea_9404_086266810e12row1_col2\" class=\"data row1 col2\" >2.16783e-08</td>\n",
       "                        <td id=\"T_ce0c3ceb_0a03_11ea_9404_086266810e12row1_col3\" class=\"data row1 col3\" >2.09742e-47</td>\n",
       "                        <td id=\"T_ce0c3ceb_0a03_11ea_9404_086266810e12row1_col4\" class=\"data row1 col4\" >nan</td>\n",
       "                        <td id=\"T_ce0c3ceb_0a03_11ea_9404_086266810e12row1_col5\" class=\"data row1 col5\" >0.652807</td>\n",
       "                        <td id=\"T_ce0c3ceb_0a03_11ea_9404_086266810e12row1_col6\" class=\"data row1 col6\" >0.0405074</td>\n",
       "                        <td id=\"T_ce0c3ceb_0a03_11ea_9404_086266810e12row1_col7\" class=\"data row1 col7\" >nan</td>\n",
       "            </tr>\n",
       "            <tr>\n",
       "                        <th id=\"T_ce0c3ceb_0a03_11ea_9404_086266810e12level0_row2\" class=\"row_heading level0 row2\" >probabilistic_quicknat_seg_spleen_normalised</th>\n",
       "                        <th id=\"T_ce0c3ceb_0a03_11ea_9404_086266810e12level1_row2\" class=\"row_heading level1 row2\" >seg_spleen_normalised</th>\n",
       "                        <th id=\"T_ce0c3ceb_0a03_11ea_9404_086266810e12level2_row2\" class=\"row_heading level2 row2\" >0</th>\n",
       "                        <td id=\"T_ce0c3ceb_0a03_11ea_9404_086266810e12row2_col0\" class=\"data row2 col0\" >nan</td>\n",
       "                        <td id=\"T_ce0c3ceb_0a03_11ea_9404_086266810e12row2_col1\" class=\"data row2 col1\" >0.112931</td>\n",
       "                        <td id=\"T_ce0c3ceb_0a03_11ea_9404_086266810e12row2_col2\" class=\"data row2 col2\" >0.00878568</td>\n",
       "                        <td id=\"T_ce0c3ceb_0a03_11ea_9404_086266810e12row2_col3\" class=\"data row2 col3\" >0.4584</td>\n",
       "                        <td id=\"T_ce0c3ceb_0a03_11ea_9404_086266810e12row2_col4\" class=\"data row2 col4\" >0.566559</td>\n",
       "                        <td id=\"T_ce0c3ceb_0a03_11ea_9404_086266810e12row2_col5\" class=\"data row2 col5\" >0.517712</td>\n",
       "                        <td id=\"T_ce0c3ceb_0a03_11ea_9404_086266810e12row2_col6\" class=\"data row2 col6\" >0.553019</td>\n",
       "                        <td id=\"T_ce0c3ceb_0a03_11ea_9404_086266810e12row2_col7\" class=\"data row2 col7\" >nan</td>\n",
       "            </tr>\n",
       "            <tr>\n",
       "                        <th id=\"T_ce0c3ceb_0a03_11ea_9404_086266810e12level0_row3\" class=\"row_heading level0 row3\" >probabilistic_quicknat_seg_liver_normalised</th>\n",
       "                        <th id=\"T_ce0c3ceb_0a03_11ea_9404_086266810e12level1_row3\" class=\"row_heading level1 row3\" >seg_liver_normalised</th>\n",
       "                        <th id=\"T_ce0c3ceb_0a03_11ea_9404_086266810e12level2_row3\" class=\"row_heading level2 row3\" >0</th>\n",
       "                        <td id=\"T_ce0c3ceb_0a03_11ea_9404_086266810e12row3_col0\" class=\"data row3 col0\" >0.318989</td>\n",
       "                        <td id=\"T_ce0c3ceb_0a03_11ea_9404_086266810e12row3_col1\" class=\"data row3 col1\" >0.595404</td>\n",
       "                        <td id=\"T_ce0c3ceb_0a03_11ea_9404_086266810e12row3_col2\" class=\"data row3 col2\" >0.115037</td>\n",
       "                        <td id=\"T_ce0c3ceb_0a03_11ea_9404_086266810e12row3_col3\" class=\"data row3 col3\" >0.287887</td>\n",
       "                        <td id=\"T_ce0c3ceb_0a03_11ea_9404_086266810e12row3_col4\" class=\"data row3 col4\" >0.140089</td>\n",
       "                        <td id=\"T_ce0c3ceb_0a03_11ea_9404_086266810e12row3_col5\" class=\"data row3 col5\" >nan</td>\n",
       "                        <td id=\"T_ce0c3ceb_0a03_11ea_9404_086266810e12row3_col6\" class=\"data row3 col6\" >nan</td>\n",
       "                        <td id=\"T_ce0c3ceb_0a03_11ea_9404_086266810e12row3_col7\" class=\"data row3 col7\" >0.0334061</td>\n",
       "            </tr>\n",
       "    </tbody></table>"
      ],
      "text/plain": [
       "<pandas.io.formats.style.Styler at 0x7f4fc32575c0>"
      ]
     },
     "execution_count": 21,
     "metadata": {},
     "output_type": "execute_result"
    }
   ],
   "source": [
    "feats = flatten(feats_from_paper_for_group_test_no_categorisation)\n",
    "\n",
    "dicts = {}\n",
    "anova_test_dicts = {}\n",
    "for key, value in model_merged_feats_path_combined.items():\n",
    "#     if 'KORA' in key:\n",
    "#         print('dataset cannot be processed!')\n",
    "#         continue\n",
    "    df = pd.read_csv(value)\n",
    "    df = rename(df)\n",
    "#     df = transform_to_categorical(df, ['diabetes_status'])\n",
    "    df, normalised_cols = z_score_column_normalise(df, ['seg_spleen', 'seg_liver'])\n",
    "    df = df.fillna(0)\n",
    "\n",
    "    dicts[key] = {}\n",
    "    anova_test_dicts[key] = {}\n",
    "    \n",
    "    target_col = 'seg_spleen_normalised'\n",
    "    best_feats_spleen = choose_best_features(df, feats, target_col)\n",
    "    feature_string =  make_feature_string(list(best_feats_spleen), ['diabetes_status', 'sex'])\n",
    "    p_value_dict_spleen, model = group_feature_stats(feature_string, df, target_col)\n",
    "    result = anova_test(model)\n",
    "    dicts[key][target_col] = p_value_dict_spleen\n",
    "    anova_test_dicts[key][target_col] =  result['PR(>F)'].to_dict()\n",
    "    \n",
    "    target_col = 'seg_liver_normalised'\n",
    "\n",
    "    best_feats_liver = choose_best_features(df, feats, target_col)\n",
    "    feature_string =  make_feature_string(list(best_feats_liver), ['diabetes_status', 'sex'])\n",
    "    p_value_dict_liver, model = group_feature_stats(feature_string, df, target_col)\n",
    "    result = anova_test(model)\n",
    "    dicts[key][target_col] = p_value_dict_liver\n",
    "    anova_test_dicts[key][target_col] =  result['PR(>F)'].to_dict()\n",
    "    \n",
    "p_value_df = df_from_nested_dicts(dicts).T\n",
    "anova_test_p_value_df = df_from_nested_dicts(anova_test_dicts).T\n",
    "p_value_df_styler = highlight_significance(p_value_df, 0.0001)\n",
    "anova_test_p_value_df_styler = highlight_significance(anova_test_p_value_df, 0.0001)\n",
    "p_value_df_styler"
   ]
  },
  {
   "cell_type": "code",
   "execution_count": 22,
   "metadata": {},
   "outputs": [
    {
     "data": {
      "text/html": [
       "<style  type=\"text/css\" >\n",
       "    #T_ce0c3cec_0a03_11ea_9404_086266810e12row0_col0 {\n",
       "            background-color :  yellow;\n",
       "        }    #T_ce0c3cec_0a03_11ea_9404_086266810e12row0_col3 {\n",
       "            background-color :  yellow;\n",
       "        }    #T_ce0c3cec_0a03_11ea_9404_086266810e12row1_col0 {\n",
       "            background-color :  yellow;\n",
       "        }    #T_ce0c3cec_0a03_11ea_9404_086266810e12row1_col2 {\n",
       "            background-color :  yellow;\n",
       "        }    #T_ce0c3cec_0a03_11ea_9404_086266810e12row1_col3 {\n",
       "            background-color :  yellow;\n",
       "        }</style><table id=\"T_ce0c3cec_0a03_11ea_9404_086266810e12\" ><thead>    <tr>        <th class=\"blank\" ></th>        <th class=\"blank\" ></th>        <th class=\"blank level0\" ></th>        <th class=\"col_heading level0 col0\" >C(sex, Treatment)</th>        <th class=\"col_heading level0 col1\" >Residual</th>        <th class=\"col_heading level0 col2\" >age</th>        <th class=\"col_heading level0 col3\" >bmi_numeric</th>        <th class=\"col_heading level0 col4\" >diabetes_insipidus</th>        <th class=\"col_heading level0 col5\" >med_blood_pressure</th>        <th class=\"col_heading level0 col6\" >med_cholesterol_lowering</th>        <th class=\"col_heading level0 col7\" >med_insulin</th>    </tr></thead><tbody>\n",
       "                <tr>\n",
       "                        <th id=\"T_ce0c3cec_0a03_11ea_9404_086266810e12level0_row0\" class=\"row_heading level0 row0\" >MC_dropout_quicknat_seg_spleen_normalised</th>\n",
       "                        <th id=\"T_ce0c3cec_0a03_11ea_9404_086266810e12level1_row0\" class=\"row_heading level1 row0\" >seg_spleen_normalised</th>\n",
       "                        <th id=\"T_ce0c3cec_0a03_11ea_9404_086266810e12level2_row0\" class=\"row_heading level2 row0\" >0</th>\n",
       "                        <td id=\"T_ce0c3cec_0a03_11ea_9404_086266810e12row0_col0\" class=\"data row0 col0\" >6.67596e-23</td>\n",
       "                        <td id=\"T_ce0c3cec_0a03_11ea_9404_086266810e12row0_col1\" class=\"data row0 col1\" >nan</td>\n",
       "                        <td id=\"T_ce0c3cec_0a03_11ea_9404_086266810e12row0_col2\" class=\"data row0 col2\" >0.000133128</td>\n",
       "                        <td id=\"T_ce0c3cec_0a03_11ea_9404_086266810e12row0_col3\" class=\"data row0 col3\" >1.62824e-24</td>\n",
       "                        <td id=\"T_ce0c3cec_0a03_11ea_9404_086266810e12row0_col4\" class=\"data row0 col4\" >nan</td>\n",
       "                        <td id=\"T_ce0c3cec_0a03_11ea_9404_086266810e12row0_col5\" class=\"data row0 col5\" >0.949998</td>\n",
       "                        <td id=\"T_ce0c3cec_0a03_11ea_9404_086266810e12row0_col6\" class=\"data row0 col6\" >0.136652</td>\n",
       "                        <td id=\"T_ce0c3cec_0a03_11ea_9404_086266810e12row0_col7\" class=\"data row0 col7\" >nan</td>\n",
       "            </tr>\n",
       "            <tr>\n",
       "                        <th id=\"T_ce0c3cec_0a03_11ea_9404_086266810e12level0_row1\" class=\"row_heading level0 row1\" >MC_dropout_quicknat_seg_liver_normalised</th>\n",
       "                        <th id=\"T_ce0c3cec_0a03_11ea_9404_086266810e12level1_row1\" class=\"row_heading level1 row1\" >seg_liver_normalised</th>\n",
       "                        <th id=\"T_ce0c3cec_0a03_11ea_9404_086266810e12level2_row1\" class=\"row_heading level2 row1\" >0</th>\n",
       "                        <td id=\"T_ce0c3cec_0a03_11ea_9404_086266810e12row1_col0\" class=\"data row1 col0\" >7.98028e-16</td>\n",
       "                        <td id=\"T_ce0c3cec_0a03_11ea_9404_086266810e12row1_col1\" class=\"data row1 col1\" >nan</td>\n",
       "                        <td id=\"T_ce0c3cec_0a03_11ea_9404_086266810e12row1_col2\" class=\"data row1 col2\" >9.41103e-09</td>\n",
       "                        <td id=\"T_ce0c3cec_0a03_11ea_9404_086266810e12row1_col3\" class=\"data row1 col3\" >1.1505e-49</td>\n",
       "                        <td id=\"T_ce0c3cec_0a03_11ea_9404_086266810e12row1_col4\" class=\"data row1 col4\" >nan</td>\n",
       "                        <td id=\"T_ce0c3cec_0a03_11ea_9404_086266810e12row1_col5\" class=\"data row1 col5\" >0.652807</td>\n",
       "                        <td id=\"T_ce0c3cec_0a03_11ea_9404_086266810e12row1_col6\" class=\"data row1 col6\" >0.0406677</td>\n",
       "                        <td id=\"T_ce0c3cec_0a03_11ea_9404_086266810e12row1_col7\" class=\"data row1 col7\" >nan</td>\n",
       "            </tr>\n",
       "            <tr>\n",
       "                        <th id=\"T_ce0c3cec_0a03_11ea_9404_086266810e12level0_row2\" class=\"row_heading level0 row2\" >probabilistic_quicknat_seg_spleen_normalised</th>\n",
       "                        <th id=\"T_ce0c3cec_0a03_11ea_9404_086266810e12level1_row2\" class=\"row_heading level1 row2\" >seg_spleen_normalised</th>\n",
       "                        <th id=\"T_ce0c3cec_0a03_11ea_9404_086266810e12level2_row2\" class=\"row_heading level2 row2\" >0</th>\n",
       "                        <td id=\"T_ce0c3cec_0a03_11ea_9404_086266810e12row2_col0\" class=\"data row2 col0\" >nan</td>\n",
       "                        <td id=\"T_ce0c3cec_0a03_11ea_9404_086266810e12row2_col1\" class=\"data row2 col1\" >nan</td>\n",
       "                        <td id=\"T_ce0c3cec_0a03_11ea_9404_086266810e12row2_col2\" class=\"data row2 col2\" >0.0182079</td>\n",
       "                        <td id=\"T_ce0c3cec_0a03_11ea_9404_086266810e12row2_col3\" class=\"data row2 col3\" >0.316799</td>\n",
       "                        <td id=\"T_ce0c3cec_0a03_11ea_9404_086266810e12row2_col4\" class=\"data row2 col4\" >0.566559</td>\n",
       "                        <td id=\"T_ce0c3cec_0a03_11ea_9404_086266810e12row2_col5\" class=\"data row2 col5\" >0.516921</td>\n",
       "                        <td id=\"T_ce0c3cec_0a03_11ea_9404_086266810e12row2_col6\" class=\"data row2 col6\" >0.263071</td>\n",
       "                        <td id=\"T_ce0c3cec_0a03_11ea_9404_086266810e12row2_col7\" class=\"data row2 col7\" >nan</td>\n",
       "            </tr>\n",
       "            <tr>\n",
       "                        <th id=\"T_ce0c3cec_0a03_11ea_9404_086266810e12level0_row3\" class=\"row_heading level0 row3\" >probabilistic_quicknat_seg_liver_normalised</th>\n",
       "                        <th id=\"T_ce0c3cec_0a03_11ea_9404_086266810e12level1_row3\" class=\"row_heading level1 row3\" >seg_liver_normalised</th>\n",
       "                        <th id=\"T_ce0c3cec_0a03_11ea_9404_086266810e12level2_row3\" class=\"row_heading level2 row3\" >0</th>\n",
       "                        <td id=\"T_ce0c3cec_0a03_11ea_9404_086266810e12row3_col0\" class=\"data row3 col0\" >0.400341</td>\n",
       "                        <td id=\"T_ce0c3cec_0a03_11ea_9404_086266810e12row3_col1\" class=\"data row3 col1\" >nan</td>\n",
       "                        <td id=\"T_ce0c3cec_0a03_11ea_9404_086266810e12row3_col2\" class=\"data row3 col2\" >0.12511</td>\n",
       "                        <td id=\"T_ce0c3cec_0a03_11ea_9404_086266810e12row3_col3\" class=\"data row3 col3\" >0.317546</td>\n",
       "                        <td id=\"T_ce0c3cec_0a03_11ea_9404_086266810e12row3_col4\" class=\"data row3 col4\" >0.140089</td>\n",
       "                        <td id=\"T_ce0c3cec_0a03_11ea_9404_086266810e12row3_col5\" class=\"data row3 col5\" >nan</td>\n",
       "                        <td id=\"T_ce0c3cec_0a03_11ea_9404_086266810e12row3_col6\" class=\"data row3 col6\" >nan</td>\n",
       "                        <td id=\"T_ce0c3cec_0a03_11ea_9404_086266810e12row3_col7\" class=\"data row3 col7\" >0.0336607</td>\n",
       "            </tr>\n",
       "    </tbody></table>"
      ],
      "text/plain": [
       "<pandas.io.formats.style.Styler at 0x7f4fe46632b0>"
      ]
     },
     "execution_count": 22,
     "metadata": {},
     "output_type": "execute_result"
    }
   ],
   "source": [
    "anova_test_p_value_df_styler"
   ]
  },
  {
   "cell_type": "markdown",
   "metadata": {},
   "source": [
    "# Regularised group feat stats test"
   ]
  },
  {
   "cell_type": "code",
   "execution_count": 23,
   "metadata": {},
   "outputs": [
    {
     "data": {
      "text/html": [
       "<style  type=\"text/css\" >\n",
       "    #T_cf0a54b0_0a03_11ea_9404_086266810e12row0_col0 {\n",
       "            background-color :  yellow;\n",
       "        }    #T_cf0a54b0_0a03_11ea_9404_086266810e12row0_col1 {\n",
       "            background-color :  yellow;\n",
       "        }    #T_cf0a54b0_0a03_11ea_9404_086266810e12row0_col2 {\n",
       "            background-color :  yellow;\n",
       "        }    #T_cf0a54b0_0a03_11ea_9404_086266810e12row0_col5 {\n",
       "            background-color :  yellow;\n",
       "        }    #T_cf0a54b0_0a03_11ea_9404_086266810e12row0_col6 {\n",
       "            background-color :  yellow;\n",
       "        }    #T_cf0a54b0_0a03_11ea_9404_086266810e12row1_col0 {\n",
       "            background-color :  yellow;\n",
       "        }    #T_cf0a54b0_0a03_11ea_9404_086266810e12row1_col2 {\n",
       "            background-color :  yellow;\n",
       "        }    #T_cf0a54b0_0a03_11ea_9404_086266810e12row1_col3 {\n",
       "            background-color :  yellow;\n",
       "        }    #T_cf0a54b0_0a03_11ea_9404_086266810e12row2_col1 {\n",
       "            background-color :  yellow;\n",
       "        }    #T_cf0a54b0_0a03_11ea_9404_086266810e12row2_col2 {\n",
       "            background-color :  yellow;\n",
       "        }    #T_cf0a54b0_0a03_11ea_9404_086266810e12row2_col3 {\n",
       "            background-color :  yellow;\n",
       "        }    #T_cf0a54b0_0a03_11ea_9404_086266810e12row2_col5 {\n",
       "            background-color :  yellow;\n",
       "        }    #T_cf0a54b0_0a03_11ea_9404_086266810e12row2_col6 {\n",
       "            background-color :  yellow;\n",
       "        }</style><table id=\"T_cf0a54b0_0a03_11ea_9404_086266810e12\" ><thead>    <tr>        <th class=\"blank\" ></th>        <th class=\"blank\" ></th>        <th class=\"blank level0\" ></th>        <th class=\"col_heading level0 col0\" >C(sex, Treatment)[T.1]</th>        <th class=\"col_heading level0 col1\" >Intercept</th>        <th class=\"col_heading level0 col2\" >age</th>        <th class=\"col_heading level0 col3\" >bmi_numeric</th>        <th class=\"col_heading level0 col4\" >diabetes_insipidus</th>        <th class=\"col_heading level0 col5\" >med_blood_pressure</th>        <th class=\"col_heading level0 col6\" >med_cholesterol_lowering</th>        <th class=\"col_heading level0 col7\" >med_insulin</th>    </tr></thead><tbody>\n",
       "                <tr>\n",
       "                        <th id=\"T_cf0a54b0_0a03_11ea_9404_086266810e12level0_row0\" class=\"row_heading level0 row0\" >MC_dropout_quicknat_seg_spleen_normalised</th>\n",
       "                        <th id=\"T_cf0a54b0_0a03_11ea_9404_086266810e12level1_row0\" class=\"row_heading level1 row0\" >seg_spleen_normalised</th>\n",
       "                        <th id=\"T_cf0a54b0_0a03_11ea_9404_086266810e12level2_row0\" class=\"row_heading level2 row0\" >0</th>\n",
       "                        <td id=\"T_cf0a54b0_0a03_11ea_9404_086266810e12row0_col0\" class=\"data row0 col0\" >1.03116e-46</td>\n",
       "                        <td id=\"T_cf0a54b0_0a03_11ea_9404_086266810e12row0_col1\" class=\"data row0 col1\" >3.18576e-30</td>\n",
       "                        <td id=\"T_cf0a54b0_0a03_11ea_9404_086266810e12row0_col2\" class=\"data row0 col2\" >1.79497e-55</td>\n",
       "                        <td id=\"T_cf0a54b0_0a03_11ea_9404_086266810e12row0_col3\" class=\"data row0 col3\" >0.00376695</td>\n",
       "                        <td id=\"T_cf0a54b0_0a03_11ea_9404_086266810e12row0_col4\" class=\"data row0 col4\" >nan</td>\n",
       "                        <td id=\"T_cf0a54b0_0a03_11ea_9404_086266810e12row0_col5\" class=\"data row0 col5\" >5.39823e-26</td>\n",
       "                        <td id=\"T_cf0a54b0_0a03_11ea_9404_086266810e12row0_col6\" class=\"data row0 col6\" >4.9502e-09</td>\n",
       "                        <td id=\"T_cf0a54b0_0a03_11ea_9404_086266810e12row0_col7\" class=\"data row0 col7\" >nan</td>\n",
       "            </tr>\n",
       "            <tr>\n",
       "                        <th id=\"T_cf0a54b0_0a03_11ea_9404_086266810e12level0_row1\" class=\"row_heading level0 row1\" >MC_dropout_quicknat_seg_liver_normalised</th>\n",
       "                        <th id=\"T_cf0a54b0_0a03_11ea_9404_086266810e12level1_row1\" class=\"row_heading level1 row1\" >seg_liver_normalised</th>\n",
       "                        <th id=\"T_cf0a54b0_0a03_11ea_9404_086266810e12level2_row1\" class=\"row_heading level2 row1\" >0</th>\n",
       "                        <td id=\"T_cf0a54b0_0a03_11ea_9404_086266810e12row1_col0\" class=\"data row1 col0\" >5.29793e-07</td>\n",
       "                        <td id=\"T_cf0a54b0_0a03_11ea_9404_086266810e12row1_col1\" class=\"data row1 col1\" >0.0011383</td>\n",
       "                        <td id=\"T_cf0a54b0_0a03_11ea_9404_086266810e12row1_col2\" class=\"data row1 col2\" >2.60849e-08</td>\n",
       "                        <td id=\"T_cf0a54b0_0a03_11ea_9404_086266810e12row1_col3\" class=\"data row1 col3\" >9.48031e-39</td>\n",
       "                        <td id=\"T_cf0a54b0_0a03_11ea_9404_086266810e12row1_col4\" class=\"data row1 col4\" >nan</td>\n",
       "                        <td id=\"T_cf0a54b0_0a03_11ea_9404_086266810e12row1_col5\" class=\"data row1 col5\" >0.583247</td>\n",
       "                        <td id=\"T_cf0a54b0_0a03_11ea_9404_086266810e12row1_col6\" class=\"data row1 col6\" >0.0352225</td>\n",
       "                        <td id=\"T_cf0a54b0_0a03_11ea_9404_086266810e12row1_col7\" class=\"data row1 col7\" >nan</td>\n",
       "            </tr>\n",
       "            <tr>\n",
       "                        <th id=\"T_cf0a54b0_0a03_11ea_9404_086266810e12level0_row2\" class=\"row_heading level0 row2\" >probabilistic_quicknat_seg_spleen_normalised</th>\n",
       "                        <th id=\"T_cf0a54b0_0a03_11ea_9404_086266810e12level1_row2\" class=\"row_heading level1 row2\" >seg_spleen_normalised</th>\n",
       "                        <th id=\"T_cf0a54b0_0a03_11ea_9404_086266810e12level2_row2\" class=\"row_heading level2 row2\" >0</th>\n",
       "                        <td id=\"T_cf0a54b0_0a03_11ea_9404_086266810e12row2_col0\" class=\"data row2 col0\" >nan</td>\n",
       "                        <td id=\"T_cf0a54b0_0a03_11ea_9404_086266810e12row2_col1\" class=\"data row2 col1\" >2.9287e-12</td>\n",
       "                        <td id=\"T_cf0a54b0_0a03_11ea_9404_086266810e12row2_col2\" class=\"data row2 col2\" >3.07572e-15</td>\n",
       "                        <td id=\"T_cf0a54b0_0a03_11ea_9404_086266810e12row2_col3\" class=\"data row2 col3\" >2.43399e-05</td>\n",
       "                        <td id=\"T_cf0a54b0_0a03_11ea_9404_086266810e12row2_col4\" class=\"data row2 col4\" >0.801727</td>\n",
       "                        <td id=\"T_cf0a54b0_0a03_11ea_9404_086266810e12row2_col5\" class=\"data row2 col5\" >2.19356e-32</td>\n",
       "                        <td id=\"T_cf0a54b0_0a03_11ea_9404_086266810e12row2_col6\" class=\"data row2 col6\" >8.53949e-12</td>\n",
       "                        <td id=\"T_cf0a54b0_0a03_11ea_9404_086266810e12row2_col7\" class=\"data row2 col7\" >nan</td>\n",
       "            </tr>\n",
       "            <tr>\n",
       "                        <th id=\"T_cf0a54b0_0a03_11ea_9404_086266810e12level0_row3\" class=\"row_heading level0 row3\" >probabilistic_quicknat_seg_liver_normalised</th>\n",
       "                        <th id=\"T_cf0a54b0_0a03_11ea_9404_086266810e12level1_row3\" class=\"row_heading level1 row3\" >seg_liver_normalised</th>\n",
       "                        <th id=\"T_cf0a54b0_0a03_11ea_9404_086266810e12level2_row3\" class=\"row_heading level2 row3\" >0</th>\n",
       "                        <td id=\"T_cf0a54b0_0a03_11ea_9404_086266810e12row3_col0\" class=\"data row3 col0\" >0.401514</td>\n",
       "                        <td id=\"T_cf0a54b0_0a03_11ea_9404_086266810e12row3_col1\" class=\"data row3 col1\" >0.00516989</td>\n",
       "                        <td id=\"T_cf0a54b0_0a03_11ea_9404_086266810e12row3_col2\" class=\"data row3 col2\" >0.383904</td>\n",
       "                        <td id=\"T_cf0a54b0_0a03_11ea_9404_086266810e12row3_col3\" class=\"data row3 col3\" >0.117648</td>\n",
       "                        <td id=\"T_cf0a54b0_0a03_11ea_9404_086266810e12row3_col4\" class=\"data row3 col4\" >0.355644</td>\n",
       "                        <td id=\"T_cf0a54b0_0a03_11ea_9404_086266810e12row3_col5\" class=\"data row3 col5\" >nan</td>\n",
       "                        <td id=\"T_cf0a54b0_0a03_11ea_9404_086266810e12row3_col6\" class=\"data row3 col6\" >nan</td>\n",
       "                        <td id=\"T_cf0a54b0_0a03_11ea_9404_086266810e12row3_col7\" class=\"data row3 col7\" >0.0145929</td>\n",
       "            </tr>\n",
       "    </tbody></table>"
      ],
      "text/plain": [
       "<pandas.io.formats.style.Styler at 0x7f4fc3284588>"
      ]
     },
     "execution_count": 23,
     "metadata": {},
     "output_type": "execute_result"
    }
   ],
   "source": [
    "\n",
    "# feats_for_regularised_test_only = [['age', 'sex', 'bmi_numeric']]\n",
    "feats = flatten(feats_from_paper_for_group_test_no_categorisation)\n",
    "dicts = {}\n",
    "anova_test_dicts = {}\n",
    "for key, value in model_merged_feats_path_combined.items():\n",
    "    if 'KORA' in key:\n",
    "#         print('dataset cannot be processed!')\n",
    "        continue\n",
    "\n",
    "    df = pd.read_csv(value)\n",
    "    df = rename(df)\n",
    "    df = df[feats+['seg_spleen', 'seg_liver', 'iou_spleen', 'iou_liver', 'model_name']]\n",
    "#     df = transform_to_categorical(df, ['diabetes_status', 'sex'])\n",
    "    df, normalised_cols = z_score_column_normalise(df, ['seg_spleen', 'seg_liver'])\n",
    "    \n",
    "#     df = df.fillna(0)\n",
    "    df.dropna(inplace=True)\n",
    "#     print(df)\n",
    "\n",
    "    dicts[key] = {}\n",
    "    anova_test_dicts[key] = {}\n",
    "    \n",
    "    target_col = 'seg_spleen_normalised'\n",
    "    best_feats_spleen = choose_best_features(df, feats, target_col)\n",
    "    feature_string =  make_feature_string(list(best_feats_spleen), ['diabetes_status', 'sex'])\n",
    "    model = weighted_group_feats(df, target_col, feature_string , 'iou_spleen')\n",
    "    result = anova_test(model)\n",
    "    dicts[key][target_col] = model.pvalues.to_dict()\n",
    "    anova_test_dicts[key][target_col] =  result['PR(>F)'].to_dict()\n",
    "\n",
    "    target_col = 'seg_liver_normalised'\n",
    "    best_feats_liver = choose_best_features(df, feats, target_col)\n",
    "    feature_string =  make_feature_string(list(best_feats_liver), ['diabetes_status', 'sex'])\n",
    "    model = weighted_group_feats(df, target_col, feature_string , 'iou_liver')\n",
    "    result = anova_test(model)\n",
    "    dicts[key][target_col] =  model.pvalues.to_dict()\n",
    "    anova_test_dicts[key][target_col] =  result['PR(>F)'].to_dict()\n",
    "\n",
    "p_value_df = df_from_nested_dicts(dicts).T\n",
    "anova_test_p_value_df = df_from_nested_dicts(anova_test_dicts).T\n",
    "p_value_df_styler = highlight_significance(p_value_df, 0.0001)\n",
    "anova_test_p_value_df_styler = highlight_significance(anova_test_p_value_df, 0.0001)\n",
    "p_value_df_styler"
   ]
  },
  {
   "cell_type": "code",
   "execution_count": 24,
   "metadata": {},
   "outputs": [
    {
     "data": {
      "text/html": [
       "<style  type=\"text/css\" >\n",
       "    #T_cf0a54b1_0a03_11ea_9404_086266810e12row0_col3 {\n",
       "            background-color :  yellow;\n",
       "        }    #T_cf0a54b1_0a03_11ea_9404_086266810e12row1_col3 {\n",
       "            background-color :  yellow;\n",
       "        }</style><table id=\"T_cf0a54b1_0a03_11ea_9404_086266810e12\" ><thead>    <tr>        <th class=\"blank\" ></th>        <th class=\"blank\" ></th>        <th class=\"blank level0\" ></th>        <th class=\"col_heading level0 col0\" >C(sex, Treatment)</th>        <th class=\"col_heading level0 col1\" >Residual</th>        <th class=\"col_heading level0 col2\" >age</th>        <th class=\"col_heading level0 col3\" >bmi_numeric</th>        <th class=\"col_heading level0 col4\" >diabetes_insipidus</th>        <th class=\"col_heading level0 col5\" >med_blood_pressure</th>        <th class=\"col_heading level0 col6\" >med_cholesterol_lowering</th>        <th class=\"col_heading level0 col7\" >med_insulin</th>    </tr></thead><tbody>\n",
       "                <tr>\n",
       "                        <th id=\"T_cf0a54b1_0a03_11ea_9404_086266810e12level0_row0\" class=\"row_heading level0 row0\" >MC_dropout_quicknat_seg_spleen_normalised</th>\n",
       "                        <th id=\"T_cf0a54b1_0a03_11ea_9404_086266810e12level1_row0\" class=\"row_heading level1 row0\" >seg_spleen_normalised</th>\n",
       "                        <th id=\"T_cf0a54b1_0a03_11ea_9404_086266810e12level2_row0\" class=\"row_heading level2 row0\" >0</th>\n",
       "                        <td id=\"T_cf0a54b1_0a03_11ea_9404_086266810e12row0_col0\" class=\"data row0 col0\" >0.000107442</td>\n",
       "                        <td id=\"T_cf0a54b1_0a03_11ea_9404_086266810e12row0_col1\" class=\"data row0 col1\" >nan</td>\n",
       "                        <td id=\"T_cf0a54b1_0a03_11ea_9404_086266810e12row0_col2\" class=\"data row0 col2\" >0.133492</td>\n",
       "                        <td id=\"T_cf0a54b1_0a03_11ea_9404_086266810e12row0_col3\" class=\"data row0 col3\" >5.88087e-05</td>\n",
       "                        <td id=\"T_cf0a54b1_0a03_11ea_9404_086266810e12row0_col4\" class=\"data row0 col4\" >nan</td>\n",
       "                        <td id=\"T_cf0a54b1_0a03_11ea_9404_086266810e12row0_col5\" class=\"data row0 col5\" >0.980355</td>\n",
       "                        <td id=\"T_cf0a54b1_0a03_11ea_9404_086266810e12row0_col6\" class=\"data row0 col6\" >0.558917</td>\n",
       "                        <td id=\"T_cf0a54b1_0a03_11ea_9404_086266810e12row0_col7\" class=\"data row0 col7\" >nan</td>\n",
       "            </tr>\n",
       "            <tr>\n",
       "                        <th id=\"T_cf0a54b1_0a03_11ea_9404_086266810e12level0_row1\" class=\"row_heading level0 row1\" >MC_dropout_quicknat_seg_liver_normalised</th>\n",
       "                        <th id=\"T_cf0a54b1_0a03_11ea_9404_086266810e12level1_row1\" class=\"row_heading level1 row1\" >seg_liver_normalised</th>\n",
       "                        <th id=\"T_cf0a54b1_0a03_11ea_9404_086266810e12level2_row1\" class=\"row_heading level2 row1\" >0</th>\n",
       "                        <td id=\"T_cf0a54b1_0a03_11ea_9404_086266810e12row1_col0\" class=\"data row1 col0\" >0.000559622</td>\n",
       "                        <td id=\"T_cf0a54b1_0a03_11ea_9404_086266810e12row1_col1\" class=\"data row1 col1\" >nan</td>\n",
       "                        <td id=\"T_cf0a54b1_0a03_11ea_9404_086266810e12row1_col2\" class=\"data row1 col2\" >0.0139512</td>\n",
       "                        <td id=\"T_cf0a54b1_0a03_11ea_9404_086266810e12row1_col3\" class=\"data row1 col3\" >2.04307e-10</td>\n",
       "                        <td id=\"T_cf0a54b1_0a03_11ea_9404_086266810e12row1_col4\" class=\"data row1 col4\" >nan</td>\n",
       "                        <td id=\"T_cf0a54b1_0a03_11ea_9404_086266810e12row1_col5\" class=\"data row1 col5\" >0.847289</td>\n",
       "                        <td id=\"T_cf0a54b1_0a03_11ea_9404_086266810e12row1_col6\" class=\"data row1 col6\" >0.380878</td>\n",
       "                        <td id=\"T_cf0a54b1_0a03_11ea_9404_086266810e12row1_col7\" class=\"data row1 col7\" >nan</td>\n",
       "            </tr>\n",
       "            <tr>\n",
       "                        <th id=\"T_cf0a54b1_0a03_11ea_9404_086266810e12level0_row2\" class=\"row_heading level0 row2\" >probabilistic_quicknat_seg_spleen_normalised</th>\n",
       "                        <th id=\"T_cf0a54b1_0a03_11ea_9404_086266810e12level1_row2\" class=\"row_heading level1 row2\" >seg_spleen_normalised</th>\n",
       "                        <th id=\"T_cf0a54b1_0a03_11ea_9404_086266810e12level2_row2\" class=\"row_heading level2 row2\" >0</th>\n",
       "                        <td id=\"T_cf0a54b1_0a03_11ea_9404_086266810e12row2_col0\" class=\"data row2 col0\" >nan</td>\n",
       "                        <td id=\"T_cf0a54b1_0a03_11ea_9404_086266810e12row2_col1\" class=\"data row2 col1\" >nan</td>\n",
       "                        <td id=\"T_cf0a54b1_0a03_11ea_9404_086266810e12row2_col2\" class=\"data row2 col2\" >0.77404</td>\n",
       "                        <td id=\"T_cf0a54b1_0a03_11ea_9404_086266810e12row2_col3\" class=\"data row2 col3\" >0.903177</td>\n",
       "                        <td id=\"T_cf0a54b1_0a03_11ea_9404_086266810e12row2_col4\" class=\"data row2 col4\" >0.944479</td>\n",
       "                        <td id=\"T_cf0a54b1_0a03_11ea_9404_086266810e12row2_col5\" class=\"data row2 col5\" >0.937229</td>\n",
       "                        <td id=\"T_cf0a54b1_0a03_11ea_9404_086266810e12row2_col6\" class=\"data row2 col6\" >0.891817</td>\n",
       "                        <td id=\"T_cf0a54b1_0a03_11ea_9404_086266810e12row2_col7\" class=\"data row2 col7\" >nan</td>\n",
       "            </tr>\n",
       "            <tr>\n",
       "                        <th id=\"T_cf0a54b1_0a03_11ea_9404_086266810e12level0_row3\" class=\"row_heading level0 row3\" >probabilistic_quicknat_seg_liver_normalised</th>\n",
       "                        <th id=\"T_cf0a54b1_0a03_11ea_9404_086266810e12level1_row3\" class=\"row_heading level1 row3\" >seg_liver_normalised</th>\n",
       "                        <th id=\"T_cf0a54b1_0a03_11ea_9404_086266810e12level2_row3\" class=\"row_heading level2 row3\" >0</th>\n",
       "                        <td id=\"T_cf0a54b1_0a03_11ea_9404_086266810e12row3_col0\" class=\"data row3 col0\" >0.882996</td>\n",
       "                        <td id=\"T_cf0a54b1_0a03_11ea_9404_086266810e12row3_col1\" class=\"data row3 col1\" >nan</td>\n",
       "                        <td id=\"T_cf0a54b1_0a03_11ea_9404_086266810e12row3_col2\" class=\"data row3 col2\" >0.788369</td>\n",
       "                        <td id=\"T_cf0a54b1_0a03_11ea_9404_086266810e12row3_col3\" class=\"data row3 col3\" >0.861147</td>\n",
       "                        <td id=\"T_cf0a54b1_0a03_11ea_9404_086266810e12row3_col4\" class=\"data row3 col4\" >0.796225</td>\n",
       "                        <td id=\"T_cf0a54b1_0a03_11ea_9404_086266810e12row3_col5\" class=\"data row3 col5\" >nan</td>\n",
       "                        <td id=\"T_cf0a54b1_0a03_11ea_9404_086266810e12row3_col6\" class=\"data row3 col6\" >nan</td>\n",
       "                        <td id=\"T_cf0a54b1_0a03_11ea_9404_086266810e12row3_col7\" class=\"data row3 col7\" >0.710001</td>\n",
       "            </tr>\n",
       "    </tbody></table>"
      ],
      "text/plain": [
       "<pandas.io.formats.style.Styler at 0x7f4fc32cb9e8>"
      ]
     },
     "execution_count": 24,
     "metadata": {},
     "output_type": "execute_result"
    }
   ],
   "source": [
    "anova_test_p_value_df_styler"
   ]
  },
  {
   "cell_type": "code",
   "execution_count": 5,
   "metadata": {},
   "outputs": [
    {
     "data": {
      "text/plain": [
       "(1000, 3)"
      ]
     },
     "execution_count": 5,
     "metadata": {},
     "output_type": "execute_result"
    }
   ],
   "source": [
    "import numpy as np\n",
    "x = np.random.randn(1000, 3)\n",
    "x.shape"
   ]
  },
  {
   "cell_type": "markdown",
   "metadata": {},
   "source": [
    "# Boxplots and ttest:"
   ]
  },
  {
   "cell_type": "code",
   "execution_count": 25,
   "metadata": {},
   "outputs": [
    {
     "name": "stdout",
     "output_type": "stream",
     "text": [
      "MC_dropout_quicknat\n",
      "normal_seg_spleen_normalised vs diabetic_seg_spleen_normalised\n",
      "ttest_score: -4.279020199906305\n",
      "p_value: 1.8866984485102085e-05\n",
      "\n",
      "\n"
     ]
    },
    {
     "data": {
      "image/png": "[encoded data removed]",
      "text/plain": [
       "<Figure size 432x288 with 1 Axes>"
      ]
     },
     "metadata": {
      "needs_background": "light"
     },
     "output_type": "display_data"
    },
    {
     "name": "stdout",
     "output_type": "stream",
     "text": [
      "normal_seg_liver_normalised vs diabetic_seg_liver_normalised\n",
      "ttest_score: -5.959538127584576\n",
      "p_value: 2.5758136304889447e-09\n",
      "\n",
      "\n"
     ]
    },
    {
     "data": {
      "image/png": "[encoded data removed]",
      "text/plain": [
       "<Figure size 432x288 with 1 Axes>"
      ]
     },
     "metadata": {
      "needs_background": "light"
     },
     "output_type": "display_data"
    },
    {
     "name": "stdout",
     "output_type": "stream",
     "text": [
      "probabilistic_quicknat\n",
      "normal_seg_spleen_normalised vs diabetic_seg_spleen_normalised\n",
      "ttest_score: 0.7697888530075939\n",
      "p_value: 0.44150362442440727\n",
      "\n",
      "\n"
     ]
    },
    {
     "data": {
      "image/png": "[encoded data removed]",
      "text/plain": [
       "<Figure size 432x288 with 1 Axes>"
      ]
     },
     "metadata": {
      "needs_background": "light"
     },
     "output_type": "display_data"
    },
    {
     "name": "stdout",
     "output_type": "stream",
     "text": [
      "normal_seg_liver_normalised vs diabetic_seg_liver_normalised\n",
      "ttest_score: 1.667449697428493\n",
      "p_value: 0.09556015638526756\n",
      "\n",
      "\n"
     ]
    },
    {
     "data": {
      "image/png": "[encoded data removed]",
      "text/plain": [
       "<Figure size 432x288 with 1 Axes>"
      ]
     },
     "metadata": {
      "needs_background": "light"
     },
     "output_type": "display_data"
    }
   ],
   "source": [
    "dicts = {}\n",
    "for key, value in model_merged_feats_path_combined.items():\n",
    "    print(key)\n",
    "    df = pd.read_csv(value)\n",
    "    df = rename(df)\n",
    "    df = transform_to_categorical(df, ['diabetes_status', 'sex'])\n",
    "    df, normalised_cols = z_score_column_normalise(df, ['seg_spleen', 'seg_liver'])\n",
    "    df = df.fillna(0)\n",
    "    \n",
    "    dicts[key] = {}\n",
    "    dfs = split_diabetes_state(df)\n",
    "    individual_dicts = plot_and_ttest(dfs, ['normal_seg_spleen_normalised',  'diabetic_seg_spleen_normalised'])\n",
    "    dicts[key]['spleen'] = individual_dicts\n",
    "    individual_dicts = plot_and_ttest(dfs, ['normal_seg_liver_normalised', 'diabetic_seg_liver_normalised'])\n",
    "    dicts[key]['liver'] = individual_dicts\n",
    "    \n",
    "p_value_df = df_from_nested_dicts(dicts).T   \n",
    "p_value_df_styler = highlight_significance(p_value_df, 0.0001)   \n"
   ]
  },
  {
   "cell_type": "code",
   "execution_count": 26,
   "metadata": {},
   "outputs": [
    {
     "data": {
      "text/html": [
       "<style  type=\"text/css\" >\n",
       "    #T_cf0a54b2_0a03_11ea_9404_086266810e12row0_col1 {\n",
       "            background-color :  yellow;\n",
       "        }    #T_cf0a54b2_0a03_11ea_9404_086266810e12row1_col0 {\n",
       "            background-color :  yellow;\n",
       "        }</style><table id=\"T_cf0a54b2_0a03_11ea_9404_086266810e12\" ><thead>    <tr>        <th class=\"blank\" ></th>        <th class=\"blank\" ></th>        <th class=\"blank level0\" ></th>        <th class=\"col_heading level0 col0\" >normal_seg_liver_normalised vs diabetic_seg_liver_normalised</th>        <th class=\"col_heading level0 col1\" >normal_seg_spleen_normalised vs diabetic_seg_spleen_normalised</th>    </tr></thead><tbody>\n",
       "                <tr>\n",
       "                        <th id=\"T_cf0a54b2_0a03_11ea_9404_086266810e12level0_row0\" class=\"row_heading level0 row0\" >MC_dropout_quicknat_spleen</th>\n",
       "                        <th id=\"T_cf0a54b2_0a03_11ea_9404_086266810e12level1_row0\" class=\"row_heading level1 row0\" >spleen</th>\n",
       "                        <th id=\"T_cf0a54b2_0a03_11ea_9404_086266810e12level2_row0\" class=\"row_heading level2 row0\" >0</th>\n",
       "                        <td id=\"T_cf0a54b2_0a03_11ea_9404_086266810e12row0_col0\" class=\"data row0 col0\" >nan</td>\n",
       "                        <td id=\"T_cf0a54b2_0a03_11ea_9404_086266810e12row0_col1\" class=\"data row0 col1\" >1.8867e-05</td>\n",
       "            </tr>\n",
       "            <tr>\n",
       "                        <th id=\"T_cf0a54b2_0a03_11ea_9404_086266810e12level0_row1\" class=\"row_heading level0 row1\" >MC_dropout_quicknat_liver</th>\n",
       "                        <th id=\"T_cf0a54b2_0a03_11ea_9404_086266810e12level1_row1\" class=\"row_heading level1 row1\" >liver</th>\n",
       "                        <th id=\"T_cf0a54b2_0a03_11ea_9404_086266810e12level2_row1\" class=\"row_heading level2 row1\" >0</th>\n",
       "                        <td id=\"T_cf0a54b2_0a03_11ea_9404_086266810e12row1_col0\" class=\"data row1 col0\" >2.57581e-09</td>\n",
       "                        <td id=\"T_cf0a54b2_0a03_11ea_9404_086266810e12row1_col1\" class=\"data row1 col1\" >nan</td>\n",
       "            </tr>\n",
       "            <tr>\n",
       "                        <th id=\"T_cf0a54b2_0a03_11ea_9404_086266810e12level0_row2\" class=\"row_heading level0 row2\" >probabilistic_quicknat_spleen</th>\n",
       "                        <th id=\"T_cf0a54b2_0a03_11ea_9404_086266810e12level1_row2\" class=\"row_heading level1 row2\" >spleen</th>\n",
       "                        <th id=\"T_cf0a54b2_0a03_11ea_9404_086266810e12level2_row2\" class=\"row_heading level2 row2\" >0</th>\n",
       "                        <td id=\"T_cf0a54b2_0a03_11ea_9404_086266810e12row2_col0\" class=\"data row2 col0\" >nan</td>\n",
       "                        <td id=\"T_cf0a54b2_0a03_11ea_9404_086266810e12row2_col1\" class=\"data row2 col1\" >0.441504</td>\n",
       "            </tr>\n",
       "            <tr>\n",
       "                        <th id=\"T_cf0a54b2_0a03_11ea_9404_086266810e12level0_row3\" class=\"row_heading level0 row3\" >probabilistic_quicknat_liver</th>\n",
       "                        <th id=\"T_cf0a54b2_0a03_11ea_9404_086266810e12level1_row3\" class=\"row_heading level1 row3\" >liver</th>\n",
       "                        <th id=\"T_cf0a54b2_0a03_11ea_9404_086266810e12level2_row3\" class=\"row_heading level2 row3\" >0</th>\n",
       "                        <td id=\"T_cf0a54b2_0a03_11ea_9404_086266810e12row3_col0\" class=\"data row3 col0\" >0.0955602</td>\n",
       "                        <td id=\"T_cf0a54b2_0a03_11ea_9404_086266810e12row3_col1\" class=\"data row3 col1\" >nan</td>\n",
       "            </tr>\n",
       "    </tbody></table>"
      ],
      "text/plain": [
       "<pandas.io.formats.style.Styler at 0x7f4fc2fa94e0>"
      ]
     },
     "execution_count": 26,
     "metadata": {},
     "output_type": "execute_result"
    }
   ],
   "source": [
    "p_value_df_styler"
   ]
  },
  {
   "cell_type": "markdown",
   "metadata": {},
   "source": [
    "# Dice vs IOU plots"
   ]
  },
  {
   "cell_type": "code",
   "execution_count": 19,
   "metadata": {},
   "outputs": [
    {
     "name": "stdout",
     "output_type": "stream",
     "text": [
      "full_bayesian\n",
      "dice vs iou: 0.5914828733704434\n"
     ]
    },
    {
     "data": {
      "image/png": "[encoded data removed]",
      "text/plain": [
       "<Figure size 432x288 with 1 Axes>"
      ]
     },
     "metadata": {
      "needs_background": "light"
     },
     "output_type": "display_data"
    },
    {
     "name": "stdout",
     "output_type": "stream",
     "text": [
      "full_bayesian_0dot01\n",
      "dice vs iou: 0.46401972295806504\n"
     ]
    },
    {
     "data": {
      "image/png": "[encoded data removed]",
      "text/plain": [
       "<Figure size 432x288 with 1 Axes>"
      ]
     },
     "metadata": {
      "needs_background": "light"
     },
     "output_type": "display_data"
    },
    {
     "name": "stdout",
     "output_type": "stream",
     "text": [
      "MC_dropout_quicknat\n",
      "dice vs iou: 0.39538568171222543\n"
     ]
    },
    {
     "data": {
      "image/png": "[encoded data removed]",
      "text/plain": [
       "<Figure size 432x288 with 1 Axes>"
      ]
     },
     "metadata": {
      "needs_background": "light"
     },
     "output_type": "display_data"
    },
    {
     "name": "stdout",
     "output_type": "stream",
     "text": [
      "probabilistic_quicknat\n",
      "dice vs iou: 0.5092933723742227\n"
     ]
    },
    {
     "data": {
      "image/png": "[encoded data removed]",
      "text/plain": [
       "<Figure size 432x288 with 1 Axes>"
      ]
     },
     "metadata": {
      "needs_background": "light"
     },
     "output_type": "display_data"
    },
    {
     "name": "stdout",
     "output_type": "stream",
     "text": [
      "hierarchical_quicknat\n",
      "dice vs iou: 0.3453262196459317\n"
     ]
    },
    {
     "data": {
      "image/png": "[encoded data removed]",
      "text/plain": [
       "<Figure size 432x288 with 1 Axes>"
      ]
     },
     "metadata": {
      "needs_background": "light"
     },
     "output_type": "display_data"
    },
    {
     "name": "stdout",
     "output_type": "stream",
     "text": [
      "dataset cannot be processed!\n",
      "dataset cannot be processed!\n",
      "dataset cannot be processed!\n",
      "dataset cannot be processed!\n"
     ]
    }
   ],
   "source": [
    "\n",
    "for key, value in model_merged_feats_path_combined.items():\n",
    "    if 'KORA' in key:\n",
    "        print('dataset cannot be processed!')\n",
    "        continue\n",
    "    print(key)\n",
    "    df = pd.read_csv(value)\n",
    "    df = rename(df)\n",
    "    df = transform_to_categorical(df, ['diabetes_status', 'sex'])\n",
    "    df, normalised_cols = z_score_column_normalise(df, ['seg_spleen', 'seg_liver'])\n",
    "    df = df.fillna(0)\n",
    "    \n",
    " \n",
    "#     df.plot.scatter(x='dice_mean', y='surface_distance_avg_mean',c='DarkBlue')\n",
    "#     X, y = df['dice_mean'].values.reshape(-1,1),df['surface_distance_avg_mean'].values.reshape(-1,1)\n",
    "#     reg = LinearRegression().fit(X, y)\n",
    "#     print('dice vs sd:', reg.score(X, y))\n",
    "#     plt.show()\n",
    "    df.plot.scatter(x='dice_mean', y='iou_mean',c='DarkRed')\n",
    "    X, y = df['dice_mean'].values.reshape(-1,1),df['iou_mean'].values.reshape(-1,1)\n",
    "    reg = LinearRegression().fit(X, y)\n",
    "    print('dice vs iou:', reg.score(X, y))\n",
    "    plt.show()"
   ]
  },
  {
   "cell_type": "markdown",
   "metadata": {},
   "source": [
    "# Normal Mixed Effect Model test"
   ]
  },
  {
   "cell_type": "code",
   "execution_count": 28,
   "metadata": {},
   "outputs": [
    {
     "data": {
      "text/html": [
       "<style  type=\"text/css\" >\n",
       "    #T_4800a932_0a04_11ea_9404_086266810e12row0_col0 {\n",
       "            background-color :  yellow;\n",
       "        }    #T_4800a932_0a04_11ea_9404_086266810e12row0_col1 {\n",
       "            background-color :  yellow;\n",
       "        }    #T_4800a932_0a04_11ea_9404_086266810e12row0_col4 {\n",
       "            background-color :  yellow;\n",
       "        }    #T_4800a932_0a04_11ea_9404_086266810e12row1_col0 {\n",
       "            background-color :  yellow;\n",
       "        }    #T_4800a932_0a04_11ea_9404_086266810e12row1_col1 {\n",
       "            background-color :  yellow;\n",
       "        }    #T_4800a932_0a04_11ea_9404_086266810e12row1_col2 {\n",
       "            background-color :  yellow;\n",
       "        }    #T_4800a932_0a04_11ea_9404_086266810e12row1_col3 {\n",
       "            background-color :  yellow;\n",
       "        }    #T_4800a932_0a04_11ea_9404_086266810e12row1_col4 {\n",
       "            background-color :  yellow;\n",
       "        }    #T_4800a932_0a04_11ea_9404_086266810e12row2_col1 {\n",
       "            background-color :  yellow;\n",
       "        }    #T_4800a932_0a04_11ea_9404_086266810e12row3_col1 {\n",
       "            background-color :  yellow;\n",
       "        }</style><table id=\"T_4800a932_0a04_11ea_9404_086266810e12\" ><thead>    <tr>        <th class=\"blank\" ></th>        <th class=\"blank\" ></th>        <th class=\"blank level0\" ></th>        <th class=\"col_heading level0 col0\" >C(sex, Treatment)[T.1]</th>        <th class=\"col_heading level0 col1\" >Group Var</th>        <th class=\"col_heading level0 col2\" >Intercept</th>        <th class=\"col_heading level0 col3\" >age</th>        <th class=\"col_heading level0 col4\" >bmi_numeric</th>        <th class=\"col_heading level0 col5\" >diabetes_gestational</th>        <th class=\"col_heading level0 col6\" >diabetes_insipidus</th>        <th class=\"col_heading level0 col7\" >diabetes_typeI</th>        <th class=\"col_heading level0 col8\" >med_blood_pressure</th>        <th class=\"col_heading level0 col9\" >med_cholesterol_lowering</th>        <th class=\"col_heading level0 col10\" >med_insulin</th>    </tr></thead><tbody>\n",
       "                <tr>\n",
       "                        <th id=\"T_4800a932_0a04_11ea_9404_086266810e12level0_row0\" class=\"row_heading level0 row0\" >MC_dropout_quicknat_seg_spleen_mlm</th>\n",
       "                        <th id=\"T_4800a932_0a04_11ea_9404_086266810e12level1_row0\" class=\"row_heading level1 row0\" >seg_spleen_mlm</th>\n",
       "                        <th id=\"T_4800a932_0a04_11ea_9404_086266810e12level2_row0\" class=\"row_heading level2 row0\" >0</th>\n",
       "                        <td id=\"T_4800a932_0a04_11ea_9404_086266810e12row0_col0\" class=\"data row0 col0\" >2.47007e-14</td>\n",
       "                        <td id=\"T_4800a932_0a04_11ea_9404_086266810e12row0_col1\" class=\"data row0 col1\" >0</td>\n",
       "                        <td id=\"T_4800a932_0a04_11ea_9404_086266810e12row0_col2\" class=\"data row0 col2\" >0.000204325</td>\n",
       "                        <td id=\"T_4800a932_0a04_11ea_9404_086266810e12row0_col3\" class=\"data row0 col3\" >0.00015639</td>\n",
       "                        <td id=\"T_4800a932_0a04_11ea_9404_086266810e12row0_col4\" class=\"data row0 col4\" >5.83282e-25</td>\n",
       "                        <td id=\"T_4800a932_0a04_11ea_9404_086266810e12row0_col5\" class=\"data row0 col5\" >0.26824</td>\n",
       "                        <td id=\"T_4800a932_0a04_11ea_9404_086266810e12row0_col6\" class=\"data row0 col6\" >nan</td>\n",
       "                        <td id=\"T_4800a932_0a04_11ea_9404_086266810e12row0_col7\" class=\"data row0 col7\" >0.119495</td>\n",
       "                        <td id=\"T_4800a932_0a04_11ea_9404_086266810e12row0_col8\" class=\"data row0 col8\" >0.935412</td>\n",
       "                        <td id=\"T_4800a932_0a04_11ea_9404_086266810e12row0_col9\" class=\"data row0 col9\" >0.158677</td>\n",
       "                        <td id=\"T_4800a932_0a04_11ea_9404_086266810e12row0_col10\" class=\"data row0 col10\" >0.921169</td>\n",
       "            </tr>\n",
       "            <tr>\n",
       "                        <th id=\"T_4800a932_0a04_11ea_9404_086266810e12level0_row1\" class=\"row_heading level0 row1\" >MC_dropout_quicknat_seg_liver_mlm</th>\n",
       "                        <th id=\"T_4800a932_0a04_11ea_9404_086266810e12level1_row1\" class=\"row_heading level1 row1\" >seg_liver_mlm</th>\n",
       "                        <th id=\"T_4800a932_0a04_11ea_9404_086266810e12level2_row1\" class=\"row_heading level2 row1\" >0</th>\n",
       "                        <td id=\"T_4800a932_0a04_11ea_9404_086266810e12row1_col0\" class=\"data row1 col0\" >3.58532e-08</td>\n",
       "                        <td id=\"T_4800a932_0a04_11ea_9404_086266810e12row1_col1\" class=\"data row1 col1\" >0</td>\n",
       "                        <td id=\"T_4800a932_0a04_11ea_9404_086266810e12row1_col2\" class=\"data row1 col2\" >2.45513e-06</td>\n",
       "                        <td id=\"T_4800a932_0a04_11ea_9404_086266810e12row1_col3\" class=\"data row1 col3\" >3.43912e-08</td>\n",
       "                        <td id=\"T_4800a932_0a04_11ea_9404_086266810e12row1_col4\" class=\"data row1 col4\" >1.29248e-49</td>\n",
       "                        <td id=\"T_4800a932_0a04_11ea_9404_086266810e12row1_col5\" class=\"data row1 col5\" >nan</td>\n",
       "                        <td id=\"T_4800a932_0a04_11ea_9404_086266810e12row1_col6\" class=\"data row1 col6\" >nan</td>\n",
       "                        <td id=\"T_4800a932_0a04_11ea_9404_086266810e12row1_col7\" class=\"data row1 col7\" >0.293911</td>\n",
       "                        <td id=\"T_4800a932_0a04_11ea_9404_086266810e12row1_col8\" class=\"data row1 col8\" >0.632603</td>\n",
       "                        <td id=\"T_4800a932_0a04_11ea_9404_086266810e12row1_col9\" class=\"data row1 col9\" >0.0435776</td>\n",
       "                        <td id=\"T_4800a932_0a04_11ea_9404_086266810e12row1_col10\" class=\"data row1 col10\" >0.456151</td>\n",
       "            </tr>\n",
       "            <tr>\n",
       "                        <th id=\"T_4800a932_0a04_11ea_9404_086266810e12level0_row2\" class=\"row_heading level0 row2\" >probabilistic_quicknat_seg_spleen_mlm</th>\n",
       "                        <th id=\"T_4800a932_0a04_11ea_9404_086266810e12level1_row2\" class=\"row_heading level1 row2\" >seg_spleen_mlm</th>\n",
       "                        <th id=\"T_4800a932_0a04_11ea_9404_086266810e12level2_row2\" class=\"row_heading level2 row2\" >0</th>\n",
       "                        <td id=\"T_4800a932_0a04_11ea_9404_086266810e12row2_col0\" class=\"data row2 col0\" >nan</td>\n",
       "                        <td id=\"T_4800a932_0a04_11ea_9404_086266810e12row2_col1\" class=\"data row2 col1\" >7.9919e-231</td>\n",
       "                        <td id=\"T_4800a932_0a04_11ea_9404_086266810e12row2_col2\" class=\"data row2 col2\" >0.111896</td>\n",
       "                        <td id=\"T_4800a932_0a04_11ea_9404_086266810e12row2_col3\" class=\"data row2 col3\" >0.00855666</td>\n",
       "                        <td id=\"T_4800a932_0a04_11ea_9404_086266810e12row2_col4\" class=\"data row2 col4\" >0.457026</td>\n",
       "                        <td id=\"T_4800a932_0a04_11ea_9404_086266810e12row2_col5\" class=\"data row2 col5\" >nan</td>\n",
       "                        <td id=\"T_4800a932_0a04_11ea_9404_086266810e12row2_col6\" class=\"data row2 col6\" >0.565273</td>\n",
       "                        <td id=\"T_4800a932_0a04_11ea_9404_086266810e12row2_col7\" class=\"data row2 col7\" >nan</td>\n",
       "                        <td id=\"T_4800a932_0a04_11ea_9404_086266810e12row2_col8\" class=\"data row2 col8\" >0.517619</td>\n",
       "                        <td id=\"T_4800a932_0a04_11ea_9404_086266810e12row2_col9\" class=\"data row2 col9\" >0.55113</td>\n",
       "                        <td id=\"T_4800a932_0a04_11ea_9404_086266810e12row2_col10\" class=\"data row2 col10\" >nan</td>\n",
       "            </tr>\n",
       "            <tr>\n",
       "                        <th id=\"T_4800a932_0a04_11ea_9404_086266810e12level0_row3\" class=\"row_heading level0 row3\" >probabilistic_quicknat_seg_liver_mlm</th>\n",
       "                        <th id=\"T_4800a932_0a04_11ea_9404_086266810e12level1_row3\" class=\"row_heading level1 row3\" >seg_liver_mlm</th>\n",
       "                        <th id=\"T_4800a932_0a04_11ea_9404_086266810e12level2_row3\" class=\"row_heading level2 row3\" >0</th>\n",
       "                        <td id=\"T_4800a932_0a04_11ea_9404_086266810e12row3_col0\" class=\"data row3 col0\" >0.31666</td>\n",
       "                        <td id=\"T_4800a932_0a04_11ea_9404_086266810e12row3_col1\" class=\"data row3 col1\" >1.13293e-230</td>\n",
       "                        <td id=\"T_4800a932_0a04_11ea_9404_086266810e12row3_col2\" class=\"data row3 col2\" >0.611836</td>\n",
       "                        <td id=\"T_4800a932_0a04_11ea_9404_086266810e12row3_col3\" class=\"data row3 col3\" >0.119312</td>\n",
       "                        <td id=\"T_4800a932_0a04_11ea_9404_086266810e12row3_col4\" class=\"data row3 col4\" >0.281684</td>\n",
       "                        <td id=\"T_4800a932_0a04_11ea_9404_086266810e12row3_col5\" class=\"data row3 col5\" >nan</td>\n",
       "                        <td id=\"T_4800a932_0a04_11ea_9404_086266810e12row3_col6\" class=\"data row3 col6\" >0.139553</td>\n",
       "                        <td id=\"T_4800a932_0a04_11ea_9404_086266810e12row3_col7\" class=\"data row3 col7\" >nan</td>\n",
       "                        <td id=\"T_4800a932_0a04_11ea_9404_086266810e12row3_col8\" class=\"data row3 col8\" >nan</td>\n",
       "                        <td id=\"T_4800a932_0a04_11ea_9404_086266810e12row3_col9\" class=\"data row3 col9\" >nan</td>\n",
       "                        <td id=\"T_4800a932_0a04_11ea_9404_086266810e12row3_col10\" class=\"data row3 col10\" >0.0330195</td>\n",
       "            </tr>\n",
       "    </tbody></table>"
      ],
      "text/plain": [
       "<pandas.io.formats.style.Styler at 0x7f502426b4a8>"
      ]
     },
     "execution_count": 28,
     "metadata": {},
     "output_type": "execute_result"
    }
   ],
   "source": [
    "feats = flatten(feats_from_paper_for_group_test_no_categorisation)\n",
    "\n",
    "# li_wts = {'full_bayesian':0.001,\n",
    "#           'full_bayesian_0dot01':0.0001,\n",
    "#           'MC_dropout_quicknat':0.00001,\n",
    "#           'probabilistic_quicknat': 0.0001,\n",
    "#           'hierarchical_quicknat':0.0001\n",
    "#          }\n",
    "dicts = {}\n",
    "for key, value in model_merged_feats_path_combined.items():\n",
    "    if 'KORA' in key:\n",
    "        print('dataset cannot be processed!')\n",
    "        continue\n",
    "    df = pd.read_csv(value)\n",
    "    df = rename(df)\n",
    "#     df = transform_to_categorical(df, ['diabetes_status', 'sex'])\n",
    "    df = df.fillna(0)\n",
    "    df_s = df.copy()\n",
    "    df_l = df.copy()\n",
    "\n",
    "    dicts[key] = {}\n",
    "    \n",
    "    target_col = 'seg_spleen_mlm'\n",
    "    df_spleen, spleen_normalised_cols_map = z_score_group_normalise(df_s, spleen_sample_cols)\n",
    "    df_spleen = pre_process_for_mlm(df_spleen, list(spleen_normalised_cols_map.values()), target_col)\n",
    "    best_feats_spleen = choose_best_features(df_spleen, feats, target_col)\n",
    "    feature_string =  make_feature_string(list(best_feats_spleen), ['diabetes_status', 'sex'])\n",
    "    model = normal_mixed_effect_model(df_spleen, target_col, feature_string ,'volume_id')\n",
    "\n",
    "    dicts[key][target_col] = model.pvalues.to_dict()\n",
    "\n",
    "    target_col = 'seg_liver_mlm'\n",
    "    df_liver, liver_normalised_cols_map = z_score_group_normalise(df_l, liver_sample_cols)\n",
    "    df_liver = pre_process_for_mlm(df_liver, list(liver_normalised_cols_map.values()), target_col)\n",
    "    best_feats_liver = choose_best_features(df_liver, feats, target_col)\n",
    "    feature_string =  make_feature_string(list(best_feats_liver), ['diabetes_status', 'sex'])\n",
    "    model = normal_mixed_effect_model(df_liver, target_col, feature_string ,'volume_id')\n",
    "\n",
    "    dicts[key][target_col] =  model.pvalues.to_dict()\n",
    "\n",
    "p_value_df = df_from_nested_dicts(dicts).T\n",
    "p_value_df_styler = highlight_significance(p_value_df, 0.0001)\n",
    "\n",
    "p_value_df_styler"
   ]
  }
 ],
 "metadata": {
  "kernelspec": {
   "display_name": "Python 3",
   "language": "python",
   "name": "python3"
  },
  "language_info": {
   "codemirror_mode": {
    "name": "ipython",
    "version": 3
   },
   "file_extension": ".py",
   "mimetype": "text/x-python",
   "name": "python",
   "nbconvert_exporter": "python",
   "pygments_lexer": "ipython3",
   "version": "3.7.3"
  }
 },
 "nbformat": 4,
 "nbformat_minor": 2
}
