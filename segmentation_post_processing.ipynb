{
 "cells": [
  {
   "cell_type": "code",
   "execution_count": 1,
   "metadata": {},
   "outputs": [],
   "source": [
    "import nibabel as nb\n",
    "import numpy as np\n",
    "from skimage.measure import label\n",
    "import glob\n",
    "import pandas as pd\n",
    "import os\n",
    "import matplotlib.pyplot as plt\n",
    "%matplotlib inline"
   ]
  },
  {
   "cell_type": "code",
   "execution_count": 2,
   "metadata": {},
   "outputs": [],
   "source": [
    "def getLargestCC(segmentation):\n",
    "    labels = label(segmentation)\n",
    "    assert( labels.max() != 0 ) # assume at least 1 CC\n",
    "    largestCC = labels == np.argmax(np.bincount(labels.flat)[1:])+1\n",
    "    return largestCC\n",
    "\n",
    "def create_if_not(path):\n",
    "    if not os.path.exists(path):\n",
    "        os.makedirs(path)"
   ]
  },
  {
   "cell_type": "code",
   "execution_count": null,
   "metadata": {},
   "outputs": [
    {
     "name": "stdout",
     "output_type": "stream",
     "text": [
      "Processing MC_dropout_quicknat 18/19853.index 0 is out of bounds for axis 0 with size 0\n",
      "Processing MC_dropout_quicknat 25/19853.index 0 is out of bounds for axis 0 with size 0\n",
      "Processing MC_dropout_quicknat 31/19853.index 0 is out of bounds for axis 0 with size 0\n",
      "Processing MC_dropout_quicknat 51/19853.index 0 is out of bounds for axis 0 with size 0\n",
      "Processing MC_dropout_quicknat 68/19853.index 0 is out of bounds for axis 0 with size 0\n",
      "Processing MC_dropout_quicknat 79/19853.index 0 is out of bounds for axis 0 with size 0\n",
      "Processing MC_dropout_quicknat 118/19853.index 0 is out of bounds for axis 0 with size 0\n",
      "Processing MC_dropout_quicknat 175/19853.index 0 is out of bounds for axis 0 with size 0\n",
      "Processing MC_dropout_quicknat 188/19853.index 0 is out of bounds for axis 0 with size 0\n",
      "Processing MC_dropout_quicknat 210/19853.index 0 is out of bounds for axis 0 with size 0\n",
      "Processing MC_dropout_quicknat 233/19853.index 0 is out of bounds for axis 0 with size 0\n",
      "Processing MC_dropout_quicknat 234/19853.index 0 is out of bounds for axis 0 with size 0\n",
      "Processing MC_dropout_quicknat 256/19853.index 0 is out of bounds for axis 0 with size 0\n",
      "Processing MC_dropout_quicknat 274/19853."
     ]
    }
   ],
   "source": [
    "df = pd.read_csv('/home/abhijit/Jyotirmay/my_thesis/projects/MC_dropout_quicknat/reports/MC_dropout_quicknat_UKB_v2/UKB/0_0.0_concat_report_final.csv')\n",
    "\n",
    "with open('/home/abhijit/Jyotirmay/my_thesis/dataset_groups/whole_body_datasets/UKB/test_volumes.txt', mode='r') as file_handler:\n",
    "    volumes = file_handler.read().splitlines()\n",
    "\n",
    "projects = ['MC_dropout_quicknat', 'probabilistic_quicknat']  #'hierarchical_quicknat', 'full_bayesian'\n",
    "\n",
    "dicts = {}\n",
    "for p in projects:\n",
    "    dicts[p] = {}\n",
    "    for ijk, v in enumerate(volumes):\n",
    "        print(\"\\rProcessing {} {}/{}.\".format(p, ijk, len(volumes)), end=\"\")\n",
    "        try: \n",
    "            if p == 'MC_dropout_quicknat':\n",
    "                pfix = df[df['volume_id']==v]['target_scan_file'].values[0].split('.')[0][-1]\n",
    "            else:\n",
    "                pfix = ''\n",
    "\n",
    "            data_nifty = nb.load(f'/home/abhijit/nas_drive/Abhijit/Jyotirmay/ukb_outs/outs/{p}_UKB_v2/{p}_UKB_v2_predictions_UKB/{v}{pfix}_seg.nii.gz')\n",
    "\n",
    "            header = data_nifty.header\n",
    "            data = data_nifty.get_fdata()\n",
    "\n",
    "            liver_seg =np.zeros_like(data)\n",
    "            spleen_seg = np.zeros_like(data)\n",
    "\n",
    "            cc = getLargestCC(data)\n",
    "            liver_seg[cc] = 2\n",
    "\n",
    "            data[cc] = 0\n",
    "            if np.unique(data)[1] != 1:\n",
    "                print('No spleen here!!! ')\n",
    "                continue\n",
    "\n",
    "            ss = getLargestCC(data)\n",
    "            spleen_seg[ss] = 1\n",
    "\n",
    "            gt = (liver_seg + spleen_seg).astype('float32')\n",
    "\n",
    "            nifti_img = nb.MGHImage(np.squeeze(gt), np.eye(4))\n",
    "            path = f'/home/abhijit/nas_drive/Abhijit/Jyotirmay/ukb_outs/outs/{p}_UKB_v2/{p}_UKB_v2_predictions_UKB_post_processed'\n",
    "            create_if_not(path)\n",
    "            nb.save(nifti_img, os.path.join(path, f'{v}_seg.nii.gz'))\n",
    "        except Exception as e:\n",
    "            print(e)\n",
    "            continue"
   ]
  },
  {
   "cell_type": "code",
   "execution_count": null,
   "metadata": {},
   "outputs": [],
   "source": []
  }
 ],
 "metadata": {
  "kernelspec": {
   "display_name": "Python [conda env:tenv]",
   "language": "python",
   "name": "conda-env-tenv-py"
  },
  "language_info": {
   "codemirror_mode": {
    "name": "ipython",
    "version": 3
   },
   "file_extension": ".py",
   "mimetype": "text/x-python",
   "name": "python",
   "nbconvert_exporter": "python",
   "pygments_lexer": "ipython3",
   "version": "3.6.9"
  }
 },
 "nbformat": 4,
 "nbformat_minor": 2
}
