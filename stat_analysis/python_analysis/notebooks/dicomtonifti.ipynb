{
 "cells": [
  {
   "cell_type": "code",
   "execution_count": 1,
   "metadata": {},
   "outputs": [
    {
     "name": "stderr",
     "output_type": "stream",
     "text": [
      "/home/abhijit/anaconda3/envs/py36/lib/python3.6/site-packages/h5py/__init__.py:34: FutureWarning: Conversion of the second argument of issubdtype from `float` to `np.floating` is deprecated. In future, it will be treated as `np.float64 == np.dtype(float).type`.\n",
      "  from ._conv import register_converters as _register_converters\n"
     ]
    }
   ],
   "source": [
    "\n",
    "import nibabel as nb\n",
    "import numpy as np\n",
    "import glob\n",
    "import dicom2nifti"
   ]
  },
  {
   "cell_type": "code",
   "execution_count": 2,
   "metadata": {},
   "outputs": [],
   "source": [
    "# !pip install dicom2nifti"
   ]
  },
  {
   "cell_type": "code",
   "execution_count": 5,
   "metadata": {},
   "outputs": [
    {
     "name": "stderr",
     "output_type": "stream",
     "text": [
      "Slice increment not consistent through all slices\n",
      "---------------------------------------------------------\n",
      "[-163.300003 -170.       -335.045013] [ 0.  0. -5.]\n",
      "[-163.300003 -170.       -320.045013] [  0.   0. -15.]\n",
      "Instance Number: 125\n",
      "---------------------------------------------------------\n",
      "Traceback (most recent call last):\n",
      "  File \"/home/abhijit/anaconda3/envs/py36/lib/python3.6/site-packages/dicom2nifti/convert_dir.py\", line 95, in convert_directory\n",
      "    convert_dicom.dicom_array_to_nifti(dicom_input, nifti_file, reorient)\n",
      "  File \"/home/abhijit/anaconda3/envs/py36/lib/python3.6/site-packages/dicom2nifti/convert_dicom.py\", line 128, in dicom_array_to_nifti\n",
      "    results = convert_generic.dicom_to_nifti(dicom_list, output_file)\n",
      "  File \"/home/abhijit/anaconda3/envs/py36/lib/python3.6/site-packages/dicom2nifti/convert_generic.py\", line 66, in dicom_to_nifti\n",
      "    common.validate_slice_increment(dicom_input)\n",
      "  File \"/home/abhijit/anaconda3/envs/py36/lib/python3.6/site-packages/dicom2nifti/common.py\", line 659, in validate_slice_increment\n",
      "    raise ConversionValidationError('SLICE_INCREMENT_INCONSISTENT')\n",
      "dicom2nifti.exceptions.ConversionValidationError: SLICE_INCREMENT_INCONSISTENT\n",
      "Slice increment not consistent through all slices\n",
      "---------------------------------------------------------\n",
      "[-234.800003 -170.5      -323.75    ] [ 0.    0.   -1.25]\n",
      "[-234.800003 -170.5      -317.5     ] [ 0.    0.   -6.25]\n",
      "Instance Number: 235\n",
      "---------------------------------------------------------\n",
      "Traceback (most recent call last):\n",
      "  File \"/home/abhijit/anaconda3/envs/py36/lib/python3.6/site-packages/dicom2nifti/convert_dir.py\", line 95, in convert_directory\n",
      "    convert_dicom.dicom_array_to_nifti(dicom_input, nifti_file, reorient)\n",
      "  File \"/home/abhijit/anaconda3/envs/py36/lib/python3.6/site-packages/dicom2nifti/convert_dicom.py\", line 128, in dicom_array_to_nifti\n",
      "    results = convert_generic.dicom_to_nifti(dicom_list, output_file)\n",
      "  File \"/home/abhijit/anaconda3/envs/py36/lib/python3.6/site-packages/dicom2nifti/convert_generic.py\", line 66, in dicom_to_nifti\n",
      "    common.validate_slice_increment(dicom_input)\n",
      "  File \"/home/abhijit/anaconda3/envs/py36/lib/python3.6/site-packages/dicom2nifti/common.py\", line 659, in validate_slice_increment\n",
      "    raise ConversionValidationError('SLICE_INCREMENT_INCONSISTENT')\n",
      "dicom2nifti.exceptions.ConversionValidationError: SLICE_INCREMENT_INCONSISTENT\n"
     ]
    }
   ],
   "source": [
    "\n",
    "dicom_directory = '/home/abhijit/Desktop/LDI_DATA/LIDC-IDRI/'\n",
    "output_folder = '/home/abhijit/Jyotirmay/thesis/hquicknat/datasets/LIDC_IDRI/processed_data/data/'\n",
    "dicom2nifti.convert_directory(dicom_directory, output_folder, compression=False, reorient=True)"
   ]
  },
  {
   "cell_type": "code",
   "execution_count": null,
   "metadata": {
    "collapsed": true
   },
   "outputs": [],
   "source": [
    "data_dir = \"/home/abhijit/nas_drive/Data_WholeBody/KORA/KORA_all/KORA_Nifti\"\n",
    "label_dir = \"/home/abhijit/nas_drive/Data_WholeBody/KORA/KORA_segs/ROI_liver_spleen_Daniel\"\n",
    "volumes_txt_file=None\n",
    "modality='1'\n",
    "vol = \"KORA2457143\""
   ]
  },
  {
   "cell_type": "code",
   "execution_count": null,
   "metadata": {},
   "outputs": [],
   "source": [
    "d = nb.load('/home/abhijit/nas_drive/Data_WholeBody/KORA/KORA_segs/ROI_liver_spleen_Daniel/KORA2459258/comp_mask.nii')\n",
    "\n",
    "data = d.get_data()\n",
    "print(d.shape)"
   ]
  },
  {
   "cell_type": "code",
   "execution_count": null,
   "metadata": {
    "collapsed": true
   },
   "outputs": [],
   "source": [
    "def load_file_paths(data_dir, label_dir, volumes_txt_file=None, modality='1'):\n",
    "    \"\"\"\n",
    "    This function returns the file paths combined as a list where each element is a 2 element tuple, 0th being data and 1st being label.\n",
    "    It should be modified to suit the need of the project\n",
    "    :param data_dir: Directory which contains the data files\n",
    "    :param label_dir: Directory which contains the label files\n",
    "    :param volumes_txt_file: (Optional) Path to the a csv file, when provided only these data points will be read\n",
    "    :return: list of file paths as string\n",
    "    \"\"\"\n",
    "\n",
    "    # Dataset dependent fetch configurations read from dataset config file.\n",
    "    DATA_FETCH_CONFIGURATIONS = settings.get('DATA_FETCH_CONFIGURATIONS')\n",
    "\n",
    "    # Being used internally and different for different dataset.\n",
    "    modality_map = eval(DATA_FETCH_CONFIGURATIONS['__modality_map__'])\n",
    "\n",
    "    if volumes_txt_file:\n",
    "        with open(volumes_txt_file) as file_handle:\n",
    "            volumes_to_use = file_handle.read().splitlines()\n",
    "    else:\n",
    "        volumes_to_use = [name for name in os.listdir(data_dir)]\n",
    "\n",
    "    new_excluded = []\n",
    "    zero_file = []\n",
    "    file_paths = []\n",
    "\n",
    "    for vol in volumes_to_use:\n",
    "        try:\n",
    "            data_file_path = DATA_FETCH_CONFIGURATIONS['__data_file_path__']\n",
    "            data_file_path = data_file_path.format(data_dir, vol, modality_map[modality])\n",
    "            label_file_path = DATA_FETCH_CONFIGURATIONS['__label_file_path__']\n",
    "            label_file_path = label_file_path.format(label_dir, vol)\n",
    "\n",
    "            file = glob.glob(eval(data_file_path))\n",
    "            print(file)\n",
    "            if len(file) is not 0:\n",
    "                file_paths.append([file[0], eval(label_file_path)])\n",
    "            else:\n",
    "                zero_file.append(vol)\n",
    "        except Exception as e:\n",
    "            new_excluded.append(vol)\n",
    "            print(e)\n",
    "            continue\n",
    "\n",
    "    return file_paths"
   ]
  },
  {
   "cell_type": "code",
   "execution_count": null,
   "metadata": {},
   "outputs": [],
   "source": [
    "DATA_FETCH_CONFIGURATIONS = settings.get('DATA_FETCH_CONFIGURATIONS')\n",
    "modality_map = eval(DATA_FETCH_CONFIGURATIONS['__modality_map__'])\n",
    "data_file_path = DATA_FETCH_CONFIGURATIONS['__data_file_path__']\n",
    "data_file_path = data_file_path.format(data_dir, vol, modality_map[modality])\n",
    "data_path = eval(data_file_path)\n",
    "paths = glob.glob(data_path)\n",
    "\n",
    "nifti = nb.load(paths[0])\n",
    "\n",
    "data_n = nifti.get_fdata()\n",
    "print(data_n.shape)"
   ]
  },
  {
   "cell_type": "code",
   "execution_count": null,
   "metadata": {},
   "outputs": [],
   "source": [
    "print(nifti.header)"
   ]
  },
  {
   "cell_type": "code",
   "execution_count": null,
   "metadata": {
    "collapsed": true
   },
   "outputs": [],
   "source": []
  }
 ],
 "metadata": {
  "kernelspec": {
   "display_name": "Python (3.6.2)",
   "language": "python",
   "name": "py362"
  },
  "language_info": {
   "codemirror_mode": {
    "name": "ipython",
    "version": 3
   },
   "file_extension": ".py",
   "mimetype": "text/x-python",
   "name": "python",
   "nbconvert_exporter": "python",
   "pygments_lexer": "ipython3",
   "version": "3.6.2"
  }
 },
 "nbformat": 4,
 "nbformat_minor": 2
}
