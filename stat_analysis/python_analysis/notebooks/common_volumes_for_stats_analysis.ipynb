{
 "cells": [
  {
   "cell_type": "code",
   "execution_count": 28,
   "metadata": {},
   "outputs": [],
   "source": [
    "import pandas as pd\n",
    "import numpy as np"
   ]
  },
  {
   "cell_type": "code",
   "execution_count": 38,
   "metadata": {},
   "outputs": [],
   "source": [
    "all_paths = [\n",
    "#     {'full_bayesian': './projects/full_bayesian/reports/full_bayesian_KORA_v2/KORA/10_1571866968.4002764_concat_report_final.csv'},\n",
    "    {'full_bayesian_0dot01': './projects/full_bayesian/reports/full_bayesian_KORA_v4/KORA/10_1572514598.527084_concat_report_final.csv'},\n",
    "    {'MC_dropout_quicknat': './projects/MC_dropout_quicknat/reports/MC_dropout_quicknat_KORA_v2/KORA/10_1572006141.7793334_concat_report_final.csv'}, \n",
    "    {'probabilistic_quicknat': './projects/probabilistic_quicknat/reports/probabilistic_quicknat_KORA_v2/KORA/10_1571996796.7963011_concat_report_final.csv'}, \n",
    "    {'hierarchical_quicknat': './projects/hierarchical_quicknat/reports/hierarchical_quicknat_KORA_v2/KORA/10_1571905560.9377904_concat_report_final.csv'},\n",
    "#     {'all_KORA_processed_False': '/home/abhijit/Jyotirmay/my_thesis/dataset_groups/whole_body_datasets/KORA/all_processed_False_concat_report_final.csv'}, \n",
    "#     {'all_KORA_processed_True': '/home/abhijit/Jyotirmay/my_thesis/dataset_groups/whole_body_datasets/KORA/all_processed_True_concat_report_final.csv'},\n",
    "#     {'test_KORA_processed_False': '/home/abhijit/Jyotirmay/my_thesis/dataset_groups/whole_body_datasets/KORA/test_processed_False_concat_report_final.csv'}, \n",
    "#     {'test_KORA_processed_True': '/home/abhijit/Jyotirmay/my_thesis/dataset_groups/whole_body_datasets/KORA/test_processed_True_concat_report_final.csv'}\n",
    "]"
   ]
  },
  {
   "cell_type": "code",
   "execution_count": 39,
   "metadata": {},
   "outputs": [],
   "source": [
    "model_merged_feats_path_combined = {key:val for d in all_paths for key,val in d.items()}"
   ]
  },
  {
   "cell_type": "code",
   "execution_count": 43,
   "metadata": {},
   "outputs": [
    {
     "name": "stdout",
     "output_type": "stream",
     "text": [
      "full_bayesian_0dot01 (148,)\n",
      "MC_dropout_quicknat (150,)\n",
      "probabilistic_quicknat (153,)\n",
      "hierarchical_quicknat (153,)\n"
     ]
    },
    {
     "data": {
      "text/plain": [
       "(147,)"
      ]
     },
     "execution_count": 43,
     "metadata": {},
     "output_type": "execute_result"
    }
   ],
   "source": [
    "def get_common_vols_based_on_given_col(reference_col='iou_mean', threshold_value=0.51):\n",
    "    common_vols = []\n",
    "    model_merged_feats_path_combined = {key:val for d in all_paths for key,val in d.items()}\n",
    "    for key, value in model_merged_feats_path_combined.items():\n",
    "        df = pd.read_csv(value)\n",
    "        df_filter = df[df[reference_col]>threshold_value]\n",
    "        filtered_vols = df_filter.volume_id.values\n",
    "        print(key, filtered_vols.shape)\n",
    "        if len(common_vols) == 0:\n",
    "            common_vols = filtered_vols\n",
    "        else:\n",
    "            common_vols = np.intersect1d(common_vols, filtered_vols)    \n",
    "    return common_vols.shape\n",
    "\n",
    "get_common_vols_based_on_given_col()"
   ]
  },
  {
   "cell_type": "code",
   "execution_count": 22,
   "metadata": {},
   "outputs": [
    {
     "data": {
      "text/plain": [
       "(148,)"
      ]
     },
     "execution_count": 22,
     "metadata": {},
     "output_type": "execute_result"
    }
   ],
   "source": [
    "df = pd.read_csv(all_paths[1]['full_bayesian_0dot01'])\n",
    "df_filter = df[df.iou_mean>0.51]\n",
    "fb_vols = df_filter.volume_id.values\n",
    "df_filter.volume_id.values.shape"
   ]
  },
  {
   "cell_type": "code",
   "execution_count": 23,
   "metadata": {},
   "outputs": [
    {
     "data": {
      "text/plain": [
       "(150,)"
      ]
     },
     "execution_count": 23,
     "metadata": {},
     "output_type": "execute_result"
    }
   ],
   "source": [
    "df = pd.read_csv(all_paths[2]['MC_dropout_quicknat'])\n",
    "df_filter = df[df.iou_mean>0.51]\n",
    "mc_vols = df_filter.volume_id.values\n",
    "df_filter.volume_id.values.shape"
   ]
  },
  {
   "cell_type": "code",
   "execution_count": 24,
   "metadata": {},
   "outputs": [
    {
     "data": {
      "text/plain": [
       "(153,)"
      ]
     },
     "execution_count": 24,
     "metadata": {},
     "output_type": "execute_result"
    }
   ],
   "source": [
    "df = pd.read_csv(all_paths[3]['probabilistic_quicknat'])\n",
    "df_filter = df[df.iou_mean>0.51]\n",
    "pq_vols = df_filter.volume_id.values\n",
    "df_filter.volume_id.values.shape"
   ]
  },
  {
   "cell_type": "code",
   "execution_count": 25,
   "metadata": {},
   "outputs": [
    {
     "data": {
      "text/plain": [
       "(153,)"
      ]
     },
     "execution_count": 25,
     "metadata": {},
     "output_type": "execute_result"
    }
   ],
   "source": [
    "df = pd.read_csv(all_paths[4]['hierarchical_quicknat'])\n",
    "df_filter = df[df.iou_mean>0.51]\n",
    "hq_vols = df_filter.volume_id.values\n",
    "df_filter.volume_id.values.shape"
   ]
  },
  {
   "cell_type": "code",
   "execution_count": 26,
   "metadata": {},
   "outputs": [],
   "source": [
    "from functools import reduce"
   ]
  },
  {
   "cell_type": "code",
   "execution_count": 29,
   "metadata": {},
   "outputs": [
    {
     "data": {
      "text/plain": [
       "(147,)"
      ]
     },
     "execution_count": 29,
     "metadata": {},
     "output_type": "execute_result"
    }
   ],
   "source": [
    "vols = reduce(np.intersect1d, (fb_vols, mc_vols, pq_vols, hq_vols))\n",
    "vols.shape"
   ]
  },
  {
   "cell_type": "code",
   "execution_count": 30,
   "metadata": {},
   "outputs": [
    {
     "data": {
      "text/plain": [
       "array(['KORA2452094', 'KORA2452129', 'KORA2452190', 'KORA2452206',\n",
       "       'KORA2452263', 'KORA2452316', 'KORA2452338', 'KORA2452353',\n",
       "       'KORA2452364', 'KORA2452381', 'KORA2452409', 'KORA2452426',\n",
       "       'KORA2452659', 'KORA2452665', 'KORA2452687', 'KORA2452801',\n",
       "       'KORA2452812', 'KORA2452834', 'KORA2452868', 'KORA2452913',\n",
       "       'KORA2452941', 'KORA2452967', 'KORA2453037', 'KORA2453048',\n",
       "       'KORA2453082', 'KORA2453136', 'KORA2453150', 'KORA2453172',\n",
       "       'KORA2453194', 'KORA2453290', 'KORA2453306', 'KORA2453328',\n",
       "       'KORA2453363', 'KORA2453374', 'KORA2453464', 'KORA2453470',\n",
       "       'KORA2453524', 'KORA2453578', 'KORA2453589', 'KORA2453620',\n",
       "       'KORA2453677', 'KORA2453732', 'KORA2453765', 'KORA2453811',\n",
       "       'KORA2453833', 'KORA2453844', 'KORA2454788', 'KORA2455042',\n",
       "       'KORA2455268', 'KORA2455296', 'KORA2455525', 'KORA2455753',\n",
       "       'KORA2455946', 'KORA2456021', 'KORA2456199', 'KORA2456202',\n",
       "       'KORA2456241', 'KORA2456278', 'KORA2456340', 'KORA2456357',\n",
       "       'KORA2456379', 'KORA2456385', 'KORA2456562', 'KORA2456661',\n",
       "       'KORA2456672', 'KORA2456917', 'KORA2456928', 'KORA2457044',\n",
       "       'KORA2457266', 'KORA2457401', 'KORA2457517', 'KORA2458040',\n",
       "       'KORA2458068', 'KORA2458158', 'KORA2458197', 'KORA2458265',\n",
       "       'KORA2458366', 'KORA2458402', 'KORA2458707', 'KORA2459067',\n",
       "       'KORA2459123', 'KORA2459310', 'KORA2459455', 'KORA2459477',\n",
       "       'KORA2459499', 'KORA2459526', 'KORA2459548', 'KORA2459605',\n",
       "       'KORA2459681', 'KORA2459745', 'KORA2459752', 'KORA2459763',\n",
       "       'KORA2459774', 'KORA2459807', 'KORA2459873', 'KORA2459908',\n",
       "       'KORA2459947', 'KORA2459972', 'KORA2459983', 'KORA2460145',\n",
       "       'KORA2460174', 'KORA2460216', 'KORA2460249', 'KORA2460309',\n",
       "       'KORA2460315', 'KORA2460326', 'KORA2460348', 'KORA2460447',\n",
       "       'KORA2460472', 'KORA2460504', 'KORA2460543', 'KORA2460565',\n",
       "       'KORA2460633', 'KORA2460768', 'KORA2460779', 'KORA2460785',\n",
       "       'KORA2460824', 'KORA2460830', 'KORA2460867', 'KORA2460878',\n",
       "       'KORA2460889', 'KORA2460903', 'KORA2461146', 'KORA2461151',\n",
       "       'KORA2461184', 'KORA2461206', 'KORA2461252', 'KORA2461338',\n",
       "       'KORA2461349', 'KORA2461392', 'KORA2461409', 'KORA2461493',\n",
       "       'KORA2461520', 'KORA2461555', 'KORA2461577', 'KORA2461632',\n",
       "       'KORA2461868', 'KORA2461885', 'KORA2461956', 'KORA2462093',\n",
       "       'KORA2462119', 'KORA2462150', 'KORA2462161', 'KORA2462345',\n",
       "       'KORA2462352', 'KORA2462374', 'KORA2462380'], dtype=object)"
      ]
     },
     "execution_count": 30,
     "metadata": {},
     "output_type": "execute_result"
    }
   ],
   "source": [
    "vols"
   ]
  },
  {
   "cell_type": "code",
   "execution_count": null,
   "metadata": {},
   "outputs": [],
   "source": []
  }
 ],
 "metadata": {
  "kernelspec": {
   "display_name": "Python [conda env:tenv]",
   "language": "python",
   "name": "conda-env-tenv-py"
  },
  "language_info": {
   "codemirror_mode": {
    "name": "ipython",
    "version": 3
   },
   "file_extension": ".py",
   "mimetype": "text/x-python",
   "name": "python",
   "nbconvert_exporter": "python",
   "pygments_lexer": "ipython3",
   "version": "3.6.9"
  }
 },
 "nbformat": 4,
 "nbformat_minor": 2
}
