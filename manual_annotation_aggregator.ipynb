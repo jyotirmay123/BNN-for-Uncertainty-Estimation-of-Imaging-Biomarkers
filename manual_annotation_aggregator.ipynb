{
 "cells": [
  {
   "cell_type": "code",
   "execution_count": 7,
   "metadata": {
    "collapsed": true
   },
   "outputs": [],
   "source": [
    "import glob\n",
    "import nibabel as nb\n",
    "import numpy as np\n",
    "import matplotlib.pyplot as plt\n",
    "import nrrd\n",
    "%matplotlib inline\n"
   ]
  },
  {
   "cell_type": "code",
   "execution_count": 9,
   "metadata": {},
   "outputs": [
    {
     "name": "stderr",
     "output_type": "stream",
     "text": [
      "/home/abhijit/anaconda3/envs/deep_learning/lib/python3.5/site-packages/ipykernel_launcher.py:2: RuntimeWarning: divide by zero encountered in true_divide\n",
      "  \n"
     ]
    },
    {
     "data": {
      "text/plain": [
       "inf"
      ]
     },
     "execution_count": 9,
     "metadata": {},
     "output_type": "execute_result"
    }
   ],
   "source": [
    "np.seterr(divide=None)\n",
    "np.divide(1.0, 0)"
   ]
  },
  {
   "cell_type": "code",
   "execution_count": 5,
   "metadata": {},
   "outputs": [
    {
     "ename": "TypeError",
     "evalue": "add() argument after ** must be a mapping, not tuple",
     "output_type": "error",
     "traceback": [
      "\u001b[0;31m---------------------------------------------------------------------------\u001b[0m",
      "\u001b[0;31mTypeError\u001b[0m                                 Traceback (most recent call last)",
      "\u001b[0;32m<ipython-input-5-b561a862ae4f>\u001b[0m in \u001b[0;36m<module>\u001b[0;34m()\u001b[0m\n\u001b[0;32m----> 1\u001b[0;31m \u001b[0madd\u001b[0m\u001b[0;34m(\u001b[0m\u001b[0;34m**\u001b[0m\u001b[0ma\u001b[0m\u001b[0;34m)\u001b[0m\u001b[0;34m\u001b[0m\u001b[0m\n\u001b[0m",
      "\u001b[0;31mTypeError\u001b[0m: add() argument after ** must be a mapping, not tuple"
     ]
    }
   ],
   "source": [
    "add(**a)"
   ]
  },
  {
   "cell_type": "code",
   "execution_count": 9,
   "metadata": {
    "collapsed": true
   },
   "outputs": [],
   "source": [
    "def nrrd_reader(file_path):\n",
    "    _nrrd = nrrd.read(file_path)\n",
    "    data = _nrrd[0]\n",
    "    header = _nrrd[1]\n",
    "    return data, header"
   ]
  },
  {
   "cell_type": "code",
   "execution_count": 61,
   "metadata": {},
   "outputs": [
    {
     "name": "stdout",
     "output_type": "stream",
     "text": [
      "1942395_20201_2_0_merged_annotations.nii.gz\n",
      "skipped\n",
      "1013250_20201_2_0_merged_annotations.nii.gz\n",
      "skipped\n",
      "1013391_20201_2_0\n",
      "1004985_20201_2_0\n",
      "skipped\n",
      "1019631_20201_2_0\n",
      "skipped\n",
      "1005379_20201_2_0\n",
      "1883132_20201_2_0\n",
      "skipped\n",
      "1584559_20201_2_0\n",
      "skipped\n",
      "1005379_20201_2_0_merged_annotations.nii.gz\n",
      "skipped\n",
      "1003082_20201_2_0\n",
      "skipped\n",
      "1002359_20201_2_0_merged_annotations.nii.gz\n",
      "skipped\n",
      "1942395_20201_2_0\n",
      "1002359_20201_2_0\n",
      "1013250_20201_2_0\n",
      "1013391_20201_2_0_merged_annotations.nii.gz\n",
      "skipped\n"
     ]
    }
   ],
   "source": [
    "\n",
    "def merge_annotations(annotations_root='/home/abhijit/Jyotirmay/thesis/Manual annotations/Finals/UKB/*', classes=['spleen', 'liver']):\n",
    "    paths = glob.glob(annotations_root)\n",
    "\n",
    "    for p in paths:\n",
    "        id_ = p.split('/')[-1]\n",
    "        print(id_)\n",
    "        annotations = glob.glob(p+'/**')\n",
    "        if len(annotations) > len(classes):\n",
    "            print('skipped')\n",
    "            continue\n",
    "\n",
    "        merged_annotations = None\n",
    "        data_ = {c:None for c in classes}\n",
    "        \n",
    "        for a in annotations:\n",
    "            data, header = nrrd_reader(a)\n",
    "            \n",
    "#             _ = [data_[c] = np.multiply(i, data) for i, c in enumerate(classes) if c.upper() in a.upper()]\n",
    "            \n",
    "            if 'SPLEEN' in a.upper():\n",
    "                data_['spleen'] = data\n",
    "            elif 'LIVER' in a.upper():\n",
    "                data_['liver'] = np.multiply(2, data)\n",
    "                \n",
    "        if data_['spleen'] is None or data_['liver'] is None:\n",
    "            print('skipped')\n",
    "            continue\n",
    "\n",
    "        merged_annotations = np.add(data_['spleen'],data_['liver'])\n",
    "        img = nb.Nifti1Image(merged_annotations, np.eye(4))\n",
    "        filename = '/'.join(annotations[0].split('/')[:-2])+'/'+id_+'_merged_annotations.nii.gz'\n",
    "        nb.save(img, filename)\n",
    "        \n",
    "merge_annotations()\n"
   ]
  },
  {
   "cell_type": "code",
   "execution_count": 12,
   "metadata": {
    "collapsed": true
   },
   "outputs": [],
   "source": [
    "class x():\n",
    "    def __init__(self):\n",
    "        print('hi')\n",
    "        self.sayHi()\n",
    "    \n",
    "    @staticmethod\n",
    "    def hello():\n",
    "        print('static')\n",
    "    \n",
    "    def sayHi(self):\n",
    "        self.hello()"
   ]
  },
  {
   "cell_type": "code",
   "execution_count": 13,
   "metadata": {},
   "outputs": [
    {
     "name": "stdout",
     "output_type": "stream",
     "text": [
      "hi\n",
      "static\n"
     ]
    }
   ],
   "source": [
    "xx = x()"
   ]
  },
  {
   "cell_type": "code",
   "execution_count": 15,
   "metadata": {},
   "outputs": [
    {
     "name": "stdout",
     "output_type": "stream",
     "text": [
      "static\n"
     ]
    }
   ],
   "source": [
    "x.hello()"
   ]
  },
  {
   "cell_type": "code",
   "execution_count": 22,
   "metadata": {},
   "outputs": [
    {
     "name": "stdout",
     "output_type": "stream",
     "text": [
      "{'f': 8, 'j': 9}\n"
     ]
    }
   ],
   "source": [
    "a = {'f': 8}\n",
    "b = {'j': 9}\n",
    "\n",
    "c = a.update(b)\n",
    "print(a)"
   ]
  },
  {
   "cell_type": "code",
   "execution_count": 21,
   "metadata": {},
   "outputs": [
    {
     "name": "stdout",
     "output_type": "stream",
     "text": [
      "None\n"
     ]
    },
    {
     "data": {
      "text/plain": [
       "{'bookA': 1, 'bookB': 2, 'bookC': 3, 'bookD': 4, 'bookE': 5}"
      ]
     },
     "execution_count": 21,
     "metadata": {},
     "output_type": "execute_result"
    }
   ],
   "source": [
    "dict1 = {'bookA': 1, 'bookB': 2, 'bookC': 3}\n",
    "dict2 = {'bookC': 2, 'bookD': 4, 'bookE': 5}\n",
    "print(dict2.update(dict1))\n",
    "\n",
    "dict2"
   ]
  },
  {
   "cell_type": "code",
   "execution_count": null,
   "metadata": {
    "collapsed": true
   },
   "outputs": [],
   "source": []
  }
 ],
 "metadata": {
  "kernelspec": {
   "display_name": "Python (py37)",
   "language": "python",
   "name": "py37"
  },
  "language_info": {
   "codemirror_mode": {
    "name": "ipython",
    "version": 3
   },
   "file_extension": ".py",
   "mimetype": "text/x-python",
   "name": "python",
   "nbconvert_exporter": "python",
   "pygments_lexer": "ipython3",
   "version": "3.5.3"
  }
 },
 "nbformat": 4,
 "nbformat_minor": 2
}
