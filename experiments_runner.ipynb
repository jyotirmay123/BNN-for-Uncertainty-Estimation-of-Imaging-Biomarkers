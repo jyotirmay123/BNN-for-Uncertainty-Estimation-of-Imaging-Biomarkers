{
 "cells": [
  {
   "cell_type": "code",
   "execution_count": null,
   "metadata": {
    "collapsed": true
   },
   "outputs": [],
   "source": [
    "# Settings.update_system_status_values(self.dataset_config_path, 'DATA_CONFIG', 'is_pre_processed', 'True')\n",
    "\n",
    "#add and change vaues from config files.\n",
    "test_cases = [\n",
    "#     {\n",
    "#     'train': False,\n",
    "#     'model': 'quicknat_v4',\n",
    "#     'dataset': 'KORA'\n",
    "# },\n",
    "{\n",
    "    'train': False,\n",
    "    'model': '\"hquicknat_v4\"',\n",
    "    'dataset': '\"NAKO\"'\n",
    "},\n",
    "{\n",
    "    'train': False,\n",
    "    'model': '\"hquicknat_v4\"',\n",
    "    'dataset': '\"UKB\"'\n",
    "}\n",
    "]\n",
    "\n"
   ]
  },
  {
   "cell_type": "code",
   "execution_count": null,
   "metadata": {},
   "outputs": [],
   "source": [
    "\n",
    "\n",
    "for test in test_cases:\n",
    "    Settings.update_system_status_values(settings_path, 'DEFAULT', 'exp_name', str(test['model']))\n",
    "    Settings.update_system_status_values(settings_path, 'DEFAULT', 'dataset', str(test['dataset']))\n",
    "    #Settings.update_system_status_values(settings_path, 'EVAL', 'mc_sample', test['mc_sample'])\n",
    "    \n",
    "    settings = compile_config(settings_path)\n",
    "    executor = Executor(settings)\n",
    "    \n",
    "    common_params = executor.common_params\n",
    "    data_params = executor.data_params\n",
    "    net_params = executor.net_params\n",
    "    train_params = executor.train_params\n",
    "    eval_params = executor.eval_params\n",
    "    data_config_params = executor.data_config_params\n",
    "    eval_params.update(data_config_params)\n",
    "\n",
    "    if test['train']:\n",
    "        executor.train(train_params, common_params, data_params, net_params)\n",
    "    else:\n",
    "        executor.evaluate(eval_params, net_params, data_params, common_params, train_params)\n",
    "#.update_system_status_values(self.dataset_config_path, 'DATA_CONFIG', 'is_pre_processed', 'True')"
   ]
  },
  {
   "cell_type": "code",
   "execution_count": null,
   "metadata": {},
   "outputs": [],
   "source": [
    "!conda --version"
   ]
  },
  {
   "cell_type": "code",
   "execution_count": null,
   "metadata": {},
   "outputs": [],
   "source": [
    "settings = compile_config(settings_path)\n",
    "\n",
    "\n",
    "        \n",
    "executor = Executor(settings)\n",
    "\n"
   ]
  },
  {
   "cell_type": "code",
   "execution_count": null,
   "metadata": {
    "collapsed": true
   },
   "outputs": [],
   "source": []
  }
 ],
 "metadata": {
  "kernelspec": {
   "display_name": "Python (3.6.2)",
   "language": "python",
   "name": "py362"
  },
  "language_info": {
   "codemirror_mode": {
    "name": "ipython",
    "version": 3
   },
   "file_extension": ".py",
   "mimetype": "text/x-python",
   "name": "python",
   "nbconvert_exporter": "python",
   "pygments_lexer": "ipython3",
   "version": "3.6.2"
  }
 },
 "nbformat": 4,
 "nbformat_minor": 2
}
