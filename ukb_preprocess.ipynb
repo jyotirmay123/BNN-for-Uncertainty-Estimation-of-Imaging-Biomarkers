{
 "cells": [
  {
   "cell_type": "code",
   "execution_count": 1,
   "metadata": {},
   "outputs": [],
   "source": [
    "import pandas as pd\n",
    "import nibabel as nb\n",
    "import os\n",
    "import shutil"
   ]
  },
  {
   "cell_type": "code",
   "execution_count": 2,
   "metadata": {},
   "outputs": [],
   "source": [
    "def organise_target_and_volumeid(df_path='/home/abhijit/Jyotirmay/my_thesis/projects/MC_dropout_quicknat/reports/MC_dropout_quicknat_UKB_v2/UKB/10_1573078374.453554_report.csv'):\n",
    "    df = pd.read_csv(df_path, index_col=0)\n",
    "    if df['dataset'].values[1] != 2:\n",
    "        print('Not a UKB dataset report, not processing!')\n",
    "        return False\n",
    "    def replace_func(value):\n",
    "        string = value[-1]\n",
    "        return f'Dixon_BH_17s_opp_Dixon_BH_17{string}.nii.gz' if string == 's' else f'Dixon_BH_17s_opp_Dixon_BH_17s{string}.nii.gz'\n",
    "    df['target_scan_file'] = df['volume_id'].apply(replace_func)\n",
    "    df['volume_id'] = df['volume_id'].apply(lambda x: x[:-1])\n",
    "    return df\n",
    "\n",
    "def concat_partial_model_reports(paths):\n",
    "    df = None\n",
    "#     ids = ['10_1573078374.453554', '10_1573225388.879571', '10_1573391294.0298784']\n",
    "#     paths = [f'/home/abhijit/Jyotirmay/my_thesis/projects/MC_dropout_quicknat/reports/MC_dropout_quicknat_UKB_v2/UKB/{i}_report.csv' for i in ids]\n",
    "    \n",
    "    for ix, p in enumerate(paths):\n",
    "        df_ = organise_target_and_volumeid(p)\n",
    "        df_ = df_.drop(df_.index[0])\n",
    "        if ix == 0:\n",
    "            df = df_\n",
    "        else:\n",
    "            df = df.append(df_, ignore_index=True)\n",
    "    return df"
   ]
  },
  {
   "cell_type": "code",
   "execution_count": null,
   "metadata": {},
   "outputs": [],
   "source": [
    "ids = ['10_1573078374.453554', '10_1573225388.879571', '10_1573391294.0298784']\n",
    "paths = [f'/home/abhijit/Jyotirmay/my_thesis/projects/MC_dropout_quicknat/reports/MC_dropout_quicknat_UKB_v2/UKB/{i}_report.csv' for i in ids]\n",
    "df = concat_partial_model_reports(paths)  "
   ]
  },
  {
   "cell_type": "code",
   "execution_count": null,
   "metadata": {},
   "outputs": [],
   "source": [
    "df.to_csv('/home/abhijit/Jyotirmay/my_thesis/projects/MC_dropout_quicknat/reports/MC_dropout_quicknat_UKB_v2/UKB/10_0.0_report.csv')"
   ]
  },
  {
   "cell_type": "code",
   "execution_count": null,
   "metadata": {},
   "outputs": [],
   "source": [
    "df = pd.read_csv('/home/abhijit/Jyotirmay/my_thesis/projects/MC_dropout_quicknat/reports/MC_dropout_quicknat_UKB_v2/UKB/10_0.0_report.csv', index_col=0)"
   ]
  },
  {
   "cell_type": "code",
   "execution_count": null,
   "metadata": {},
   "outputs": [],
   "source": [
    "df"
   ]
  },
  {
   "cell_type": "code",
   "execution_count": 3,
   "metadata": {},
   "outputs": [],
   "source": [
    "with open('/home/abhijit/Jyotirmay/my_thesis/dataset_groups/whole_body_datasets/UKB/test_volumes.txt') as file_handle:\n",
    "        volumes_to_use = file_handle.read().splitlines()"
   ]
  },
  {
   "cell_type": "code",
   "execution_count": 4,
   "metadata": {},
   "outputs": [
    {
     "data": {
      "text/plain": [
       "19853"
      ]
     },
     "execution_count": 4,
     "metadata": {},
     "output_type": "execute_result"
    }
   ],
   "source": [
    "len(volumes_to_use)"
   ]
  },
  {
   "cell_type": "code",
   "execution_count": 5,
   "metadata": {},
   "outputs": [],
   "source": [
    "df = pd.read_csv('/home/abhijit/Jyotirmay/my_thesis/projects/MC_dropout_quicknat/reports/MC_dropout_quicknat_UKB_v2/UKB/0_0.0_concat_report_final.csv', index_col=0)"
   ]
  },
  {
   "cell_type": "code",
   "execution_count": 9,
   "metadata": {},
   "outputs": [
    {
     "name": "stdout",
     "output_type": "stream",
     "text": [
      "Processing 19852/19853."
     ]
    }
   ],
   "source": [
    "# have 3all 3 as good files for volume: 5900151_20201_2_0\n",
    "\n",
    "\n",
    "for ix, v in enumerate(volumes_to_use):\n",
    "    print(\"\\rProcessing {}/{}.\".format(ix, len(volumes_to_use)), end=\"\")\n",
    "    iou_mean = df[df['volume_id']==v]['iou_mean'].values\n",
    "    i1, i2 = None, None\n",
    "    try:\n",
    "        if len(iou_mean) < 1:\n",
    "            continue\n",
    "        elif len(iou_mean) ==1:\n",
    "            continue\n",
    "        elif len(iou_mean)==2:\n",
    "            i1, i2 = iou_mean\n",
    "            if i1>i2:\n",
    "                idx = i2\n",
    "            else:\n",
    "                idx = i1\n",
    "            df.drop(df.loc[(df['volume_id']==v) & (df['iou_mean']==idx)].index, inplace=True)\n",
    "        elif len(iou_mean) == 3:\n",
    "            df.drop(df.loc[df['volume_id']==v].index, inplace=True)\n",
    "        else:\n",
    "            print('coming to else part!!!')\n",
    "            continue\n",
    "            \n",
    "                \n",
    "#         if len(targets)>1:\n",
    "#             i1, i2 = df[df['volume_id']==v]['iou_mean'].values\n",
    "#             if i1>i2:\n",
    "#                 idx = 0\n",
    "#             else:\n",
    "#                 idx = 1\n",
    "#             target = targets[idx]\n",
    "#         elif len(targets)==0:\n",
    "#             continue\n",
    "#         else:\n",
    "#             target = targets[0]\n",
    "\n",
    "#     #     input_file = '/home/abhijit/nas_drive/Data_WholeBody/UKBiobank/body/body_nifti/'+str(v)+'/'+target\n",
    "#     #     gt_file = None\n",
    "#     #     f_paths.append([input_file, gt_file])\n",
    "#         postfix = target.split('.')[0][-1]\n",
    "#         shutil.copy2(f'/home/abhijit/nas_drive/Abhijit/Jyotirmay/ukb_processed/data/{v}{postfix}.nii.gz',\n",
    "#                      f'/home/abhijit/nas_drive/Abhijit/Jyotirmay/ukb_processed/data_/{v}.nii.gz')\n",
    "    except Exception as e:\n",
    "        print(e, ix, v)\n",
    "        continue\n",
    "\n",
    "df.to_csv('/home/abhijit/Jyotirmay/my_thesis/projects/MC_dropout_quicknat/reports/MC_dropout_quicknat_UKB_v2/UKB/0_0.0_modified_concat_report_final.csv')"
   ]
  },
  {
   "cell_type": "code",
   "execution_count": null,
   "metadata": {},
   "outputs": [],
   "source": [
    "len(f_paths)"
   ]
  },
  {
   "cell_type": "code",
   "execution_count": null,
   "metadata": {},
   "outputs": [],
   "source": [
    "f_paths"
   ]
  },
  {
   "cell_type": "code",
   "execution_count": null,
   "metadata": {},
   "outputs": [],
   "source": [
    "import torch"
   ]
  },
  {
   "cell_type": "code",
   "execution_count": null,
   "metadata": {},
   "outputs": [],
   "source": [
    "model = torch.load('/home/abhijit/Jyotirmay/my_thesis/projects/full_bayesian/saved_models/full_bayesian_KORA_v2.pth.tar')"
   ]
  },
  {
   "cell_type": "code",
   "execution_count": null,
   "metadata": {},
   "outputs": [],
   "source": [
    "torch.save(model.state_dict(), '/home/abhijit/Jyotirmay/whole_body_pipeline/nn_api/nn_api/pytorch_models/full_bayesian.model')"
   ]
  },
  {
   "cell_type": "code",
   "execution_count": null,
   "metadata": {},
   "outputs": [],
   "source": []
  }
 ],
 "metadata": {
  "kernelspec": {
   "display_name": "Python [conda env:tenv]",
   "language": "python",
   "name": "conda-env-tenv-py"
  },
  "language_info": {
   "codemirror_mode": {
    "name": "ipython",
    "version": 3
   },
   "file_extension": ".py",
   "mimetype": "text/x-python",
   "name": "python",
   "nbconvert_exporter": "python",
   "pygments_lexer": "ipython3",
   "version": "3.6.9"
  }
 },
 "nbformat": 4,
 "nbformat_minor": 2
}
