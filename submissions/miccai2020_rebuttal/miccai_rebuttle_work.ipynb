{
 "cells": [
  {
   "cell_type": "code",
   "execution_count": 15,
   "metadata": {},
   "outputs": [],
   "source": [
    "import pandas as pd\n",
    "import numpy as np\n",
    "\n",
    "from statsmodels.stats.contingency_tables import mcnemar"
   ]
  },
  {
   "cell_type": "code",
   "execution_count": 16,
   "metadata": {},
   "outputs": [],
   "source": [
    "# manual = pd.read_csv('./manual_counts.csv')\n",
    "base = pd.read_csv('./basic_counts.csv')\n",
    "\n",
    "manual = base['V5']\n",
    "\n",
    "basic = base[['V1', 'V2', 'V3', 'V4']]\n",
    "\n",
    "interations = pd.read_csv(\"./interaction_counts.csv\")\n",
    "variable = pd.read_csv(\"./variable_counts.csv\")\n",
    "instance = pd.read_csv(\"./instance_counts.csv\")\n",
    "\n",
    "# mc = pd.read_csv('/Users/jyotirmaysenapati/Desktop/Projects/PYTHON/all_accs/mc_acc.csv')\n",
    "# mc = pd.read_csv('/Users/jyotirmaysenapati/Desktop/Projects/PYTHON/all_accs/mc_acc.csv')\n",
    "# mc = pd.read_csv('/Users/jyotirmaysenapati/Desktop/Projects/PYTHON/all_accs/mc_acc.csv')"
   ]
  },
  {
   "cell_type": "code",
   "execution_count": 20,
   "metadata": {},
   "outputs": [
    {
     "data": {
      "text/plain": [
       "0    0\n",
       "1    1\n",
       "2    0\n",
       "3    0\n",
       "4    0\n",
       "Name: V5, dtype: int64"
      ]
     },
     "execution_count": 20,
     "metadata": {},
     "output_type": "execute_result"
    }
   ],
   "source": [
    "manual.head()"
   ]
  },
  {
   "cell_type": "code",
   "execution_count": 25,
   "metadata": {},
   "outputs": [
    {
     "name": "stdout",
     "output_type": "stream",
     "text": [
      "variable and V1:\n",
      "statistic=17.000, p-value=0.522397\n",
      "[[120, 17], [22, 599]]\n",
      "instance and V1:\n",
      "statistic=0.000, p-value=0.031250\n",
      "[[132, 6], [0, 621]]\n",
      "interactions and V1:\n",
      "statistic=33.000, p-value=0.555998\n",
      "[[98, 39], [33, 588]]\n",
      "variable and V2:\n",
      "statistic=15.000, p-value=0.001496\n",
      "[[101, 15], [39, 604]]\n",
      "instance and V2:\n",
      "statistic=0.000, p-value=0.015625\n",
      "[[108, 7], [0, 643]]\n",
      "interactions and V2:\n",
      "statistic=25.000, p-value=0.049800\n",
      "[[90, 25], [42, 601]]\n",
      "variable and V3:\n",
      "statistic=22.000, p-value=0.111161\n",
      "[[114, 22], [35, 588]]\n",
      "instance and V3:\n",
      "statistic=0.000, p-value=1.000000\n",
      "[[135, 0], [0, 623]]\n",
      "interactions and V3:\n",
      "statistic=45.000, p-value=0.542610\n",
      "[[90, 45], [52, 571]]\n",
      "variable and V4:\n",
      "statistic=16.000, p-value=1.000000\n",
      "[[120, 16], [16, 606]]\n",
      "instance and V4:\n",
      "statistic=0.000, p-value=1.000000\n",
      "[[136, 0], [0, 622]]\n",
      "interactions and V4:\n",
      "statistic=22.000, p-value=0.271679\n",
      "[[105, 31], [22, 599]]\n",
      "{'MC_Dropout': {'variable': 0.5223973804968403, 'instance': 0.03125, 'interactions': 0.5559977177609707}, 'FullBayesian': {'variable': 0.001496258885393508, 'instance': 0.015625, 'interactions': 0.049800114294728644}, 'Probabilistic': {'variable': 0.11116111910399346, 'instance': 1.0, 'interactions': 0.5426101580458748}, 'Hierarchical': {'variable': 1.0, 'instance': 1.0, 'interactions': 0.2716791660655032}}\n"
     ]
    },
    {
     "data": {
      "text/html": [
       "<div>\n",
       "<style scoped>\n",
       "    .dataframe tbody tr th:only-of-type {\n",
       "        vertical-align: middle;\n",
       "    }\n",
       "\n",
       "    .dataframe tbody tr th {\n",
       "        vertical-align: top;\n",
       "    }\n",
       "\n",
       "    .dataframe thead th {\n",
       "        text-align: right;\n",
       "    }\n",
       "</style>\n",
       "<table border=\"1\" class=\"dataframe\">\n",
       "  <thead>\n",
       "    <tr style=\"text-align: right;\">\n",
       "      <th></th>\n",
       "      <th>variable</th>\n",
       "      <th>instance</th>\n",
       "      <th>interactions</th>\n",
       "    </tr>\n",
       "  </thead>\n",
       "  <tbody>\n",
       "    <tr>\n",
       "      <th>MC_Dropout</th>\n",
       "      <td>0.522397</td>\n",
       "      <td>0.031250</td>\n",
       "      <td>0.555998</td>\n",
       "    </tr>\n",
       "    <tr>\n",
       "      <th>FullBayesian</th>\n",
       "      <td>0.001496</td>\n",
       "      <td>0.015625</td>\n",
       "      <td>0.049800</td>\n",
       "    </tr>\n",
       "    <tr>\n",
       "      <th>Probabilistic</th>\n",
       "      <td>0.111161</td>\n",
       "      <td>1.000000</td>\n",
       "      <td>0.542610</td>\n",
       "    </tr>\n",
       "    <tr>\n",
       "      <th>Hierarchical</th>\n",
       "      <td>1.000000</td>\n",
       "      <td>1.000000</td>\n",
       "      <td>0.271679</td>\n",
       "    </tr>\n",
       "  </tbody>\n",
       "</table>\n",
       "</div>"
      ],
      "text/plain": [
       "               variable  instance  interactions\n",
       "MC_Dropout     0.522397  0.031250      0.555998\n",
       "FullBayesian   0.001496  0.015625      0.049800\n",
       "Probabilistic  0.111161  1.000000      0.542610\n",
       "Hierarchical   1.000000  1.000000      0.271679"
      ]
     },
     "execution_count": 25,
     "metadata": {},
     "output_type": "execute_result"
    }
   ],
   "source": [
    "pdfs = [basic, variable, instance, interations]\n",
    "\n",
    "cols = ['V1', 'V2', 'V3', 'V4']\n",
    "\n",
    "tbl_outs = {}\n",
    "\n",
    "names = ['base', 'variable', 'instance', 'interactions']\n",
    "\n",
    "models = {\n",
    "    'V1':'MC_Dropout',\n",
    "    \"V2\":\"FullBayesian\",\n",
    "    \"V3\":\"Probabilistic\",\n",
    "    \"V4\":\"Hierarchical\"\n",
    "}\n",
    "\n",
    "for col in cols:\n",
    "    tbl_outs[models[col]] = {}\n",
    "    for ix, pdf in enumerate(pdfs):\n",
    "        df = pd.concat([base['V5'], pdf[[col]]], axis=1)\n",
    "        df.columns = [\"basic\", \"interaction\"]\n",
    "        \n",
    "        ff = len(df[(df['basic']==0) & (df['interaction']==0)])//100\n",
    "        tt = len(df[(df['basic']==1) & (df['interaction']==1)])//100\n",
    "        ft = len(df[(df['basic']==0) & (df['interaction']==1)])//100\n",
    "        tf = len(df[(df['basic']==1) & (df['interaction']==0)])//100\n",
    "        mc = [[tt, tf],[ft, ff]]\n",
    "        \n",
    "        table = mc\n",
    "        # calculate mcnemar test\n",
    "        result = mcnemar(table, exact=True)\n",
    "        \n",
    "        # summarize the finding\n",
    "        print(f'{names[ix]} and {col}:')\n",
    "        print('statistic=%.3f, p-value=%f' % (result.statistic, result.pvalue))\n",
    "        print(mc)\n",
    "        tbl_outs[models[col]][names[ix]] = result.pvalue\n",
    "\n",
    "print(tbl_outs)\n",
    "out = pd.DataFrame.from_dict(tbl_outs)\n",
    "out.T"
   ]
  },
  {
   "cell_type": "code",
   "execution_count": 5,
   "metadata": {},
   "outputs": [
    {
     "data": {
      "text/html": [
       "<div>\n",
       "<style scoped>\n",
       "    .dataframe tbody tr th:only-of-type {\n",
       "        vertical-align: middle;\n",
       "    }\n",
       "\n",
       "    .dataframe tbody tr th {\n",
       "        vertical-align: top;\n",
       "    }\n",
       "\n",
       "    .dataframe thead th {\n",
       "        text-align: right;\n",
       "    }\n",
       "</style>\n",
       "<table border=\"1\" class=\"dataframe\">\n",
       "  <thead>\n",
       "    <tr style=\"text-align: right;\">\n",
       "      <th></th>\n",
       "      <th>real_basic</th>\n",
       "      <th>variable</th>\n",
       "      <th>instance</th>\n",
       "      <th>interactions</th>\n",
       "    </tr>\n",
       "  </thead>\n",
       "  <tbody>\n",
       "    <tr>\n",
       "      <th>MC_Dropout</th>\n",
       "      <td>0.115318</td>\n",
       "      <td>0.096252</td>\n",
       "      <td>0.063568</td>\n",
       "      <td>0.063568</td>\n",
       "    </tr>\n",
       "    <tr>\n",
       "      <th>FullBayesian</th>\n",
       "      <td>0.041389</td>\n",
       "      <td>0.115318</td>\n",
       "      <td>0.019211</td>\n",
       "      <td>0.063568</td>\n",
       "    </tr>\n",
       "    <tr>\n",
       "      <th>Probabilistic</th>\n",
       "      <td>0.115318</td>\n",
       "      <td>0.167068</td>\n",
       "      <td>0.115318</td>\n",
       "      <td>0.167068</td>\n",
       "    </tr>\n",
       "    <tr>\n",
       "      <th>Hierarchical</th>\n",
       "      <td>0.115318</td>\n",
       "      <td>0.096252</td>\n",
       "      <td>0.115318</td>\n",
       "      <td>0.063568</td>\n",
       "    </tr>\n",
       "  </tbody>\n",
       "</table>\n",
       "</div>"
      ],
      "text/plain": [
       "               real_basic  variable  instance  interactions\n",
       "MC_Dropout       0.115318  0.096252  0.063568      0.063568\n",
       "FullBayesian     0.041389  0.115318  0.019211      0.063568\n",
       "Probabilistic    0.115318  0.167068  0.115318      0.167068\n",
       "Hierarchical     0.115318  0.096252  0.115318      0.063568"
      ]
     },
     "execution_count": 5,
     "metadata": {},
     "output_type": "execute_result"
    }
   ],
   "source": [
    "out.T"
   ]
  },
  {
   "cell_type": "code",
   "execution_count": 6,
   "metadata": {},
   "outputs": [],
   "source": [
    "# df = pd.concat([basic[['V4']], interations[['V4']]], axis=1)\n",
    "# df.columns = [\"basic\", \"interaction\"]"
   ]
  },
  {
   "cell_type": "code",
   "execution_count": 7,
   "metadata": {},
   "outputs": [],
   "source": [
    "# df"
   ]
  },
  {
   "cell_type": "code",
   "execution_count": 8,
   "metadata": {},
   "outputs": [],
   "source": [
    "# ff = len(df[(df['basic']==0) & (df['interaction']==0)])//10"
   ]
  },
  {
   "cell_type": "code",
   "execution_count": 9,
   "metadata": {},
   "outputs": [],
   "source": [
    "# tt = len(df[(df['basic']==1) & (df['interaction']==1)])//10"
   ]
  },
  {
   "cell_type": "code",
   "execution_count": 10,
   "metadata": {},
   "outputs": [],
   "source": [
    "# ft = len(df[(df['basic']==0) & (df['interaction']==1)])//10"
   ]
  },
  {
   "cell_type": "code",
   "execution_count": 11,
   "metadata": {},
   "outputs": [],
   "source": [
    "# tf = len(df[(df['basic']==1) & (df['interaction']==0)])//10"
   ]
  },
  {
   "cell_type": "code",
   "execution_count": 12,
   "metadata": {},
   "outputs": [],
   "source": [
    "# mc = [[tt, tf],\n",
    "# [ft, ff]]\n",
    "\n",
    "# print(mc)"
   ]
  },
  {
   "cell_type": "code",
   "execution_count": 13,
   "metadata": {},
   "outputs": [],
   "source": [
    "# # Example of calculating the mcnemar test\n",
    "# from statsmodels.stats.contingency_tables import mcnemar\n",
    "# # define contingency table\n",
    "# table = mc\n",
    "# # calculate mcnemar test\n",
    "# result = mcnemar(table, exact=True)\n",
    "# # summarize the finding\n",
    "# print('statistic=%.3f, p-value=%f' % (result.statistic, result.pvalue))\n",
    "# # interpret the p-value\n",
    "# alpha = 0.05\n",
    "# if result.pvalue > alpha:\n",
    "# \tprint('Same proportions of errors (fail to reject H0)')\n",
    "# else:\n",
    "# \tprint('Different proportions of errors (reject H0)')"
   ]
  },
  {
   "cell_type": "code",
   "execution_count": null,
   "metadata": {},
   "outputs": [],
   "source": []
  },
  {
   "cell_type": "code",
   "execution_count": null,
   "metadata": {},
   "outputs": [],
   "source": []
  }
 ],
 "metadata": {
  "kernelspec": {
   "display_name": "Python 3",
   "language": "python",
   "name": "python3"
  },
  "language_info": {
   "codemirror_mode": {
    "name": "ipython",
    "version": 3
   },
   "file_extension": ".py",
   "mimetype": "text/x-python",
   "name": "python",
   "nbconvert_exporter": "python",
   "pygments_lexer": "ipython3",
   "version": "3.8.3"
  }
 },
 "nbformat": 4,
 "nbformat_minor": 4
}
