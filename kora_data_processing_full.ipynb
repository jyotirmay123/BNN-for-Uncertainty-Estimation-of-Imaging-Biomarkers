{
 "cells": [
  {
   "cell_type": "code",
   "execution_count": null,
   "metadata": {
    "collapsed": true
   },
   "outputs": [],
   "source": []
  },
  {
   "cell_type": "code",
   "execution_count": null,
   "metadata": {
    "collapsed": true
   },
   "outputs": [],
   "source": [
    "data_dir = \"/home/abhijit/nas_drive/Data_WholeBody/KORA/KORA_all/KORA_Nifti\"\n",
    "label_dir = \"/home/abhijit/nas_drive/Data_WholeBody/KORA/KORA_segs/ROI_liver_spleen_Daniel\"\n",
    "orientation = 'KORA_AXI'\n",
    "modality = 1"
   ]
  },
  {
   "cell_type": "code",
   "execution_count": null,
   "metadata": {
    "collapsed": true
   },
   "outputs": [],
   "source": [
    "def load_file_paths(data_dir, label_dir, volumes_txt_file=None, modality='1'):\n",
    "    \"\"\"\n",
    "    This function returns the file paths combined as a list where each element is a 2 element tuple, 0th being data and 1st being label.\n",
    "    It should be modified to suit the need of the project\n",
    "    :param data_dir: Directory which contains the data files\n",
    "    :param label_dir: Directory which contains the label files\n",
    "    :param volumes_txt_file: (Optional) Path to the a csv file, when provided only these data points will be read\n",
    "    :return: list of file paths as string\n",
    "    \"\"\"\n",
    "    global final_exclusion_list\n",
    "    modality_map = {\n",
    "        '1': 'opp_8',\n",
    "        '2': '[F_1|W_3]',\n",
    "        '4': '[F_1|W_3|opp_8|in_6]'\n",
    "    }\n",
    "\n",
    "    if volumes_txt_file:\n",
    "        with open(volumes_txt_file) as file_handle:\n",
    "            volumes_to_use = file_handle.read().splitlines()\n",
    "    else:\n",
    "        volumes_to_use = [name for name in os.listdir(data_dir)]\n",
    "\n",
    "    for vol in volumes_to_use:\n",
    "        # if vol not in final_exclusion_list:\n",
    "        try:\n",
    "            # for UKB\n",
    "            # file = glob.glob(os.path.join(data_dir, vol, pick_file[vol]))\n",
    "            # file selector for Kora.\n",
    "            file = glob.glob(os.path.join(data_dir, vol, '*{}.nii.gz'.format(modality_map[modality])))\n",
    "            print(file)\n",
    "            if len(file) is not 0:\n",
    "                # For KORA\n",
    "                file_paths.append([file[0], os.path.join(label_dir, vol, \"comp_mask.nii\")])\n",
    "            else:\n",
    "                zero_file.append(vol)\n",
    "        except Exception as e:\n",
    "            new_excluded.append(vol)\n",
    "            print(e)\n",
    "            continue\n",
    "\n",
    "    return file_paths"
   ]
  }
 ],
 "metadata": {
  "kernelspec": {
   "display_name": "Python (py37)",
   "language": "python",
   "name": "py37"
  },
  "language_info": {
   "codemirror_mode": {
    "name": "ipython",
    "version": 3
   },
   "file_extension": ".py",
   "mimetype": "text/x-python",
   "name": "python",
   "nbconvert_exporter": "python",
   "pygments_lexer": "ipython3",
   "version": "3.5.3"
  }
 },
 "nbformat": 4,
 "nbformat_minor": 2
}
