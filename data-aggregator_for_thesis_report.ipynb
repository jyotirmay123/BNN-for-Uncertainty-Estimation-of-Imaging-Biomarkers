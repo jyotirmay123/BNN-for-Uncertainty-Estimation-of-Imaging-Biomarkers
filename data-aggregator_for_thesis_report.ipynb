{
 "cells": [
  {
   "cell_type": "code",
   "execution_count": 1,
   "metadata": {},
   "outputs": [],
   "source": [
    "import pandas as pd\n",
    "import numpy as np\n",
    "import nibabel as nb\n",
    "\n",
    "import matplotlib.pyplot as plt\n",
    "\n",
    "%matplotlib inline"
   ]
  },
  {
   "cell_type": "code",
   "execution_count": 2,
   "metadata": {},
   "outputs": [],
   "source": [
    "mc_dropout_df = pd.read_csv('./projects/MC_dropout_quicknat/reports/MC_dropout_quicknat_KORA_v2/KORA/10_1572006141.7793334_final_report.csv')\n",
    "full_bayesian_df = pd.read_csv('./projects/full_bayesian/reports/full_bayesian_KORA_v2/KORA/10_1571866968.4002764_final_report.csv')\n",
    "hierarchical_quicknat_df = pd.read_csv('./projects/hierarchical_quicknat/reports/hierarchical_quicknat_KORA_v2/KORA/10_1571905560.9377904_final_report.csv')\n",
    "probabilistic_quicknat_df = pd.read_csv('./projects/probabilistic_quicknat/reports/probabilistic_quicknat_KORA_v2/KORA/10_1571996796.7963011_final_report.csv')"
   ]
  },
  {
   "cell_type": "code",
   "execution_count": 3,
   "metadata": {},
   "outputs": [
    {
     "data": {
      "text/plain": [
       "Index(['project', 'dataset', 'model_name', 'volume_id', 'samples', 'sncc',\n",
       "       'ged', 'iou_spleen', 'iou_liver', 'iou_mean', 'dice_spleen',\n",
       "       'dice_liver', 'dice_mean', 'surface_distance_prtogt_spleen',\n",
       "       'surface_distance_prtogt_liver', 'surface_distance_prtogt_mean',\n",
       "       'surface_distance_gttopr_spleen', 'surface_distance_gttopr_liver',\n",
       "       'surface_distance_gttopr_mean', 'surface_distance_avg_spleen',\n",
       "       'surface_distance_avg_liver', 'surface_distance_avg_mean'],\n",
       "      dtype='object')"
      ]
     },
     "execution_count": 3,
     "metadata": {},
     "output_type": "execute_result"
    }
   ],
   "source": [
    "mc_dropout_df.columns"
   ]
  },
  {
   "cell_type": "code",
   "execution_count": 16,
   "metadata": {},
   "outputs": [
    {
     "data": {
      "text/html": [
       "<div>\n",
       "<style scoped>\n",
       "    .dataframe tbody tr th:only-of-type {\n",
       "        vertical-align: middle;\n",
       "    }\n",
       "\n",
       "    .dataframe tbody tr th {\n",
       "        vertical-align: top;\n",
       "    }\n",
       "\n",
       "    .dataframe thead th {\n",
       "        text-align: right;\n",
       "    }\n",
       "</style>\n",
       "<table border=\"1\" class=\"dataframe\">\n",
       "  <thead>\n",
       "    <tr style=\"text-align: right;\">\n",
       "      <th></th>\n",
       "      <th>0</th>\n",
       "      <th>1</th>\n",
       "      <th>2</th>\n",
       "      <th>3</th>\n",
       "    </tr>\n",
       "  </thead>\n",
       "  <tbody>\n",
       "    <tr>\n",
       "      <th>model</th>\n",
       "      <td>MC_dropout_quicknat_KORA_v2</td>\n",
       "      <td>full_bayesian_KORA_v2</td>\n",
       "      <td>hierarchical_quicknat_KORA_v2</td>\n",
       "      <td>probabilistic_quicknat_KORA_v2</td>\n",
       "    </tr>\n",
       "    <tr>\n",
       "      <th>dice_spleen</th>\n",
       "      <td>0.897294</td>\n",
       "      <td>0.828703</td>\n",
       "      <td>0.883146</td>\n",
       "      <td>0.873666</td>\n",
       "    </tr>\n",
       "    <tr>\n",
       "      <th>dice_liver</th>\n",
       "      <td>0.937717</td>\n",
       "      <td>0.894704</td>\n",
       "      <td>0.932802</td>\n",
       "      <td>0.925428</td>\n",
       "    </tr>\n",
       "    <tr>\n",
       "      <th>iou_spleen</th>\n",
       "      <td>0.821329</td>\n",
       "      <td>0.524697</td>\n",
       "      <td>0.983818</td>\n",
       "      <td>0.988114</td>\n",
       "    </tr>\n",
       "    <tr>\n",
       "      <th>iou_liver</th>\n",
       "      <td>0.878295</td>\n",
       "      <td>0.66866</td>\n",
       "      <td>0.988998</td>\n",
       "      <td>0.992439</td>\n",
       "    </tr>\n",
       "    <tr>\n",
       "      <th>sd_prtogt_spleen</th>\n",
       "      <td>0.911791</td>\n",
       "      <td>0.799157</td>\n",
       "      <td>0.890408</td>\n",
       "      <td>0.863805</td>\n",
       "    </tr>\n",
       "    <tr>\n",
       "      <th>sd_prtogt_liver</th>\n",
       "      <td>0.869479</td>\n",
       "      <td>0.702617</td>\n",
       "      <td>0.840469</td>\n",
       "      <td>0.808215</td>\n",
       "    </tr>\n",
       "    <tr>\n",
       "      <th>sd_gttopr_spleen</th>\n",
       "      <td>0.920173</td>\n",
       "      <td>0.820735</td>\n",
       "      <td>0.904295</td>\n",
       "      <td>0.886501</td>\n",
       "    </tr>\n",
       "    <tr>\n",
       "      <th>sd_gttopr_liver</th>\n",
       "      <td>0.872016</td>\n",
       "      <td>0.770979</td>\n",
       "      <td>0.869197</td>\n",
       "      <td>0.846709</td>\n",
       "    </tr>\n",
       "    <tr>\n",
       "      <th>sncc_mean</th>\n",
       "      <td>0.399954</td>\n",
       "      <td>0.604205</td>\n",
       "      <td>0.187984</td>\n",
       "      <td>0.163864</td>\n",
       "    </tr>\n",
       "    <tr>\n",
       "      <th>ged_mean</th>\n",
       "      <td>0.166135</td>\n",
       "      <td>0.223997</td>\n",
       "      <td>0.209171</td>\n",
       "      <td>0.228308</td>\n",
       "    </tr>\n",
       "  </tbody>\n",
       "</table>\n",
       "</div>"
      ],
      "text/plain": [
       "                                            0                      1  \\\n",
       "model             MC_dropout_quicknat_KORA_v2  full_bayesian_KORA_v2   \n",
       "dice_spleen                          0.897294               0.828703   \n",
       "dice_liver                           0.937717               0.894704   \n",
       "iou_spleen                           0.821329               0.524697   \n",
       "iou_liver                            0.878295                0.66866   \n",
       "sd_prtogt_spleen                     0.911791               0.799157   \n",
       "sd_prtogt_liver                      0.869479               0.702617   \n",
       "sd_gttopr_spleen                     0.920173               0.820735   \n",
       "sd_gttopr_liver                      0.872016               0.770979   \n",
       "sncc_mean                            0.399954               0.604205   \n",
       "ged_mean                             0.166135               0.223997   \n",
       "\n",
       "                                              2  \\\n",
       "model             hierarchical_quicknat_KORA_v2   \n",
       "dice_spleen                            0.883146   \n",
       "dice_liver                             0.932802   \n",
       "iou_spleen                             0.983818   \n",
       "iou_liver                              0.988998   \n",
       "sd_prtogt_spleen                       0.890408   \n",
       "sd_prtogt_liver                        0.840469   \n",
       "sd_gttopr_spleen                       0.904295   \n",
       "sd_gttopr_liver                        0.869197   \n",
       "sncc_mean                              0.187984   \n",
       "ged_mean                               0.209171   \n",
       "\n",
       "                                               3  \n",
       "model             probabilistic_quicknat_KORA_v2  \n",
       "dice_spleen                             0.873666  \n",
       "dice_liver                              0.925428  \n",
       "iou_spleen                              0.988114  \n",
       "iou_liver                               0.992439  \n",
       "sd_prtogt_spleen                        0.863805  \n",
       "sd_prtogt_liver                         0.808215  \n",
       "sd_gttopr_spleen                        0.886501  \n",
       "sd_gttopr_liver                         0.846709  \n",
       "sncc_mean                               0.163864  \n",
       "ged_mean                                0.228308  "
      ]
     },
     "execution_count": 16,
     "metadata": {},
     "output_type": "execute_result"
    }
   ],
   "source": [
    "data= {}\n",
    "data['model'] = []\n",
    "data['dice_spleen'] = []\n",
    "data['dice_liver'] = []\n",
    "data['iou_spleen'] = []\n",
    "data['iou_liver'] = []\n",
    "data['sd_prtogt_spleen'] = []\n",
    "data['sd_prtogt_liver'] = []\n",
    "data['sd_gttopr_spleen'] = []\n",
    "data['sd_gttopr_liver'] = []\n",
    "data['sncc_mean'] = []\n",
    "data['ged_mean']  = []\n",
    "for df in [mc_dropout_df, full_bayesian_df, hierarchical_quicknat_df, probabilistic_quicknat_df]:\n",
    "    data['model'].append(df['model_name'].values[1])\n",
    "    data['dice_spleen'].append(df['dice_spleen'].values[1])\n",
    "    data['iou_spleen'].append(df['iou_spleen'].values[1])\n",
    "    data['sd_prtogt_spleen'].append(df['surface_distance_prtogt_spleen'].values[1])\n",
    "    data['sd_gttopr_spleen'].append(df['surface_distance_gttopr_spleen'].values[1])\n",
    "    data['dice_liver'].append(df['dice_liver'].values[1])\n",
    "    data['iou_liver'].append(df['iou_liver'].values[1])\n",
    "    data['sd_prtogt_liver'].append(df['surface_distance_prtogt_liver'].values[1])\n",
    "    data['sd_gttopr_liver'].append(df['surface_distance_gttopr_liver'].values[1])\n",
    "    data['sncc_mean'].append(df['sncc'].values[1])\n",
    "    data['ged_mean'].append(df['ged'].values[1])\n",
    "    \n",
    "df_all_data = pd.DataFrame.from_dict(data)\n",
    "df_all_data.transpose()"
   ]
  },
  {
   "cell_type": "code",
   "execution_count": 15,
   "metadata": {},
   "outputs": [
    {
     "data": {
      "text/markdown": [
       "0|1|2|3\n",
       "---|---|---|---\n",
       "MC_dropout_quicknat_KORA_v2|full_bayesian_KORA_v2|hierarchical_quicknat_KORA_v2|probabilistic_quicknat_KORA_v2\n",
       "0.8972944021224976|0.8287034630775452|0.8831455707550049|0.8736656308174133\n",
       "0.9377166032791138|0.8947044610977173|0.9328019618988036|0.925427794456482\n",
       "0.8213293414982163|0.5246973800269135|0.983818173136854|0.9881138953519868\n",
       "0.878294646529728|0.6686600333200513|0.9889975014594604|0.9924386173011226\n",
       "0.9117907583282562|0.799156716803458|0.8904080412020691|0.8638050308195947\n",
       "0.8694790545781376|0.7026174212682178|0.8404688972114384|0.8082145141632128\n",
       "0.9201734452665492|0.8207349410003818|0.9042945555483825|0.8865005371712322\n",
       "0.8720156781187774|0.7709789774671637|0.8691967394002148|0.8467086300516261\n",
       "0.3999535531940508|0.6042047429673171|0.18798437112540287|0.1638638806700751\n",
       "0.16613478949579452|0.22399653004254255|0.20917131855106424|0.2283083150830279\n"
      ],
      "text/plain": [
       "<IPython.core.display.Markdown object>"
      ]
     },
     "metadata": {},
     "output_type": "display_data"
    }
   ],
   "source": [
    "def pandas_df_to_markdown_table(df):\n",
    "    from IPython.display import Markdown, display\n",
    "    fmt = ['---' for i in range(len(df.columns))]\n",
    "    df_fmt = pd.DataFrame([fmt], columns=df.columns)\n",
    "    df_formatted = pd.concat([df_fmt, df])\n",
    "    display(Markdown(df_formatted.to_csv(sep=\"|\", index=False)))\n",
    "\n",
    "pandas_df_to_markdown_table(df_all_data.transpose())"
   ]
  },
  {
   "cell_type": "code",
   "execution_count": null,
   "metadata": {},
   "outputs": [],
   "source": []
  }
 ],
 "metadata": {
  "kernelspec": {
   "display_name": "Python [conda env:tenv]",
   "language": "python",
   "name": "conda-env-tenv-py"
  },
  "language_info": {
   "codemirror_mode": {
    "name": "ipython",
    "version": 3
   },
   "file_extension": ".py",
   "mimetype": "text/x-python",
   "name": "python",
   "nbconvert_exporter": "python",
   "pygments_lexer": "ipython3",
   "version": "3.6.9"
  }
 },
 "nbformat": 4,
 "nbformat_minor": 2
}
