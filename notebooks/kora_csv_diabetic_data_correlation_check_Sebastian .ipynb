{
 "cells": [
  {
   "cell_type": "code",
   "execution_count": null,
   "metadata": {},
   "outputs": [],
   "source": [
    "from sklearn.linear_model import LogisticRegression\n",
    "from sklearn.preprocessing import OneHotEncoder\n",
    "import numpy as np\n",
    "\n",
    "y = data[\"diabetes_status\"].copy()\n",
    "y[y == 'type-1-diabetes'] = None\n",
    "y.dropna(inplace=True)\n",
    "\n",
    "feats = [\"age\", \"sex\", \"bmi-numeric\"]\n",
    "X = pd.get_dummies(data.loc[y.index, feats], drop_first=True)\n",
    "\n",
    "y_classes = np.argmax(pd.get_dummies(y).values, axis=1)\n",
    "\n",
    "model = LogisticRegression(multi_class=\"multinomial\", solver=\"lbfgs\").fit(X, y_classes)\n",
    "\n",
    "print(model.score(X, y_classes))"
   ]
  }
 ],
 "metadata": {
  "kernelspec": {
   "display_name": "Python (3.6.2)",
   "language": "python",
   "name": "py362"
  },
  "language_info": {
   "codemirror_mode": {
    "name": "ipython",
    "version": 3
   },
   "file_extension": ".py",
   "mimetype": "text/x-python",
   "name": "python",
   "nbconvert_exporter": "python",
   "pygments_lexer": "ipython3",
   "version": "3.6.2"
  }
 },
 "nbformat": 4,
 "nbformat_minor": 2
}
