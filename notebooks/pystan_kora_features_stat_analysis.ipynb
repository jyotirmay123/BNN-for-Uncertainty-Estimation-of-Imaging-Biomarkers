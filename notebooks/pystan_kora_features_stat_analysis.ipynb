{
 "cells": [
  {
   "cell_type": "code",
   "execution_count": 1,
   "metadata": {},
   "outputs": [],
   "source": [
    "import pandas as pd\n",
    "import numpy as np\n",
    "import matplotlib.pyplot as plt\n",
    "import seaborn\n",
    "from sklearn.linear_model import LogisticRegression\n",
    "from sklearn.preprocessing import OneHotEncoder\n",
    "import itertools\n",
    "import json\n",
    "import random\n",
    "import nibabel as nb\n",
    "import pystan\n",
    "import scipy\n",
    "import matplotlib.pyplot as plt\n",
    "\n",
    "%matplotlib inline"
   ]
  },
  {
   "cell_type": "code",
   "execution_count": 2,
   "metadata": {},
   "outputs": [],
   "source": [
    "df_hqn = pd.read_csv('/home/abhijit/Jyotirmay/thesis/my_thesis/projects/hierarchical_quicknat/reports/hierarchical_quicknat_KORA_v5-nobn/KORA/10_1566495633.0629191_report.csv')\n",
    "df_hqn.loc[0] = None\n",
    "df_hqn.dropna(inplace=True)"
   ]
  },
  {
   "cell_type": "code",
   "execution_count": 3,
   "metadata": {
    "scrolled": true
   },
   "outputs": [],
   "source": [
    "df = pd.read_csv('./dataset_groups/whole_body_datasets/KORA/KORA-diabetes-english.csv')\n",
    "df.head(5).transpose().head(20).to_html('df.html')\n"
   ]
  },
  {
   "cell_type": "code",
   "execution_count": 4,
   "metadata": {},
   "outputs": [],
   "source": [
    "df.head(5).transpose().head(100).to_html('df_1.html')"
   ]
  },
  {
   "cell_type": "code",
   "execution_count": 6,
   "metadata": {},
   "outputs": [],
   "source": [
    "\n",
    "df.dropna(inplace=True)\n",
    "# -1: 'nan', 0: 'normal', 1: 'pre-diabetes', 2: 'type-2-diabetes', 3: 'type-1-diabetes'\n",
    "df.diabetes_status = pd.factorize(df.diabetes_status)[0]\n",
    "# df[df.diabetes_status == -1] = None\n",
    "# 0= Female, 1= Male\n",
    "df.sex = pd.get_dummies(df[['sex']], drop_first=True)\n",
    "#  -1: 'nan', 0: 'no', 1: 'yes']\n",
    "df['mri-liver-fat-artifacts'] = pd.factorize(df['mri-liver-fat-artifacts'])[0]\n",
    "\n",
    "df['meds-insulin-therapy'] = pd.factorize(df['meds-insulin-therapy'])[0]\n",
    "df['hypertension'] = pd.factorize(df['hypertension'])[0]\n",
    "df['meds-antidiabetic'] = pd.factorize(df['meds-antidiabetic'])[0]\n",
    "df['meds-antihypertensive'] = pd.factorize(df['meds-antihypertensive'])[0]\n",
    "df['meds-lipoprotein-lowering'] = pd.factorize(df['meds-lipoprotein-lowering'])[0]\n",
    "df['meds-oral-antidiabetic'] = pd.factorize(df['meds-oral-antidiabetic'])[0]\n",
    "df['meds-incretin-mimetics'] = pd.factorize(df['meds-incretin-mimetics'])[0]\n",
    "\n",
    "# 0: 'regular', 1: 'former', 2: 'non-smoker', 3: 'irregular'\n",
    "df.smoker = pd.factorize(df.smoker)[0]\n",
    "# 0: 'normal', 1: 'pre-obisety', 2: 'obesity class I', 3: 'obesity class II',\n",
    "# 4: 'obesity class III', 5: 'underweight'\n",
    "df['bmi-who'] = pd.factorize(df['bmi-who'])[0]\n"
   ]
  },
  {
   "cell_type": "code",
   "execution_count": 7,
   "metadata": {},
   "outputs": [],
   "source": [
    "base_dir = '/home/abhijit/Jyotirmay/thesis/my_thesis/projects/hierarchical_quicknat/outs/hierarchical_quicknat_KORA_v5-nobn/hierarchical_quicknat_KORA_v5-nobn_predictions_KORA/'\n",
    "for idx, dd in df_hqn.iterrows():\n",
    "    for i in range(10):\n",
    "        sample_path = base_dir + dd['volume_id']+'_samples/'+dd['volume_id']+'_sample_'+str(i)+'.nii.gz'\n",
    "        niifile = nb.load(sample_path)\n",
    "        data = niifile.get_fdata()\n",
    "        unique, counts = np.unique(data, return_counts=True)\n",
    "        df_hqn.at[idx, f'sample_{i}_liver_volume'] = counts[2]\n",
    "        df_hqn.at[idx, f'sample_{i}_spleen_volume'] = counts[1]\n",
    "        \n",
    "    seg_path = base_dir + dd['volume_id']+'_seg.nii.gz'    \n",
    "    niifile = nb.load(seg_path)\n",
    "    data = niifile.get_fdata()\n",
    "    unique, counts = np.unique(data, return_counts=True)\n",
    "    df_hqn.at[idx, 'liver_volume'] = counts[2]\n",
    "    df_hqn.at[idx, 'spleen_volume'] = counts[1]"
   ]
  },
  {
   "cell_type": "code",
   "execution_count": 8,
   "metadata": {},
   "outputs": [
    {
     "name": "stdout",
     "output_type": "stream",
     "text": [
      "project                                                            1\n",
      "dataset                                                            0\n",
      "model_name                        hierarchical_quicknat_KORA_v5-nobn\n",
      "volume_id                                                KORA2458197\n",
      "samples                                                           10\n",
      "sncc                                                       0.0261442\n",
      "ged                                                          0.11287\n",
      "iou_spleen                                                  0.980301\n",
      "iou_liver                                                   0.982447\n",
      "iou_mean                                                    0.981374\n",
      "dice_spleen                                                 0.944901\n",
      "dice_liver                                                  0.963225\n",
      "dice_mean                                                   0.954063\n",
      "surface_distance_prtogt_spleen                              0.910885\n",
      "surface_distance_prtogt_liver                               0.931039\n",
      "surface_distance_prtogt_mean                                0.920962\n",
      "surface_distance_gttopr_spleen                              0.997029\n",
      "surface_distance_gttopr_liver                               0.975764\n",
      "surface_distance_gttopr_mean                                0.986397\n",
      "surface_distance_avg_spleen                                 0.953957\n",
      "surface_distance_avg_liver                                  0.953401\n",
      "surface_distance_avg_mean                                   0.953679\n",
      "sample_0_liver_volume                                         123644\n",
      "sample_0_spleen_volume                                         16139\n",
      "sample_1_liver_volume                                         123593\n",
      "sample_1_spleen_volume                                         16133\n",
      "sample_2_liver_volume                                         123700\n",
      "sample_2_spleen_volume                                         16138\n",
      "sample_3_liver_volume                                         123743\n",
      "sample_3_spleen_volume                                         16117\n",
      "sample_4_liver_volume                                         123393\n",
      "sample_4_spleen_volume                                         16105\n",
      "sample_5_liver_volume                                         123632\n",
      "sample_5_spleen_volume                                         16135\n",
      "sample_6_liver_volume                                         123642\n",
      "sample_6_spleen_volume                                         16149\n",
      "sample_7_liver_volume                                         123726\n",
      "sample_7_spleen_volume                                         16117\n",
      "sample_8_liver_volume                                         123571\n",
      "sample_8_spleen_volume                                         16146\n",
      "sample_9_liver_volume                                         123703\n",
      "sample_9_spleen_volume                                         16120\n",
      "liver_volume                                                  123653\n",
      "spleen_volume                                                  16121\n",
      "Name: 1, dtype: object\n"
     ]
    }
   ],
   "source": [
    "for idx, dd in df_hqn.iterrows():\n",
    "    print(dd)\n",
    "    break\n",
    "    "
   ]
  },
  {
   "cell_type": "code",
   "execution_count": 9,
   "metadata": {},
   "outputs": [],
   "source": [
    "get_id = lambda x: x[4:]\n",
    "df_hqn.volume_id = df_hqn.volume_id.apply(get_id)"
   ]
  },
  {
   "cell_type": "code",
   "execution_count": 10,
   "metadata": {},
   "outputs": [
    {
     "data": {
      "text/html": [
       "<div>\n",
       "<style scoped>\n",
       "    .dataframe tbody tr th:only-of-type {\n",
       "        vertical-align: middle;\n",
       "    }\n",
       "\n",
       "    .dataframe tbody tr th {\n",
       "        vertical-align: top;\n",
       "    }\n",
       "\n",
       "    .dataframe thead th {\n",
       "        text-align: right;\n",
       "    }\n",
       "</style>\n",
       "<table border=\"1\" class=\"dataframe\">\n",
       "  <thead>\n",
       "    <tr style=\"text-align: right;\">\n",
       "      <th></th>\n",
       "      <th>age</th>\n",
       "      <th>alcohol-g/day</th>\n",
       "      <th>blood-pressure-diastolic</th>\n",
       "      <th>blood-pressure-systolic</th>\n",
       "      <th>bmi-numeric</th>\n",
       "      <th>bmi-who</th>\n",
       "      <th>cholesterol-hdl</th>\n",
       "      <th>cholesterol-ldl</th>\n",
       "      <th>cholesterol-total</th>\n",
       "      <th>diabetes_status</th>\n",
       "      <th>...</th>\n",
       "      <th>sample_6_liver_volume</th>\n",
       "      <th>sample_6_spleen_volume</th>\n",
       "      <th>sample_7_liver_volume</th>\n",
       "      <th>sample_7_spleen_volume</th>\n",
       "      <th>sample_8_liver_volume</th>\n",
       "      <th>sample_8_spleen_volume</th>\n",
       "      <th>sample_9_liver_volume</th>\n",
       "      <th>sample_9_spleen_volume</th>\n",
       "      <th>liver_volume</th>\n",
       "      <th>spleen_volume</th>\n",
       "    </tr>\n",
       "  </thead>\n",
       "  <tbody>\n",
       "    <tr>\n",
       "      <th>0</th>\n",
       "      <td>54</td>\n",
       "      <td>24.14</td>\n",
       "      <td>91.5</td>\n",
       "      <td>142.0</td>\n",
       "      <td>26.95</td>\n",
       "      <td>1</td>\n",
       "      <td>60.00</td>\n",
       "      <td>172</td>\n",
       "      <td>250</td>\n",
       "      <td>0</td>\n",
       "      <td>...</td>\n",
       "      <td>76209.0</td>\n",
       "      <td>7283.0</td>\n",
       "      <td>76202.0</td>\n",
       "      <td>7261.0</td>\n",
       "      <td>76159.0</td>\n",
       "      <td>7272.0</td>\n",
       "      <td>76196.0</td>\n",
       "      <td>7293.0</td>\n",
       "      <td>76221.0</td>\n",
       "      <td>7274.0</td>\n",
       "    </tr>\n",
       "    <tr>\n",
       "      <th>1</th>\n",
       "      <td>66</td>\n",
       "      <td>5.71</td>\n",
       "      <td>77.0</td>\n",
       "      <td>126.5</td>\n",
       "      <td>25.75</td>\n",
       "      <td>1</td>\n",
       "      <td>49.00</td>\n",
       "      <td>167</td>\n",
       "      <td>218</td>\n",
       "      <td>0</td>\n",
       "      <td>...</td>\n",
       "      <td>92607.0</td>\n",
       "      <td>17125.0</td>\n",
       "      <td>92556.0</td>\n",
       "      <td>17117.0</td>\n",
       "      <td>92545.0</td>\n",
       "      <td>17108.0</td>\n",
       "      <td>92572.0</td>\n",
       "      <td>17108.0</td>\n",
       "      <td>92541.0</td>\n",
       "      <td>17105.0</td>\n",
       "    </tr>\n",
       "    <tr>\n",
       "      <th>2</th>\n",
       "      <td>66</td>\n",
       "      <td>0.00</td>\n",
       "      <td>80.0</td>\n",
       "      <td>121.5</td>\n",
       "      <td>29.01</td>\n",
       "      <td>1</td>\n",
       "      <td>65.00</td>\n",
       "      <td>185</td>\n",
       "      <td>261</td>\n",
       "      <td>0</td>\n",
       "      <td>...</td>\n",
       "      <td>68841.0</td>\n",
       "      <td>9332.0</td>\n",
       "      <td>68729.0</td>\n",
       "      <td>9322.0</td>\n",
       "      <td>68749.0</td>\n",
       "      <td>9301.0</td>\n",
       "      <td>68743.0</td>\n",
       "      <td>9336.0</td>\n",
       "      <td>68756.0</td>\n",
       "      <td>9325.0</td>\n",
       "    </tr>\n",
       "    <tr>\n",
       "      <th>3</th>\n",
       "      <td>42</td>\n",
       "      <td>0.00</td>\n",
       "      <td>78.5</td>\n",
       "      <td>129.0</td>\n",
       "      <td>31.25</td>\n",
       "      <td>2</td>\n",
       "      <td>62.88</td>\n",
       "      <td>160</td>\n",
       "      <td>232</td>\n",
       "      <td>1</td>\n",
       "      <td>...</td>\n",
       "      <td>88567.0</td>\n",
       "      <td>12102.0</td>\n",
       "      <td>88665.0</td>\n",
       "      <td>12071.0</td>\n",
       "      <td>88607.0</td>\n",
       "      <td>12108.0</td>\n",
       "      <td>88664.0</td>\n",
       "      <td>12062.0</td>\n",
       "      <td>88558.0</td>\n",
       "      <td>12091.0</td>\n",
       "    </tr>\n",
       "    <tr>\n",
       "      <th>4</th>\n",
       "      <td>62</td>\n",
       "      <td>1.57</td>\n",
       "      <td>89.0</td>\n",
       "      <td>125.0</td>\n",
       "      <td>30.55</td>\n",
       "      <td>2</td>\n",
       "      <td>78.00</td>\n",
       "      <td>185</td>\n",
       "      <td>275</td>\n",
       "      <td>0</td>\n",
       "      <td>...</td>\n",
       "      <td>60513.0</td>\n",
       "      <td>8415.0</td>\n",
       "      <td>60632.0</td>\n",
       "      <td>8399.0</td>\n",
       "      <td>60575.0</td>\n",
       "      <td>8427.0</td>\n",
       "      <td>60558.0</td>\n",
       "      <td>8420.0</td>\n",
       "      <td>60554.0</td>\n",
       "      <td>8415.0</td>\n",
       "    </tr>\n",
       "  </tbody>\n",
       "</table>\n",
       "<p>5 rows × 74 columns</p>\n",
       "</div>"
      ],
      "text/plain": [
       "   age  alcohol-g/day  blood-pressure-diastolic  blood-pressure-systolic  \\\n",
       "0   54          24.14                      91.5                    142.0   \n",
       "1   66           5.71                      77.0                    126.5   \n",
       "2   66           0.00                      80.0                    121.5   \n",
       "3   42           0.00                      78.5                    129.0   \n",
       "4   62           1.57                      89.0                    125.0   \n",
       "\n",
       "   bmi-numeric  bmi-who  cholesterol-hdl  cholesterol-ldl  cholesterol-total  \\\n",
       "0        26.95        1            60.00              172                250   \n",
       "1        25.75        1            49.00              167                218   \n",
       "2        29.01        1            65.00              185                261   \n",
       "3        31.25        2            62.88              160                232   \n",
       "4        30.55        2            78.00              185                275   \n",
       "\n",
       "   diabetes_status  ...  sample_6_liver_volume  sample_6_spleen_volume  \\\n",
       "0                0  ...                76209.0                  7283.0   \n",
       "1                0  ...                92607.0                 17125.0   \n",
       "2                0  ...                68841.0                  9332.0   \n",
       "3                1  ...                88567.0                 12102.0   \n",
       "4                0  ...                60513.0                  8415.0   \n",
       "\n",
       "   sample_7_liver_volume  sample_7_spleen_volume  sample_8_liver_volume  \\\n",
       "0                76202.0                  7261.0                76159.0   \n",
       "1                92556.0                 17117.0                92545.0   \n",
       "2                68729.0                  9322.0                68749.0   \n",
       "3                88665.0                 12071.0                88607.0   \n",
       "4                60632.0                  8399.0                60575.0   \n",
       "\n",
       "   sample_8_spleen_volume  sample_9_liver_volume  sample_9_spleen_volume  \\\n",
       "0                  7272.0                76196.0                  7293.0   \n",
       "1                 17108.0                92572.0                 17108.0   \n",
       "2                  9301.0                68743.0                  9336.0   \n",
       "3                 12108.0                88664.0                 12062.0   \n",
       "4                  8427.0                60558.0                  8420.0   \n",
       "\n",
       "   liver_volume  spleen_volume  \n",
       "0       76221.0         7274.0  \n",
       "1       92541.0        17105.0  \n",
       "2       68756.0         9325.0  \n",
       "3       88558.0        12091.0  \n",
       "4       60554.0         8415.0  \n",
       "\n",
       "[5 rows x 74 columns]"
      ]
     },
     "execution_count": 10,
     "metadata": {},
     "output_type": "execute_result"
    }
   ],
   "source": [
    "# df_hqn\n",
    "df['mrt-image-id'] = df['mrt-image-id'].astype(str)\n",
    "df_hqn.volume_id = df_hqn.volume_id.astype(str)\n",
    "df_merge_difkey = pd.merge(df, df_hqn, left_on='mrt-image-id', right_on='volume_id')\n",
    "\n",
    "df_merge_difkey.head()"
   ]
  },
  {
   "cell_type": "code",
   "execution_count": 11,
   "metadata": {},
   "outputs": [
    {
     "data": {
      "text/plain": [
       "Index(['age', 'alcohol-g/day', 'blood-pressure-diastolic',\n",
       "       'blood-pressure-systolic', 'bmi-numeric', 'bmi-who', 'cholesterol-hdl',\n",
       "       'cholesterol-ldl', 'cholesterol-total', 'diabetes_status',\n",
       "       'hba1c-mmol/mol', 'hba1c-percentage', 'height', 'hypertension',\n",
       "       'meds-antidiabetic', 'meds-antihypertensive', 'meds-incretin-mimetics',\n",
       "       'meds-insulin-therapy', 'meds-lipoprotein-lowering',\n",
       "       'meds-oral-antidiabetic', 'mri-liver-fat-artifacts',\n",
       "       'mri-liver-fat-lobus-dexter', 'mri-liver-fat-lobus-sinister',\n",
       "       'mri-liver-fat-portal-vein', 'mrt-image-id', 'sex', 'smoker',\n",
       "       'smoking-packages', 'triglyceride', 'weight', 'project', 'dataset',\n",
       "       'model_name', 'volume_id', 'samples', 'sncc', 'ged', 'iou_spleen',\n",
       "       'iou_liver', 'iou_mean', 'dice_spleen', 'dice_liver', 'dice_mean',\n",
       "       'surface_distance_prtogt_spleen', 'surface_distance_prtogt_liver',\n",
       "       'surface_distance_prtogt_mean', 'surface_distance_gttopr_spleen',\n",
       "       'surface_distance_gttopr_liver', 'surface_distance_gttopr_mean',\n",
       "       'surface_distance_avg_spleen', 'surface_distance_avg_liver',\n",
       "       'surface_distance_avg_mean', 'sample_0_liver_volume',\n",
       "       'sample_0_spleen_volume', 'sample_1_liver_volume',\n",
       "       'sample_1_spleen_volume', 'sample_2_liver_volume',\n",
       "       'sample_2_spleen_volume', 'sample_3_liver_volume',\n",
       "       'sample_3_spleen_volume', 'sample_4_liver_volume',\n",
       "       'sample_4_spleen_volume', 'sample_5_liver_volume',\n",
       "       'sample_5_spleen_volume', 'sample_6_liver_volume',\n",
       "       'sample_6_spleen_volume', 'sample_7_liver_volume',\n",
       "       'sample_7_spleen_volume', 'sample_8_liver_volume',\n",
       "       'sample_8_spleen_volume', 'sample_9_liver_volume',\n",
       "       'sample_9_spleen_volume', 'liver_volume', 'spleen_volume'],\n",
       "      dtype='object')"
      ]
     },
     "execution_count": 11,
     "metadata": {},
     "output_type": "execute_result"
    }
   ],
   "source": [
    "df_merge_difkey.columns"
   ]
  },
  {
   "cell_type": "code",
   "execution_count": 12,
   "metadata": {},
   "outputs": [
    {
     "name": "stderr",
     "output_type": "stream",
     "text": [
      "INFO:pystan:COMPILING THE C++ CODE FOR MODEL anon_model_cf0bad18dd10bfaad7121b50f010cda6 NOW.\n"
     ]
    }
   ],
   "source": [
    "schools_code = \"\"\"\n",
    "data {\n",
    "  int<lower=1> D; // Dimension of data 4\n",
    "  int<lower=0> N; // Number of samples (Num of Patients * MC samples)\n",
    "  real y[N]; // volume estimates\n",
    "  row_vector[D] x[N]; //\n",
    "}\n",
    "\n",
    "parameters {\n",
    "  real mu[D];\n",
    "  real<lower=0> sigma[D];\n",
    "  real<lower=0> global_sigma;\n",
    "  vector[D] beta;\n",
    "}\n",
    "\n",
    "model {\n",
    "  for (d in 1:D) {\n",
    "    mu[d] ~ normal(0, 100);\n",
    "    beta[d] ~ normal(mu[d], sigma[d]);\n",
    "  }\n",
    "  for (n in 1:N)\n",
    "    y[n] ~ normal(x[n] * beta, global_sigma);\n",
    "}\n",
    "\"\"\"\n",
    "\n",
    "sm = pystan.StanModel(model_code=schools_code)"
   ]
  },
  {
   "cell_type": "code",
   "execution_count": 13,
   "metadata": {},
   "outputs": [],
   "source": [
    "y = df_merge_difkey['diabetes_status'].values\n",
    "# sex = df_merge_difkey['sex'].values\n",
    "# age = df_merge_difkey['age'].values\n",
    "# bmi = df_merge_difkey['bmi-numeric'].values\n",
    "# vol = df_merge_difkey['liver_volume'].values\n",
    "x = df_merge_difkey[['liver_volume', 'age','bmi-numeric']].values\n"
   ]
  },
  {
   "cell_type": "code",
   "execution_count": 14,
   "metadata": {},
   "outputs": [],
   "source": [
    "schools_dat = {'D': 3,\n",
    "               'N': len(y),\n",
    "               'x': x,\n",
    "               'y': y}"
   ]
  },
  {
   "cell_type": "code",
   "execution_count": 15,
   "metadata": {},
   "outputs": [
    {
     "name": "stderr",
     "output_type": "stream",
     "text": [
      "WARNING:pystan:n_eff / iter below 0.001 indicates that the effective sample size has likely been overestimated\n",
      "WARNING:pystan:Rhat above 1.1 or below 0.9 indicates that the chains very likely have not mixed\n",
      "WARNING:pystan:49964 of 50000 iterations saturated the maximum tree depth of 10 (99.9 %)\n",
      "WARNING:pystan:Run again with max_treedepth larger than 10 to avoid saturation\n"
     ]
    }
   ],
   "source": [
    "\n",
    "fit = sm.sampling(data=schools_dat, iter=25000, chains=4, verbose=True)"
   ]
  },
  {
   "cell_type": "code",
   "execution_count": 16,
   "metadata": {},
   "outputs": [
    {
     "name": "stdout",
     "output_type": "stream",
     "text": [
      "Inference for Stan model: anon_model_cf0bad18dd10bfaad7121b50f010cda6.\n",
      "4 chains, each with iter=25000; warmup=12500; thin=1; \n",
      "post-warmup draws per chain=12500, total post-warmup draws=50000.\n",
      "\n",
      "               mean se_mean     sd   2.5%    25%    50%    75%  97.5%  n_eff   Rhat\n",
      "mu[1]         -5.02    4.27   18.3 -51.19 -11.27  -0.02   5.04  23.63     18   1.24\n",
      "mu[2]         -0.61    5.06   8.76 -18.47  -7.27   1.47    4.2  16.33      3   2.37\n",
      "mu[3]        -19.18   28.63  45.02 -136.3 -12.76   1.14   8.41  23.31      2   3.25\n",
      "sigma[1]     9.8e42  9.0e42 7.8e44   5.58 296.19  5.3e4  1.3e8 2.2e35   7515    1.0\n",
      "sigma[2]     2.2e15  2.2e15 2.6e16   1.49 185.12 3326.8  7.0e5 1.9e15    137   1.03\n",
      "sigma[3]     3.3e38  3.0e38 1.5e40   2.64 261.13  1.9e5 3.8e11 5.4e34   2366    1.0\n",
      "global_sigma   0.66  7.4e-4   0.04   0.59   0.63   0.66   0.68   0.74   2800    1.0\n",
      "beta[1]      3.8e-6  5.4e-8 3.1e-6-2.2e-6 1.8e-6 3.8e-6 5.9e-6 9.8e-6   3300    1.0\n",
      "beta[2]     -1.5e-3  1.1e-4 4.5e-3  -0.01-4.4e-3-1.5e-3 1.5e-3 7.3e-3   1590    1.0\n",
      "beta[3]      8.5e-3  3.8e-4   0.01  -0.02-1.0e-3 8.6e-3   0.02   0.04   1461    1.0\n",
      "lp__         -12.05    0.07   1.51 -15.84  -12.8 -11.72 -10.95 -10.11    495   1.02\n",
      "\n",
      "Samples were drawn using NUTS at Tue Aug 27 09:53:15 2019.\n",
      "For each parameter, n_eff is a crude measure of effective sample size,\n",
      "and Rhat is the potential scale reduction factor on split chains (at \n",
      "convergence, Rhat=1).\n"
     ]
    }
   ],
   "source": [
    "print(fit)"
   ]
  },
  {
   "cell_type": "code",
   "execution_count": 17,
   "metadata": {},
   "outputs": [
    {
     "name": "stderr",
     "output_type": "stream",
     "text": [
      "WARNING:pystan:Deprecation warning. In future, use ArviZ library (`pip install arviz`)\n"
     ]
    },
    {
     "data": {
      "image/png": "[encoded data removed]",
      "text/plain": [
       "<Figure size 432x288 with 8 Axes>"
      ]
     },
     "execution_count": 17,
     "metadata": {},
     "output_type": "execute_result"
    },
    {
     "data": {
      "image/png": "[encoded data removed]",
      "text/plain": [
       "<Figure size 432x288 with 8 Axes>"
      ]
     },
     "metadata": {
      "needs_background": "light"
     },
     "output_type": "display_data"
    }
   ],
   "source": [
    "fit.plot()"
   ]
  },
  {
   "cell_type": "code",
   "execution_count": null,
   "metadata": {},
   "outputs": [],
   "source": []
  },
  {
   "cell_type": "code",
   "execution_count": null,
   "metadata": {},
   "outputs": [],
   "source": []
  },
  {
   "cell_type": "code",
   "execution_count": null,
   "metadata": {},
   "outputs": [],
   "source": []
  },
  {
   "cell_type": "code",
   "execution_count": null,
   "metadata": {},
   "outputs": [],
   "source": [
    "# feats = ['age', 'alcohol-g/day', 'blood-pressure-diastolic',\n",
    "#        'blood-pressure-systolic', 'bmi-numeric', 'cholesterol-hdl',\n",
    "#        'cholesterol-ldl', 'cholesterol-total', 'hypertension', 'mri-liver-fat-artifacts',\n",
    "#        'mri-liver-fat-lobus-dexter', 'mri-liver-fat-lobus-sinister',\n",
    "#        'mri-liver-fat-portal-vein', 'sex',\n",
    "#        'smoking-packages', 'triglyceride', 'iou_spleen',\n",
    "#        'iou_liver',  'dice_spleen', 'dice_liver',\n",
    "#        'surface_distance_prtogt_spleen', 'surface_distance_prtogt_liver', 'surface_distance_gttopr_spleen',\n",
    "#        'surface_distance_gttopr_liver', 'liver_volume', 'spleen_volume']\n",
    "\n",
    "# feats = ['age', 'bmi-numeric',  'sex', 'iou_spleen',\n",
    "#        'iou_liver', 'liver_volume', 'spleen_volume']\n",
    "\n",
    "# # ('age',) 0.6071428571428571\n",
    "# # ('blood-pressure-systolic',) 0.75\n",
    "# # ('blood-pressure-systolic', 'triglyceride') 0.7857142857142857\n",
    "# # ('blood-pressure-systolic', 'hba1c-mmol/mol') 0.8214285714285714\n",
    "# # ('triglyceride', 'hba1c-mmol/mol') 0.8571428571428571\n",
    "# # ('mri-liver-fat-lobus-sinister', 'meds-antihypertensive') 0.8928571428571429\n",
    "# # ('age', 'blood-pressure-systolic', 'triglyceride', 'mri-liver-fat-lobus-dexter') 0.9285714285714286\n",
    "# # ('blood-pressure-systolic', 'triglyceride', 'alcohol-g/day', 'weight') 0.9642857142857143\n",
    "# # ('blood-pressure-systolic', 'triglyceride', 'alcohol-g/day', 'mri-liver-fat-lobus-sinister', 'blood-pressure-diastolic') 1.0\n",
    "\n",
    "# random.shuffle(feats)\n",
    "# print(feats)"
   ]
  },
  {
   "cell_type": "code",
   "execution_count": null,
   "metadata": {},
   "outputs": [],
   "source": [
    "# data = df_merge_difkey.copy()\n",
    "# y = data[\"diabetes_status\"].copy()\n",
    "# y[y == 3] = None\n",
    "# y.dropna(inplace=True)\n",
    "# y_classes = np.argmax(pd.get_dummies(y).values, axis=1)\n",
    "\n",
    "# # X = pd.get_dummies(data.loc[y.index, list(feats)], drop_first=True)\n",
    "# # model = LogisticRegression(multi_class=\"multinomial\", solver=\"lbfgs\").fit(X, y_classes)\n",
    "# # c_score = model.score(X, y_classes)\n",
    "# # print(c_score)\n",
    "\n",
    "# # best = 0\n",
    "# # max_score = {}\n",
    "# # for L in range(1, len(feats)+1):\n",
    "# #     for subset in itertools.combinations(feats, L):\n",
    "# # #         print(subset)\n",
    "# #         X = pd.get_dummies(data.loc[y.index, list(subset)], drop_first=True)\n",
    "# #         model = LogisticRegression(multi_class=\"multinomial\", solver=\"lbfgs\").fit(X, y_classes)\n",
    "# #         c_score = model.score(X, y_classes)\n",
    "# #         max_score[c_score] = subset\n",
    "# #         if c_score>best:\n",
    "# #             best = c_score\n",
    "# #             print(subset, c_score)\n",
    "\n",
    "# # with open('c_model_out_merged.txt', 'w+') as f:\n",
    "# #     f.write(json.dumps(max_score, indent=4))"
   ]
  },
  {
   "cell_type": "raw",
   "metadata": {},
   "source": [
    "('age',) 0.6071428571428571\n",
    "('blood-pressure-systolic',) 0.75\n",
    "('blood-pressure-systolic', 'triglyceride') 0.7857142857142857\n",
    "('blood-pressure-systolic', 'hba1c-mmol/mol') 0.8214285714285714\n",
    "('triglyceride', 'hba1c-mmol/mol') 0.8571428571428571\n",
    "('mri-liver-fat-lobus-sinister', 'meds-antihypertensive') 0.8928571428571429\n",
    "('age', 'blood-pressure-systolic', 'triglyceride', 'mri-liver-fat-lobus-dexter') 0.9285714285714286\n",
    "('blood-pressure-systolic', 'triglyceride', 'alcohol-g/day', 'weight') 0.9642857142857143\n",
    "('blood-pressure-systolic', 'triglyceride', 'alcohol-g/day', 'mri-liver-fat-lobus-sinister', 'blood-pressure-diastolic') 1.0"
   ]
  },
  {
   "cell_type": "code",
   "execution_count": null,
   "metadata": {},
   "outputs": [],
   "source": []
  },
  {
   "cell_type": "code",
   "execution_count": null,
   "metadata": {},
   "outputs": [],
   "source": []
  },
  {
   "cell_type": "code",
   "execution_count": null,
   "metadata": {},
   "outputs": [],
   "source": []
  }
 ],
 "metadata": {
  "kernelspec": {
   "display_name": "Python [conda env:tenv]",
   "language": "python",
   "name": "conda-env-tenv-py"
  },
  "language_info": {
   "codemirror_mode": {
    "name": "ipython",
    "version": 3
   },
   "file_extension": ".py",
   "mimetype": "text/x-python",
   "name": "python",
   "nbconvert_exporter": "python",
   "pygments_lexer": "ipython3",
   "version": "3.6.9"
  }
 },
 "nbformat": 4,
 "nbformat_minor": 2
}
