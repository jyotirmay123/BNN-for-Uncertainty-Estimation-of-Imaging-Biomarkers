{
 "cells": [
  {
   "cell_type": "code",
   "execution_count": 1,
   "metadata": {},
   "outputs": [],
   "source": [
    "import glob\n",
    "import nibabel as nb\n",
    "import numpy as np\n",
    "import matplotlib.pyplot as plt\n",
    "import nrrd\n",
    "import os\n",
    "\n",
    "%matplotlib inline\n"
   ]
  },
  {
   "cell_type": "code",
   "execution_count": null,
   "metadata": {},
   "outputs": [],
   "source": [
    "np.seterr(divide=None)\n",
    "np.divide(1.0, 0)"
   ]
  },
  {
   "cell_type": "code",
   "execution_count": null,
   "metadata": {},
   "outputs": [],
   "source": [
    "add(**a)"
   ]
  },
  {
   "cell_type": "code",
   "execution_count": null,
   "metadata": {},
   "outputs": [],
   "source": [
    "def nrrd_reader(file_path):\n",
    "    _nrrd = nrrd.read(file_path)\n",
    "    data = _nrrd[0]\n",
    "    header = _nrrd[1]\n",
    "    return data, header"
   ]
  },
  {
   "cell_type": "code",
   "execution_count": null,
   "metadata": {},
   "outputs": [],
   "source": [
    "\n",
    "def merge_annotations(annotations_root='/home/abhijit/Jyotirmay/thesis/Manual annotations/Finals/UKB/*', classes=['spleen', 'liver']):\n",
    "    paths = glob.glob(annotations_root)\n",
    "\n",
    "    for p in paths:\n",
    "        id_ = p.split('/')[-1]\n",
    "        print(id_)\n",
    "        annotations = glob.glob(p+'/**')\n",
    "        if len(annotations) > len(classes):\n",
    "            print('skipped')\n",
    "            continue\n",
    "\n",
    "        merged_annotations = None\n",
    "        data_ = {c:None for c in classes}\n",
    "        \n",
    "        for a in annotations:\n",
    "            data, header = nrrd_reader(a)\n",
    "            \n",
    "#             _ = [data_[c] = np.multiply(i, data) for i, c in enumerate(classes) if c.upper() in a.upper()]\n",
    "            \n",
    "            if 'SPLEEN' in a.upper():\n",
    "                data_['spleen'] = data\n",
    "            elif 'LIVER' in a.upper():\n",
    "                data_['liver'] = np.multiply(2, data)\n",
    "                \n",
    "        if data_['spleen'] is None or data_['liver'] is None:\n",
    "            print('skipped')\n",
    "            continue\n",
    "\n",
    "        merged_annotations = np.add(data_['spleen'],data_['liver'])\n",
    "        img = nb.Nifti1Image(merged_annotations, np.eye(4))\n",
    "        filename = '/'.join(annotations[0].split('/')[:-2])+'/'+id_+'_merged_annotations.nii.gz'\n",
    "        nb.save(img, filename)\n",
    "        \n",
    "merge_annotations()\n"
   ]
  },
  {
   "cell_type": "code",
   "execution_count": null,
   "metadata": {},
   "outputs": [],
   "source": [
    "x = '{0} helps {0}{1}'.format('JJ', 'c')\n",
    "print(x)"
   ]
  },
  {
   "cell_type": "code",
   "execution_count": null,
   "metadata": {},
   "outputs": [],
   "source": [
    "def decorator_with_arguments(function):\n",
    "    def wrapper_accepting_arguments(arg1, arg2):\n",
    "        print(\"My arguments are: {0}, {1}\".format(arg1,arg2))\n",
    "        function(arg1, arg2)\n",
    "    return wrapper_accepting_arguments\n",
    "\n",
    "\n",
    "@decorator_with_arguments\n",
    "def cities(city_one):\n",
    "    print(\"Cities I love are {0} and {1}\".format(city_one, city_two))\n",
    "\n",
    "cities(\"Nairobi\", \"Accra\")"
   ]
  },
  {
   "cell_type": "code",
   "execution_count": null,
   "metadata": {},
   "outputs": [],
   "source": [
    "\n"
   ]
  },
  {
   "cell_type": "code",
   "execution_count": 12,
   "metadata": {},
   "outputs": [],
   "source": [
    "\n",
    "def nrrd_reader(file_path):\n",
    "    _nrrd = nrrd.read(file_path)\n",
    "    data = _nrrd[0]\n",
    "    header = _nrrd[1]\n",
    "    return data, header\n",
    "\n",
    "def nibabel_reader(file_path):\n",
    "    volume_nifty = nb.load(file_path)\n",
    "    volume = volume_nifty.get_fdata()\n",
    "    return volume, volume_nifty.header\n",
    "\n",
    "def merge_annotations(id_):\n",
    "    print(id_)\n",
    "    p = f'/home/abhijit/nas_drive/Data_WholeBody/KORA/KORA_segs/ROI_liver_spleen_Daniel/{id_}'\n",
    "    labels = [\"Background\", \"Spleen\", \"Liver\"]\n",
    "    classes = labels[1:]  # Excluding background class.\n",
    "    excluded_volumes = []\n",
    "    label_dir = p\n",
    "    processed_extn = '.nii'\n",
    "    header = None\n",
    "    try:\n",
    "        annotations = glob.glob(p + '/**')\n",
    "        if len(annotations) > len(classes)+1:\n",
    "            print('skipped 1', len(annotations) )\n",
    "            excluded_volumes.append(id_)\n",
    "            return False\n",
    "\n",
    "        data_ = {c.lower(): None for c in classes}\n",
    "        print(annotations)\n",
    "        for a in annotations:\n",
    "            print(a)\n",
    "            if 'COMP_MASK' in a.upper():\n",
    "                print('skipped_comp_mask')\n",
    "                continue\n",
    "            ext = a.split('.')[-1]\n",
    "            if ext == \"nrrd\":\n",
    "                data, header = nrrd_reader(a)\n",
    "                if len(data.shape) > 3:\n",
    "                    data = data[:,:,:,0]\n",
    "            elif ext in ['gz', 'mgz', 'nii']:\n",
    "                data, header = nibabel_reader(a)\n",
    "                if len(data.shape) > 3:\n",
    "                    data = data[:,:,:,0]\n",
    "\n",
    "            if 'SPLEEN2D' in a.upper():\n",
    "                data_['spleen'] = data\n",
    "            elif 'LIVER2D' in a.upper():\n",
    "                data_['liver'] = np.multiply(2, data)\n",
    "\n",
    "        if data_['spleen'] is None or data_['liver'] is None:\n",
    "            excluded_volumes.append(id_)\n",
    "            print('skipped 2')\n",
    "            return False\n",
    "        print(data_['spleen'].shape, data_['liver'].shape)\n",
    "        print(np.unique(data_['spleen']), np.unique(data_['liver']))\n",
    "\n",
    "        merged_annotations = np.add(data_['spleen'], data_['liver'])\n",
    "        affine = affine = header.get_best_affine()\n",
    "        print(affine, header)\n",
    "        img = nb.Nifti1Image(merged_annotations, affine, header)\n",
    "        filename = os.path.join(label_dir, 'comp_mask' + processed_extn)\n",
    "        print(filename)\n",
    "        nb.save(img, filename)\n",
    "        \n",
    "        cdata = nb.load(filename)\n",
    "        header = cdata.header\n",
    "        data = cdata.get_fdata()\n",
    "        \n",
    "        print('check if all int:', np.unique(data), np.unique(np.round(data)))\n",
    "    except Exception as e:\n",
    "        print(e)\n",
    "        excluded_volumes.append(id_)\n",
    "    print(excluded_volumes)"
   ]
  },
  {
   "cell_type": "code",
   "execution_count": 13,
   "metadata": {},
   "outputs": [
    {
     "name": "stdout",
     "output_type": "stream",
     "text": [
      "KORA2453108\n",
      "['/home/abhijit/nas_drive/Data_WholeBody/KORA/KORA_segs/ROI_liver_spleen_Daniel/KORA2453108/liver2d.nii', '/home/abhijit/nas_drive/Data_WholeBody/KORA/KORA_segs/ROI_liver_spleen_Daniel/KORA2453108/spleen2d.nii', '/home/abhijit/nas_drive/Data_WholeBody/KORA/KORA_segs/ROI_liver_spleen_Daniel/KORA2453108/comp_mask.nii']\n",
      "/home/abhijit/nas_drive/Data_WholeBody/KORA/KORA_segs/ROI_liver_spleen_Daniel/KORA2453108/liver2d.nii\n",
      "/home/abhijit/nas_drive/Data_WholeBody/KORA/KORA_segs/ROI_liver_spleen_Daniel/KORA2453108/spleen2d.nii\n",
      "/home/abhijit/nas_drive/Data_WholeBody/KORA/KORA_segs/ROI_liver_spleen_Daniel/KORA2453108/comp_mask.nii\n",
      "skipped_comp_mask\n",
      "(293, 426, 160) (293, 426, 160)\n",
      "[0. 1.] [0. 2.]\n",
      "[[ -1.66666663   0.           0.         254.80715942]\n",
      " [  0.           0.          -1.69999695 111.92337799]\n",
      " [  0.          -1.66666663   0.         -21.8153553 ]\n",
      " [  0.           0.           0.           1.        ]] <class 'nibabel.nifti1.Nifti1Header'> object, endian='<'\n",
      "sizeof_hdr      : 348\n",
      "data_type       : b''\n",
      "db_name         : b''\n",
      "extents         : 0\n",
      "session_error   : 0\n",
      "regular         : b'r'\n",
      "dim_info        : 0\n",
      "dim             : [  4 293 426 160   4   1   1   1]\n",
      "intent_p1       : 0.0\n",
      "intent_p2       : 0.0\n",
      "intent_p3       : 0.0\n",
      "intent_code     : none\n",
      "datatype        : uint8\n",
      "bitpix          : 8\n",
      "slice_start     : 0\n",
      "pixdim          : [1.        1.6666666 1.6666666 1.699997  1.        0.        0.\n",
      " 0.       ]\n",
      "vox_offset      : 0.0\n",
      "scl_slope       : nan\n",
      "scl_inter       : nan\n",
      "slice_end       : 0\n",
      "slice_code      : unknown\n",
      "xyzt_units      : 2\n",
      "cal_max         : 0.0\n",
      "cal_min         : 0.0\n",
      "slice_duration  : 0.0\n",
      "toffset         : 0.0\n",
      "glmax           : 0\n",
      "glmin           : 0\n",
      "descrip         : b''\n",
      "aux_file        : b''\n",
      "qform_code      : aligned\n",
      "sform_code      : scanner\n",
      "quatern_b       : 0.0\n",
      "quatern_c       : 0.70710677\n",
      "quatern_d       : -0.70710677\n",
      "qoffset_x       : 254.80716\n",
      "qoffset_y       : 111.92338\n",
      "qoffset_z       : -21.815355\n",
      "srow_x          : [ -1.6666666   0.          0.        254.80716  ]\n",
      "srow_y          : [  0.         0.        -1.699997 111.92338 ]\n",
      "srow_z          : [  0.         -1.6666666   0.        -21.815355 ]\n",
      "intent_name     : b''\n",
      "magic           : b'n+1'\n",
      "/home/abhijit/nas_drive/Data_WholeBody/KORA/KORA_segs/ROI_liver_spleen_Daniel/KORA2453108/comp_mask.nii\n",
      "check if all int: [0.         1.00000002 2.00000004 3.00000006] [0. 1. 2. 3.]\n",
      "[]\n"
     ]
    }
   ],
   "source": [
    "cf = ['KORA2460543', 'KORA2456289', 'KORA2452381', 'KORA2459499', 'KORA2455951', 'KORA2460382', 'KORA2459095',\n",
    "      'KORA2460216', 'KORA2453108', 'KORA2458057', 'KORA2452542', 'KORA2452274', 'KORA2458926', 'KORA2460796', \n",
    "      'KORA2460611', 'KORA2456379', 'KORA2459818', 'KORA2456928', 'KORA2453290', 'KORA2455935', 'KORA2459258',\n",
    "      'KORA2458342', 'KORA2456199', 'KORA2453470', 'KORA2456202', 'KORA2456661', 'KORA2453218', 'KORA2460360', \n",
    "      'KORA2452885', 'KORA2459780', 'KORA2453172', 'KORA2453374', 'KORA2459994', 'KORA2452801', 'KORA2452834',\n",
    "      'KORA2460238']\n",
    "cf = ['KORA2453108',  'KORA2452542',  'KORA2453374']\n",
    "cf = ['KORA2453108']\n",
    "for c in cf:\n",
    "    merge_annotations(c)\n",
    "#     break"
   ]
  },
  {
   "cell_type": "code",
   "execution_count": null,
   "metadata": {},
   "outputs": [],
   "source": [
    "round(0.9996)"
   ]
  },
  {
   "cell_type": "raw",
   "metadata": {},
   "source": [
    "KORA2453108,  KORA2452542,  KORA2453374"
   ]
  },
  {
   "cell_type": "code",
   "execution_count": null,
   "metadata": {},
   "outputs": [],
   "source": [
    "round(2.)"
   ]
  },
  {
   "cell_type": "code",
   "execution_count": null,
   "metadata": {},
   "outputs": [],
   "source": []
  }
 ],
 "metadata": {
  "kernelspec": {
   "display_name": "Python [conda env:tenv]",
   "language": "python",
   "name": "conda-env-tenv-py"
  },
  "language_info": {
   "codemirror_mode": {
    "name": "ipython",
    "version": 3
   },
   "file_extension": ".py",
   "mimetype": "text/x-python",
   "name": "python",
   "nbconvert_exporter": "python",
   "pygments_lexer": "ipython3",
   "version": "3.6.9"
  }
 },
 "nbformat": 4,
 "nbformat_minor": 2
}
