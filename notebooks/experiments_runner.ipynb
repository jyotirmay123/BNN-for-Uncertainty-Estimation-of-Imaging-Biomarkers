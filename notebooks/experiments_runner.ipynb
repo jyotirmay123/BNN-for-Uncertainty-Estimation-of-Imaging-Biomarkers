{
 "cells": [
  {
   "cell_type": "code",
   "execution_count": 3,
   "metadata": {},
   "outputs": [
    {
     "name": "stdout",
     "output_type": "stream",
     "text": [
      "hello10\n"
     ]
    }
   ],
   "source": [
    "# Settings.update_system_status_values(self.dataset_config_path, 'DATA_CONFIG', 'is_pre_processed', 'True')\n",
    "\n",
    "#add and change vaues from config files.\n",
    "test_cases = [{\n",
    "    'train': False,\n",
    "    'model': 'quicknat_full_deep_bayesian_reversed_full',\n",
    "    'dataset': 'KORA'\n",
    "},\n",
    "{\n",
    "    'train': False,\n",
    "    'model': 'quicknat_full_deep_bayesian_reversed_full',\n",
    "    'dataset': 'NAKO'\n",
    "},\n",
    "{\n",
    "    'train': False,\n",
    "    'model': 'quicknat_full_deep_bayesian_reversed_full',\n",
    "    'dataset': 'UKB'\n",
    "}\n",
    "]\n",
    "i = 10\n",
    "print(f'hello{i}')\n"
   ]
  },
  {
   "cell_type": "code",
   "execution_count": 2,
   "metadata": {},
   "outputs": [
    {
     "ename": "ModuleNotFoundError",
     "evalue": "No module named 'torch'",
     "output_type": "error",
     "traceback": [
      "\u001b[0;31m---------------------------------------------------------------------------\u001b[0m",
      "\u001b[0;31mModuleNotFoundError\u001b[0m                       Traceback (most recent call last)",
      "\u001b[0;32m<ipython-input-2-cefb75261e16>\u001b[0m in \u001b[0;36m<module>\u001b[0;34m()\u001b[0m\n\u001b[1;32m      1\u001b[0m \u001b[0;32mfrom\u001b[0m \u001b[0msettings\u001b[0m \u001b[0;32mimport\u001b[0m \u001b[0mcompile_config\u001b[0m\u001b[0;34m\u001b[0m\u001b[0m\n\u001b[0;32m----> 2\u001b[0;31m \u001b[0;32mfrom\u001b[0m \u001b[0mrun\u001b[0m \u001b[0;32mimport\u001b[0m \u001b[0mExecutor\u001b[0m\u001b[0;34m\u001b[0m\u001b[0m\n\u001b[0m\u001b[1;32m      3\u001b[0m \u001b[0msettings_path\u001b[0m \u001b[0;34m=\u001b[0m \u001b[0;34m'/home/abhijit/Jyotirmay/thesis/hquicknat/settings.ini'\u001b[0m\u001b[0;34m\u001b[0m\u001b[0m\n\u001b[1;32m      4\u001b[0m \u001b[0msettings\u001b[0m \u001b[0;34m=\u001b[0m \u001b[0mcompile_config\u001b[0m\u001b[0;34m(\u001b[0m\u001b[0msettings_path\u001b[0m\u001b[0;34m)\u001b[0m\u001b[0;34m\u001b[0m\u001b[0m\n\u001b[1;32m      5\u001b[0m \u001b[0;34m\u001b[0m\u001b[0m\n",
      "\u001b[0;32m~/Jyotirmay/thesis/hquicknat/run.py\u001b[0m in \u001b[0;36m<module>\u001b[0;34m()\u001b[0m\n\u001b[1;32m      2\u001b[0m \u001b[0;32mimport\u001b[0m \u001b[0mos\u001b[0m\u001b[0;34m\u001b[0m\u001b[0m\n\u001b[1;32m      3\u001b[0m \u001b[0;34m\u001b[0m\u001b[0m\n\u001b[0;32m----> 4\u001b[0;31m \u001b[0;32mimport\u001b[0m \u001b[0mtorch\u001b[0m\u001b[0;34m\u001b[0m\u001b[0m\n\u001b[0m\u001b[1;32m      5\u001b[0m \u001b[0;32mimport\u001b[0m \u001b[0mtorch\u001b[0m\u001b[0;34m.\u001b[0m\u001b[0mnn\u001b[0m\u001b[0;34m.\u001b[0m\u001b[0minit\u001b[0m \u001b[0;32mas\u001b[0m \u001b[0minit\u001b[0m\u001b[0;34m\u001b[0m\u001b[0m\n\u001b[1;32m      6\u001b[0m \u001b[0;34m\u001b[0m\u001b[0m\n",
      "\u001b[0;31mModuleNotFoundError\u001b[0m: No module named 'torch'"
     ]
    }
   ],
   "source": [
    "from settings import compile_config\n",
    "from run import Executor\n",
    "settings_path = '/home/abhijit/Jyotirmay/thesis/hquicknat/settings.ini'\n",
    "settings = compile_config(settings_path)\n",
    "\n",
    "for test in test_cases:\n",
    "    Settings.update_system_status_values(self.dataset_config_path, 'DATA_CONFIG', 'is_pre_processed', 'True')\n",
    "common_params = executor.common_params\n",
    "data_params = executor.data_params\n",
    "net_params = executor.net_params\n",
    "train_params = executor.train_params\n",
    "eval_params = executor.eval_params\n",
    "data_config_params = executor.data_config_params\n",
    "eval_params.update(data_config_params)\n",
    "\n",
    "if args.mode == 'train':\n",
    "    executor.train(train_params, common_params, data_params, net_params)\n",
    "elif args.mode == 'eval':\n",
    "    executor.evaluate(eval_params, net_params, data_params, common_params, train_params)\n",
    "        \n",
    "executor = Executor(settings)\n",
    "\n",
    "\n",
    "Settings.update_system_status_values(self.dataset_config_path, 'DATA_CONFIG', 'is_pre_processed', 'True')"
   ]
  },
  {
   "cell_type": "code",
   "execution_count": 5,
   "metadata": {},
   "outputs": [
    {
     "name": "stdout",
     "output_type": "stream",
     "text": [
      "Python 3.5.3 :: Anaconda custom (64-bit)\r\n"
     ]
    }
   ],
   "source": [
    "!python --version"
   ]
  },
  {
   "cell_type": "code",
   "execution_count": 6,
   "metadata": {},
   "outputs": [
    {
     "name": "stdout",
     "output_type": "stream",
     "text": [
      "Traceback (most recent call last):\r\n",
      "  File \"/home/abhijit/anaconda3/lib/python3.6/site-packages/conda/exceptions.py\", line 1043, in __call__\r\n",
      "    return func(*args, **kwargs)\r\n",
      "  File \"/home/abhijit/anaconda3/lib/python3.6/site-packages/conda/cli/main.py\", line 84, in _main\r\n",
      "    exit_code = do_call(args, p)\r\n",
      "  File \"/home/abhijit/anaconda3/lib/python3.6/site-packages/conda/cli/conda_argparse.py\", line 80, in do_call\r\n",
      "    module = import_module(relative_mod, __name__.rsplit('.', 1)[0])\r\n",
      "  File \"/home/abhijit/anaconda3/lib/python3.6/importlib/__init__.py\", line 126, in import_module\r\n",
      "    return _bootstrap._gcd_import(name[level:], package, level)\r\n",
      "  File \"<frozen importlib._bootstrap>\", line 994, in _gcd_import\r\n",
      "  File \"<frozen importlib._bootstrap>\", line 971, in _find_and_load\r\n",
      "  File \"<frozen importlib._bootstrap>\", line 955, in _find_and_load_unlocked\r\n",
      "  File \"<frozen importlib._bootstrap>\", line 665, in _load_unlocked\r\n",
      "  File \"<frozen importlib._bootstrap_external>\", line 678, in exec_module\r\n",
      "  File \"<frozen importlib._bootstrap>\", line 219, in _call_with_frames_removed\r\n",
      "  File \"/home/abhijit/anaconda3/lib/python3.6/site-packages/conda/cli/main_update.py\", line 8, in <module>\r\n",
      "    from .install import install\r\n",
      "  File \"/home/abhijit/anaconda3/lib/python3.6/site-packages/conda/cli/install.py\", line 19, in <module>\r\n",
      "    from ..core.index import calculate_channel_urls, get_index\r\n",
      "  File \"/home/abhijit/anaconda3/lib/python3.6/site-packages/conda/core/index.py\", line 9, in <module>\r\n",
      "    from .package_cache_data import PackageCacheData\r\n",
      "  File \"/home/abhijit/anaconda3/lib/python3.6/site-packages/conda/core/package_cache_data.py\", line 15, in <module>\r\n",
      "    from conda_package_handling.api import InvalidArchiveError\r\n",
      "  File \"/home/abhijit/anaconda3/lib/python3.6/site-packages/conda_package_handling/api.py\", line 3, in <module>\r\n",
      "    from libarchive.exception import ArchiveError as _LibarchiveArchiveError\r\n",
      "  File \"/home/abhijit/anaconda3/lib/python3.6/site-packages/libarchive/__init__.py\", line 1, in <module>\r\n",
      "    from .entry import ArchiveEntry\r\n",
      "  File \"/home/abhijit/anaconda3/lib/python3.6/site-packages/libarchive/entry.py\", line 6, in <module>\r\n",
      "    from . import ffi\r\n",
      "  File \"/home/abhijit/anaconda3/lib/python3.6/site-packages/libarchive/ffi.py\", line 27, in <module>\r\n",
      "    libarchive = ctypes.cdll.LoadLibrary(libarchive_path)\r\n",
      "  File \"/home/abhijit/anaconda3/lib/python3.6/ctypes/__init__.py\", line 426, in LoadLibrary\r\n",
      "    return self._dlltype(name)\r\n",
      "  File \"/home/abhijit/anaconda3/lib/python3.6/ctypes/__init__.py\", line 348, in __init__\r\n",
      "    self._handle = _dlopen(self._name, mode)\r\n",
      "OSError: /usr/lib/x86_64-linux-gnu/libstdc++.so.6: version `CXXABI_1.3.8' not found (required by /home/abhijit/anaconda3/lib/././libicuuc.so.58)\r\n",
      "\r\n",
      "During handling of the above exception, another exception occurred:\r\n",
      "\r\n",
      "Traceback (most recent call last):\r\n",
      "  File \"/home/abhijit/anaconda3/envs/deep_learning/bin/conda\", line 13, in <module>\r\n",
      "    sys.exit(main())\r\n",
      "  File \"/home/abhijit/anaconda3/lib/python3.6/site-packages/conda/cli/main.py\", line 150, in main\r\n",
      "    return conda_exception_handler(_main, *args, **kwargs)\r\n",
      "  File \"/home/abhijit/anaconda3/lib/python3.6/site-packages/conda/exceptions.py\", line 1335, in conda_exception_handler\r\n",
      "    return_value = exception_handler(func, *args, **kwargs)\r\n",
      "  File \"/home/abhijit/anaconda3/lib/python3.6/site-packages/conda/exceptions.py\", line 1046, in __call__\r\n",
      "    return self.handle_exception(exc_val, exc_tb)\r\n",
      "  File \"/home/abhijit/anaconda3/lib/python3.6/site-packages/conda/exceptions.py\", line 1090, in handle_exception\r\n",
      "    return self.handle_unexpected_exception(exc_val, exc_tb)\r\n",
      "  File \"/home/abhijit/anaconda3/lib/python3.6/site-packages/conda/exceptions.py\", line 1101, in handle_unexpected_exception\r\n",
      "    self.print_unexpected_error_report(error_report)\r\n",
      "  File \"/home/abhijit/anaconda3/lib/python3.6/site-packages/conda/exceptions.py\", line 1171, in print_unexpected_error_report\r\n",
      "    from .cli.main_info import get_env_vars_str, get_main_info_str\r\n",
      "  File \"/home/abhijit/anaconda3/lib/python3.6/site-packages/conda/cli/main_info.py\", line 19, in <module>\r\n",
      "    from ..core.index import _supplement_index_with_system\r\n",
      "  File \"/home/abhijit/anaconda3/lib/python3.6/site-packages/conda/core/index.py\", line 9, in <module>\r\n",
      "    from .package_cache_data import PackageCacheData\r\n",
      "  File \"/home/abhijit/anaconda3/lib/python3.6/site-packages/conda/core/package_cache_data.py\", line 15, in <module>\r\n",
      "    from conda_package_handling.api import InvalidArchiveError\r\n",
      "  File \"/home/abhijit/anaconda3/lib/python3.6/site-packages/conda_package_handling/api.py\", line 7, in <module>\r\n",
      "    from .tarball import CondaTarBZ2 as _CondaTarBZ2\r\n",
      "  File \"/home/abhijit/anaconda3/lib/python3.6/site-packages/conda_package_handling/tarball.py\", line 7, in <module>\r\n",
      "    import libarchive\r\n",
      "  File \"/home/abhijit/anaconda3/lib/python3.6/site-packages/libarchive/__init__.py\", line 1, in <module>\r\n",
      "    from .entry import ArchiveEntry\r\n",
      "  File \"/home/abhijit/anaconda3/lib/python3.6/site-packages/libarchive/entry.py\", line 6, in <module>\r\n",
      "    from . import ffi\r\n",
      "  File \"/home/abhijit/anaconda3/lib/python3.6/site-packages/libarchive/ffi.py\", line 27, in <module>\r\n",
      "    libarchive = ctypes.cdll.LoadLibrary(libarchive_path)\r\n",
      "  File \"/home/abhijit/anaconda3/lib/python3.6/ctypes/__init__.py\", line 426, in LoadLibrary\r\n",
      "    return self._dlltype(name)\r\n",
      "  File \"/home/abhijit/anaconda3/lib/python3.6/ctypes/__init__.py\", line 348, in __init__\r\n",
      "    self._handle = _dlopen(self._name, mode)\r\n",
      "OSError: /usr/lib/x86_64-linux-gnu/libstdc++.so.6: version `CXXABI_1.3.8' not found (required by /home/abhijit/anaconda3/lib/././libicuuc.so.58)\r\n"
     ]
    }
   ],
   "source": [
    "! conda update python"
   ]
  },
  {
   "cell_type": "code",
   "execution_count": null,
   "metadata": {
    "collapsed": true
   },
   "outputs": [],
   "source": []
  }
 ],
 "metadata": {
  "kernelspec": {
   "display_name": "Python (3.6.2)",
   "language": "python",
   "name": "py362"
  },
  "language_info": {
   "codemirror_mode": {
    "name": "ipython",
    "version": 3
   },
   "file_extension": ".py",
   "mimetype": "text/x-python",
   "name": "python",
   "nbconvert_exporter": "python",
   "pygments_lexer": "ipython3",
   "version": "3.6.2"
  }
 },
 "nbformat": 4,
 "nbformat_minor": 2
}
