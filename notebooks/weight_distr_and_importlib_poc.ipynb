{
 "cells": [
  {
   "cell_type": "code",
   "execution_count": null,
   "metadata": {},
   "outputs": [],
   "source": [
    "import torch\n",
    "from torch.distributions import normal, constraints\n",
    "import matplotlib.pyplot as plt\n",
    "\n",
    "%matplotlib inline\n",
    "from scipy.stats import truncnorm\n",
    "def get_truncated_normal(mean=0, sd=1, low=0, upp=10):\n",
    "    return truncnorm(torch.tensor((low - mean) / sd), torch.tensor((upp - mean) / sd), loc=torch.tensor(mean), scale=torch.tensor(sd))"
   ]
  },
  {
   "cell_type": "code",
   "execution_count": null,
   "metadata": {},
   "outputs": [],
   "source": [
    "gen = normal.Normal(torch.tensor(0.0), torch.tensor(0.1))#, \n"
   ]
  },
  {
   "cell_type": "code",
   "execution_count": null,
   "metadata": {},
   "outputs": [],
   "source": [
    "x = gen.sample((5, 64, 256, 176))\n",
    "x = x\n",
    "c = constraints.integer_interval(torch.tensor(-0.5), torch.tensor(0.5))\n",
    "print(c)\n",
    "j = c.check(x)\n",
    "#print(j)\n",
    "x = x.numpy()\n",
    "x = x.reshape(-1)\n",
    "print(x.shape)\n",
    "import numpy as np\n",
    "print(np.max(x), np.min(x), np.mean(x), np.std(x))"
   ]
  },
  {
   "cell_type": "code",
   "execution_count": null,
   "metadata": {},
   "outputs": [],
   "source": [
    "#plt.plot(range(100), x.numpy())\n",
    "#plt.show()"
   ]
  },
  {
   "cell_type": "code",
   "execution_count": null,
   "metadata": {},
   "outputs": [],
   "source": [
    "fig, ax = plt.subplots(3, sharex=True)\n",
    "\n",
    "ax[0].hist(x, normed=True)\n",
    "ax[1].hist(x, normed=True)\n",
    "ax[2].hist(x, normed=True)\n",
    "plt.show()"
   ]
  },
  {
   "cell_type": "code",
   "execution_count": 4,
   "metadata": {},
   "outputs": [],
   "source": [
    "from importlib import import_module\n",
    "import importlib"
   ]
  },
  {
   "cell_type": "code",
   "execution_count": 5,
   "metadata": {},
   "outputs": [],
   "source": [
    "def dynamic_import(abs_module_path, class_name, package):\n",
    "    module_object = import_module(abs_module_path, package)\n",
    "\n",
    "    target_class = getattr(module_object, class_name)\n",
    "\n",
    "    return target_class"
   ]
  },
  {
   "cell_type": "code",
   "execution_count": null,
   "metadata": {},
   "outputs": [],
   "source": [
    "from pkg.punet.solver import Solver"
   ]
  },
  {
   "cell_type": "code",
   "execution_count": null,
   "metadata": {},
   "outputs": [],
   "source": [
    "from pkg.quickNAT_pytorch.solver import Solver"
   ]
  },
  {
   "cell_type": "code",
   "execution_count": null,
   "metadata": {},
   "outputs": [],
   "source": [
    "q_c = dynamic_import('quickNAT_pytorch⁩', 'solver', 'pkg')"
   ]
  },
  {
   "cell_type": "code",
   "execution_count": 9,
   "metadata": {},
   "outputs": [
    {
     "name": "stdout",
     "output_type": "stream",
     "text": [
      "Loader: <_frozen_importlib_external.SourceFileLoader object at 0x117c555f8>\n",
      "Module: <module 'pkg.punet.solver' from '/Users/jyotirmaysenapati/Desktop/thesis/pkg/punet/solver.py'>\n"
     ]
    }
   ],
   "source": [
    "spec = importlib.util.find_spec('.solver', package='pkg.punet')\n",
    "print('Loader:', spec.loader)\n",
    "\n",
    "m = spec.loader.load_module()\n",
    "print('Module:', m)"
   ]
  },
  {
   "cell_type": "code",
   "execution_count": 11,
   "metadata": {},
   "outputs": [
    {
     "data": {
      "text/plain": [
       "<module 'pkg.punet.ncm.losses' from '/Users/jyotirmaysenapati/Desktop/thesis/pkg/punet/ncm/losses.py'>"
      ]
     },
     "execution_count": 11,
     "metadata": {},
     "output_type": "execute_result"
    }
   ],
   "source": [
    "m.additional_losses\n"
   ]
  },
  {
   "cell_type": "code",
   "execution_count": null,
   "metadata": {},
   "outputs": [],
   "source": []
  }
 ],
 "metadata": {
  "kernelspec": {
   "display_name": "Python 3",
   "language": "python",
   "name": "python3"
  },
  "language_info": {
   "codemirror_mode": {
    "name": "ipython",
    "version": 3
   },
   "file_extension": ".py",
   "mimetype": "text/x-python",
   "name": "python",
   "nbconvert_exporter": "python",
   "pygments_lexer": "ipython3",
   "version": "3.6.5"
  }
 },
 "nbformat": 4,
 "nbformat_minor": 2
}
